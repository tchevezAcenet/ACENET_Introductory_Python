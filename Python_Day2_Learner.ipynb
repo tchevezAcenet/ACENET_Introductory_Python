{
 "cells": [
  {
   "cell_type": "markdown",
   "id": "63e898b2-aee5-48d0-aa1c-47807c346346",
   "metadata": {},
   "source": [
    "# Introductory Programming with Python (Part 2)\n",
    "## Modules\n",
    "In Python, a module is simply a file that contains Python code, typically functions, classes, and variables, which you can reuse in other programs. \n",
    "\n",
    "**Modules** help organize code, avoid repetition, and keep it easy to maintain. You can create your own module by saving a .py file with your code or use one of Python’s many built-in modules, like *math*, *datetime*, or *random*, which provide various functionalities."
   ]
  },
  {
   "cell_type": "markdown",
   "id": "03a90e65-84db-4ae1-9b17-f1a66dd6fc2a",
   "metadata": {},
   "source": [
    "### Importing Modules\n",
    "To use a module in your code, you import it using the import statement. For example:"
   ]
  },
  {
   "cell_type": "code",
   "execution_count": 3,
   "id": "15de8b8f-6c1e-4b0a-b187-9184d878697d",
   "metadata": {},
   "outputs": [],
   "source": [
    "# your code here"
   ]
  },
  {
   "cell_type": "code",
   "execution_count": 5,
   "id": "32ee7377-bac9-4542-ac9d-6f9e1fe65b5e",
   "metadata": {},
   "outputs": [],
   "source": [
    "# your code here"
   ]
  },
  {
   "cell_type": "markdown",
   "id": "5b24d495-ae7b-4d82-80ae-ec4759f48206",
   "metadata": {},
   "source": [
    "Here, we import the math module and then use its **sqrt()** function to calculate the square root of 16."
   ]
  },
  {
   "cell_type": "markdown",
   "id": "7d867cb2-841a-426c-b70d-49dc92c17676",
   "metadata": {},
   "source": [
    "### Importing Specific Functions\n",
    "If you only need specific functions from a module, you can import them directly:"
   ]
  },
  {
   "cell_type": "code",
   "execution_count": 7,
   "id": "8f3a2ab1-82e0-4239-a543-ea9765087633",
   "metadata": {},
   "outputs": [],
   "source": [
    "# your code here"
   ]
  },
  {
   "cell_type": "markdown",
   "id": "9779022f-fe5c-4a34-a560-6b0fb6fd7737",
   "metadata": {},
   "source": [
    "This allows you to use pi and sqrt() directly without referencing math."
   ]
  },
  {
   "cell_type": "markdown",
   "id": "464fd48f-73e2-43ef-9618-cda2fcfa6bb4",
   "metadata": {},
   "source": [
    "### Custom Modules\n",
    "To create a custom module, you write Python code in a *.py* file. For example, if you have a file called **mymath.py** with the following content:"
   ]
  },
  {
   "cell_type": "raw",
   "id": "735baa5e-ca89-467a-9da3-aca58bc1ee7b",
   "metadata": {},
   "source": [
    "def add(a, b):\n",
    "    return a + b\n",
    "\n",
    "def subtract(a, b):\n",
    "    return a - b"
   ]
  },
  {
   "cell_type": "markdown",
   "id": "8374f2ad-abca-4a62-b459-0645de1faddb",
   "metadata": {},
   "source": [
    "You can import and use these functions in another Python file as follows:"
   ]
  },
  {
   "cell_type": "code",
   "execution_count": 9,
   "id": "da39ae39-3258-4e14-bffe-f9148ff1c95f",
   "metadata": {},
   "outputs": [
    {
     "ename": "ModuleNotFoundError",
     "evalue": "No module named 'mymath'",
     "output_type": "error",
     "traceback": [
      "\u001b[1;31m---------------------------------------------------------------------------\u001b[0m",
      "\u001b[1;31mModuleNotFoundError\u001b[0m                       Traceback (most recent call last)",
      "Cell \u001b[1;32mIn[9], line 1\u001b[0m\n\u001b[1;32m----> 1\u001b[0m \u001b[38;5;28;01mimport\u001b[39;00m \u001b[38;5;21;01mmymath\u001b[39;00m \n\u001b[0;32m      2\u001b[0m \u001b[38;5;28mprint\u001b[39m(mymath\u001b[38;5;241m.\u001b[39madd(\u001b[38;5;241m3\u001b[39m,\u001b[38;5;241m5\u001b[39m))\n\u001b[0;32m      3\u001b[0m \u001b[38;5;28mprint\u001b[39m(mymath\u001b[38;5;241m.\u001b[39msubtract(\u001b[38;5;241m10\u001b[39m,\u001b[38;5;241m4\u001b[39m))\n",
      "\u001b[1;31mModuleNotFoundError\u001b[0m: No module named 'mymath'"
     ]
    }
   ],
   "source": [
    "import mymath \n",
    "print(mymath.add(3,5))\n",
    "print(mymath.subtract(10,4))"
   ]
  },
  {
   "cell_type": "markdown",
   "id": "8a47144d-1254-40a0-a70d-a323760e6279",
   "metadata": {},
   "source": [
    "### Benefits of Using Modules\n",
    "- **Reusability:** Write code once and use it across multiple programs.\n",
    "- **Organization:** Helps keep code organized and readable, especially for large projects.\n",
    "- **Built-in Functionality:** Python’s standard library has many modules, so you don’t have to write everything from scratch."
   ]
  },
  {
   "cell_type": "markdown",
   "id": "6a5e414c-0c2a-44b4-917a-09eaaf99fd2b",
   "metadata": {},
   "source": [
    "## Introduction to Libraries\n",
    "\n",
    "In Python, a library is a collection of modules that provide reusable code to help programmers perform various tasks without having to write everything from scratch. Libraries enhance productivity by allowing developers to leverage existing functionality for common tasks, promoting efficiency and reducing redundancy in code."
   ]
  },
  {
   "cell_type": "markdown",
   "id": "12ba0679-9877-4482-96d5-b173fe39ccfd",
   "metadata": {},
   "source": [
    "### Examples of Popular Libraries\n",
    "- **NumPy:** A fundamental library for numerical computing, NumPy provides support for arrays and matrices, along with a wide range of mathematical functions.\n",
    "\n",
    "- **Pandas:** This library is invaluable for data analysis and manipulation. It allows users to work with structured data in the form of DataFrames and Series, making it ideal for handling large datasets.\n",
    "\n",
    "- **Matplotlib:** A powerful library for data visualization, Matplotlib enables users to create static, interactive, and animated visualizations to effectively present data insights."
   ]
  },
  {
   "cell_type": "markdown",
   "id": "fd3d4e7a-0353-43de-90c6-676b5c628c6f",
   "metadata": {},
   "source": [
    "Libraries are important tools in Python that help programmers work more efficiently. They provide ready-made code that can be reused, making it easier to complete common tasks without starting from scratch. By using libraries, developers can solve complicated problems more easily and concentrate on the bigger picture of their projects. "
   ]
  },
  {
   "cell_type": "markdown",
   "id": "4a154270-4446-4835-adc9-640e59c3a001",
   "metadata": {},
   "source": [
    "# Numpy\n",
    "\n",
    "NumPy, which stands for Numerical Python, is a powerful library in Python that helps with numerical and scientific computing. It allows you to work with large, multi-dimensional arrays (think of them as grids of numbers) and provides many mathematical functions to perform calculations on these arrays quickly and easily.\n",
    "\n",
    "### Why Use NumPy?\n",
    "- **Speed:** NumPy is much faster than using regular Python lists for numerical calculations. It’s written in C, which helps it run faster. When you use NumPy, you can perform operations on big sets of data quickly.\n",
    "\n",
    "- **Convenience:** With NumPy, you can do calculations on entire arrays without writing long loops. For example, adding two arrays together can be done in just one line of code.\n",
    "\n",
    "- **Useful Functions:** NumPy has many built-in functions for doing complex math. This is really helpful in fields like oceanography, where scientists need to work with large amounts of data and perform a lot of calculations."
   ]
  },
  {
   "cell_type": "markdown",
   "id": "ddb80f8d-5445-4bd9-ad7d-78ea3d826942",
   "metadata": {},
   "source": [
    "## Arrays\n",
    "An **array** is a list of items stored one after another in memory. In NumPy, an array is a collection of values arranged in a grid, where all values are the same type (like all numbers or all text)."
   ]
  },
  {
   "cell_type": "markdown",
   "id": "b13dd818-308f-4143-8003-7639eabc1097",
   "metadata": {},
   "source": [
    "To use NumPy, we first need to import it:"
   ]
  },
  {
   "cell_type": "code",
   "execution_count": 11,
   "id": "2f448804-737f-445f-af04-222045815330",
   "metadata": {},
   "outputs": [],
   "source": [
    "# your code here"
   ]
  },
  {
   "cell_type": "markdown",
   "id": "5fff6a8f-04bc-4ba7-8a08-64e27b21fcdf",
   "metadata": {},
   "source": [
    "### Creating a 1D Array\n",
    "You can create a 1D array using the **np.array()** function. Here’s how:"
   ]
  },
  {
   "cell_type": "code",
   "execution_count": 13,
   "id": "53cd488e-fd1c-4a83-9d96-4f21a6ea44b8",
   "metadata": {},
   "outputs": [],
   "source": [
    "# Creating a 1D array\n",
    "# your code here"
   ]
  },
  {
   "cell_type": "markdown",
   "id": "0a70516d-674c-4bb8-81ea-c98a9a822a1f",
   "metadata": {},
   "source": [
    "### Advantages of NumPy Arrays Over Python Lists\n",
    "- **Homogeneous:** All elements in a NumPy array must be of the same type, whereas Python lists can contain mixed types.\n",
    "- **Performance:** NumPy arrays are more memory efficient and faster for numerical computations compared to lists.\n",
    "- **Functionality:** NumPy provides a range of built-in functions that are specifically optimized for working with arrays."
   ]
  },
  {
   "cell_type": "markdown",
   "id": "1d23e56c-3cb5-4e0e-bddb-f63cf9758e27",
   "metadata": {},
   "source": [
    "### Creating a 2D Array\n",
    "To create a 2D array, pass a list of lists to **np.array()**:"
   ]
  },
  {
   "cell_type": "code",
   "execution_count": 15,
   "id": "bd0667d3-90d8-49a3-961e-4d9cab220e55",
   "metadata": {},
   "outputs": [],
   "source": [
    "# Creating a 2D array\n",
    "# your code here"
   ]
  },
  {
   "cell_type": "markdown",
   "id": "1bac5a4e-3502-44ab-8992-c07b2a0374af",
   "metadata": {},
   "source": [
    "### Creating Arrays with Built-in Functions\n",
    "\n",
    "NumPy provides several built-in functions to create arrays quickly:\n",
    "\n",
    "- **np.zeros(shape)**: Creates an array filled with zeros.\n",
    "- **np.ones(shape)**: Creates an array filled with ones.\n",
    "- **np.arange(start, stop, step)**: Creates an array with a range of values.\n",
    "- **np.linspace(start, stop, num)**: Creates an array of evenly spaced numbers."
   ]
  },
  {
   "cell_type": "code",
   "execution_count": 19,
   "id": "50519dd5-bf9b-4e8d-89e8-f6b1d7adb397",
   "metadata": {},
   "outputs": [],
   "source": [
    "# Using built-in functions\n",
    "# your code here"
   ]
  },
  {
   "cell_type": "markdown",
   "id": "c5d06b96-57d8-487b-b947-2e7b2f2f2a98",
   "metadata": {},
   "source": [
    "In this example:\n",
    "\n",
    "- **np.zeros((2, 3))** creates a 2x3 array filled with zeros.\n",
    "- **np.ones((2, 3))** creates a 2x3 array filled with ones.\n",
    "- **np.arange(0, 10, 2)** generates a 1D array with values from 0 to 10, stepping by 2.\n",
    "- **np.linspace(0, 1, 5)** creates an array of 5 evenly spaced numbers between 0 and 1.\n"
   ]
  },
  {
   "cell_type": "markdown",
   "id": "c425890d-935e-483e-ba80-382c5d3f5e1b",
   "metadata": {},
   "source": [
    "### Array Properties\n",
    "You can check important properties of a NumPy array, such as its shape, size, and data type:"
   ]
  },
  {
   "cell_type": "code",
   "execution_count": 21,
   "id": "b54027cd-ce85-4c89-a2dc-fbe39f11e6f0",
   "metadata": {},
   "outputs": [],
   "source": [
    "# your code here"
   ]
  },
  {
   "cell_type": "markdown",
   "id": "280fb6b8-622a-4324-904d-91a263fe82c7",
   "metadata": {},
   "source": [
    "**This code retrieves:**\n",
    "\n",
    "- The shape of the 2D array, which tells you the dimensions (rows and columns).\n",
    "- The size of the array, indicating the total number of elements.\n",
    "- The data type of the elements in the array, which shows the kind of data stored (e.g., integers, floats)."
   ]
  },
  {
   "cell_type": "markdown",
   "id": "63b3278c-069d-48d7-8254-a393457838d7",
   "metadata": {},
   "source": [
    "### Basic Arithmetic Operations\n",
    "\n",
    "NumPy allows you to perform element-wise arithmetic operations on arrays:"
   ]
  },
  {
   "cell_type": "code",
   "execution_count": 27,
   "id": "01616da6-ee20-4c9d-a625-a920b18fd998",
   "metadata": {},
   "outputs": [],
   "source": [
    "# Element-wise addition\n",
    "# your code here\n",
    "\n",
    "# Element-wise multiplication\n",
    "# your code here"
   ]
  },
  {
   "cell_type": "markdown",
   "id": "4296c0ef-0b7a-429d-94d7-84eecf732e98",
   "metadata": {},
   "source": [
    "In this example, we create *two 1D arrays*, **arr_a** and **arr_b**, and add them together. \n",
    "\n",
    "Also, we perform element-wise multiplication. Each element of **arr_a** is multiplied by the corresponding element of **arr_b**, resulting in a new array of products."
   ]
  },
  {
   "cell_type": "markdown",
   "id": "7e740696-e6da-43e8-8eda-667698a05de9",
   "metadata": {},
   "source": [
    "### NumPy Universal Functions\n",
    "\n",
    "NumPy provides a variety of universal functions that operate element-wise on arrays. These functions include mathematical operations, trigonometric functions, and statistical calculations. Statistical functions are particularly useful for analyzing data and obtaining insights from numerical arrays.\n",
    "\n",
    "- **Mean:** Calculates the average value of the array elements.\n",
    "- **Median:** Finds the middle value when the elements are sorted.\n",
    "- **Standard Deviation:** Measures the amount of variation or dispersion in the dataset.\n",
    "\n",
    "Here’s how to use these functions:"
   ]
  },
  {
   "cell_type": "code",
   "execution_count": 30,
   "id": "c6ee7998-464e-4d47-a97a-56c4145f43b9",
   "metadata": {},
   "outputs": [],
   "source": [
    "data = np.array([1, 2, 3, 4, 5])\n",
    "\n",
    "# your code here"
   ]
  },
  {
   "cell_type": "markdown",
   "id": "345e2aa6-c8f5-4eb2-8fe7-77f3ad0e8b69",
   "metadata": {},
   "source": [
    "We can also find the minimum and maximum values in an array:"
   ]
  },
  {
   "cell_type": "code",
   "execution_count": 32,
   "id": "fc25c3f8-bcd6-4ead-9346-44d0a04d84a3",
   "metadata": {},
   "outputs": [],
   "source": [
    "# Calculate minimum and maximum values\n",
    "# your code here"
   ]
  },
  {
   "cell_type": "markdown",
   "id": "8c82b6e4-c4b6-48b8-b0a6-4b39f95a5af2",
   "metadata": {},
   "source": [
    "Also, we can compute the correlation coefficient between two datasets:"
   ]
  },
  {
   "cell_type": "code",
   "execution_count": 34,
   "id": "8e362a0b-f02b-4b69-9981-1c2af8e3621f",
   "metadata": {},
   "outputs": [],
   "source": [
    "# Example arrays for correlation\n",
    "arr_x = np.array([1, 2, 3, 4, 5])\n",
    "arr_y = np.array([5, 4, 3, 2, 1])\n",
    "\n",
    "# Calculate correlation coefficient\n",
    "# your code here"
   ]
  },
  {
   "cell_type": "markdown",
   "id": "1c8d8201-cd26-40ac-a7f6-6c1803e48326",
   "metadata": {},
   "source": [
    "The correlation coefficient matrix shows the relationship between **arr_x** and **arr_y**. A value close to -1 indicates a strong negative correlation, while a value close to 1 indicates a strong positive correlation."
   ]
  },
  {
   "cell_type": "markdown",
   "id": "de229522-fcd8-42b3-bbab-1cc3c65e8e70",
   "metadata": {},
   "source": [
    "### Other Operations\n",
    "#### Indexing\n",
    "\n",
    "You can access individual elements of an array using indexing:"
   ]
  },
  {
   "cell_type": "code",
   "execution_count": 36,
   "id": "41975b80-d5db-44d4-b143-83dd452f030b",
   "metadata": {},
   "outputs": [],
   "source": [
    "arr_1d = np.array([1, 2, 3, 4, 5])\n",
    "# your code here"
   ]
  },
  {
   "cell_type": "markdown",
   "id": "be904193-30f8-4f99-b6c6-75d25bd9e85e",
   "metadata": {},
   "source": [
    "This code retrieves the first element of the 1D array **arr_1d** and the element located at row 1, column 2 in the 2D array **arr_2d**."
   ]
  },
  {
   "cell_type": "markdown",
   "id": "97318ea5-ee3f-443f-ae52-bbc5df320d96",
   "metadata": {},
   "source": [
    "#### Slicing\n",
    "Slicing allows you to access a subset of an array:"
   ]
  },
  {
   "cell_type": "code",
   "execution_count": 38,
   "id": "5ab65891-dce3-4d38-a578-dca30d7f45f6",
   "metadata": {},
   "outputs": [],
   "source": [
    "# Slicing a 1D array\n",
    "# your code here"
   ]
  },
  {
   "cell_type": "markdown",
   "id": "65c2e38d-e7a8-4d69-884e-808aa94ea404",
   "metadata": {},
   "source": [
    "This retrieves a slice of the 1D array, including elements from index 1 up to, but not including, index 4."
   ]
  },
  {
   "cell_type": "code",
   "execution_count": 40,
   "id": "74d9e8e7-72c8-4031-a91f-096f9d926bab",
   "metadata": {},
   "outputs": [],
   "source": [
    "# Slicing a 2D array\n",
    "# your code here"
   ]
  },
  {
   "cell_type": "markdown",
   "id": "4003d119-183e-4b4f-9341-3674cc54de0c",
   "metadata": {},
   "source": [
    "Here, we extract the first row of the 2D array and the second column using slicing. The : operator means \"select all elements in this dimension.\""
   ]
  },
  {
   "cell_type": "markdown",
   "id": "14c77440-2d06-46b0-9888-ee71b9413cea",
   "metadata": {},
   "source": [
    "#### Reshaping Arrays\n",
    "You can change the shape of an array without changing its data using the **reshape()** method:"
   ]
  },
  {
   "cell_type": "code",
   "execution_count": 42,
   "id": "eb2e6a16-f86f-4c3a-972a-d4094c68c78e",
   "metadata": {},
   "outputs": [],
   "source": [
    "# your code here"
   ]
  },
  {
   "cell_type": "markdown",
   "id": "1db96422-bda6-4000-8d2e-1f192a4799e8",
   "metadata": {},
   "source": [
    "In this code, we reshape the 1D array arr_1d into a 5x1 array. The total number of elements remains the same, but the structure changes."
   ]
  },
  {
   "cell_type": "markdown",
   "id": "655cd1f0-2aeb-48d8-809e-6d697829be41",
   "metadata": {},
   "source": [
    "#### Joining Arrays\n",
    "NumPy allows you to **concatenate (join)** arrays using functions like **np.concatenate()**, **np.vstack()** (for vertical stacking), and **np.hstack()** (for horizontal stacking):"
   ]
  },
  {
   "cell_type": "code",
   "execution_count": 44,
   "id": "00b16d64-2d78-4d93-bc49-9b8655ed9a6c",
   "metadata": {},
   "outputs": [],
   "source": [
    "arr_a = np.array([1, 2, 3])\n",
    "arr_b = np.array([4, 5, 6])\n",
    "\n",
    "# Joining 1D arrays\n",
    "# your code here"
   ]
  },
  {
   "cell_type": "markdown",
   "id": "99d4dea9-f60f-4902-b1c7-7a73950e4fe9",
   "metadata": {},
   "source": [
    "Here, we concatenate **arr_a** and **arr_b** into a single 1D array containing all their elements."
   ]
  },
  {
   "cell_type": "code",
   "execution_count": 46,
   "id": "c6342aed-1361-402f-8cd2-83640acfb11d",
   "metadata": {},
   "outputs": [],
   "source": [
    "# Joining 2D arrays\n",
    "arr_2d_1 = np.array([[1, 2], [3, 4]])\n",
    "arr_2d_2 = np.array([[5, 6], [7, 8]])\n",
    "\n",
    "# your code here"
   ]
  },
  {
   "cell_type": "markdown",
   "id": "a423bd98-f4ff-4fd2-80d0-d0b2ccc4be46",
   "metadata": {},
   "source": [
    "In this example, we create two 2D arrays and stack them vertically, resulting in a new array with four rows."
   ]
  },
  {
   "cell_type": "code",
   "execution_count": 48,
   "id": "6c830e4f-d0da-41a1-a46a-6eaa0099c2cb",
   "metadata": {},
   "outputs": [],
   "source": [
    "# your code here"
   ]
  },
  {
   "cell_type": "markdown",
   "id": "be3f23ea-6432-416e-93db-16a8cfd979a1",
   "metadata": {},
   "source": [
    "Similarly, we stack the two 2D arrays horizontally, which combines the columns."
   ]
  },
  {
   "cell_type": "markdown",
   "id": "0ee5585b-a348-4384-8455-384fab28300e",
   "metadata": {},
   "source": [
    "#### Splitting Arrays\n",
    "The **np.split()** function splits an array into multiple sub-arrays along a specified axis. The function takes two main arguments: the array to split and the number of splits you want to make."
   ]
  },
  {
   "cell_type": "code",
   "execution_count": 51,
   "id": "39be5741-595a-48c1-9be5-694b3045d63a",
   "metadata": {},
   "outputs": [],
   "source": [
    "import numpy as np\n",
    "\n",
    "# Create a 1D array\n",
    "# your code here\n",
    "\n",
    "# Split the array into 2 equal parts\n",
    "# your code here"
   ]
  },
  {
   "cell_type": "markdown",
   "id": "e04f7b04-84dd-47bd-a94b-2f49bb3e5789",
   "metadata": {},
   "source": [
    "We create a **1D array**, joined_array, containing ten elements, and the **np.split(joined_array, 2)** function is used to split the array into two equal parts, resulting in a list of sub-arrays. \n",
    "\n",
    "It's important to note that if the number of elements in the original array is not evenly divisible by the number of splits specified, NumPy will raise a *ValueError*."
   ]
  }
 ],
 "metadata": {
  "kernelspec": {
   "display_name": "Python 3 (ipykernel)",
   "language": "python",
   "name": "python3"
  },
  "language_info": {
   "codemirror_mode": {
    "name": "ipython",
    "version": 3
   },
   "file_extension": ".py",
   "mimetype": "text/x-python",
   "name": "python",
   "nbconvert_exporter": "python",
   "pygments_lexer": "ipython3",
   "version": "3.12.7"
  }
 },
 "nbformat": 4,
 "nbformat_minor": 5
}
