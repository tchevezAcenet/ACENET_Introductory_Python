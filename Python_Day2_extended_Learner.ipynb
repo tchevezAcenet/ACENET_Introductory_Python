{
 "cells": [
  {
   "cell_type": "markdown",
   "id": "63e898b2-aee5-48d0-aa1c-47807c346346",
   "metadata": {},
   "source": [
    "# Introductory Programming with Python (Part 2)\n",
    "\n",
    "## Modules\n",
    "In Python, a module is simply a file that contains Python code, typically functions, classes, and variables, which you can reuse in other programs. \n",
    "\n",
    "**Modules** help organize code, avoid repetition, and keep it easy to maintain. You can create your own module by saving a .py file with your code or use one of Python’s many built-in modules, like *math*, *datetime*, or *random*, which provide various functionalities."
   ]
  },
  {
   "cell_type": "markdown",
   "id": "03a90e65-84db-4ae1-9b17-f1a66dd6fc2a",
   "metadata": {},
   "source": [
    "### Importing Modules\n",
    "To use a module in your code, you import it using the import statement. For example:"
   ]
  },
  {
   "cell_type": "code",
   "execution_count": 1,
   "id": "15de8b8f-6c1e-4b0a-b187-9184d878697d",
   "metadata": {},
   "outputs": [],
   "source": [
    "#Your code goes here"
   ]
  },
  {
   "cell_type": "code",
   "execution_count": 2,
   "id": "98e97d62-1cb0-4133-9969-1ce409d23380",
   "metadata": {},
   "outputs": [],
   "source": [
    "# Use help() function to get information about the module\n",
    "#Your code goes here"
   ]
  },
  {
   "cell_type": "markdown",
   "id": "5b24d495-ae7b-4d82-80ae-ec4759f48206",
   "metadata": {},
   "source": [
    "Here, we import the math module and then use its **sqrt()** function to calculate the square root of 16."
   ]
  },
  {
   "cell_type": "markdown",
   "id": "7d867cb2-841a-426c-b70d-49dc92c17676",
   "metadata": {},
   "source": [
    "### Importing Specific Functions\n",
    "If you only need specific functions from a module, you can import them directly:"
   ]
  },
  {
   "cell_type": "code",
   "execution_count": 3,
   "id": "8f3a2ab1-82e0-4239-a543-ea9765087633",
   "metadata": {},
   "outputs": [],
   "source": [
    "#Your code goes here"
   ]
  },
  {
   "cell_type": "markdown",
   "id": "9779022f-fe5c-4a34-a560-6b0fb6fd7737",
   "metadata": {},
   "source": [
    "This allows you to use pi and sqrt() directly without referencing math."
   ]
  },
  {
   "cell_type": "markdown",
   "id": "464fd48f-73e2-43ef-9618-cda2fcfa6bb4",
   "metadata": {},
   "source": [
    "### Custom Modules\n",
    "To create a custom module, you write Python code in a *.py* file. For example, if you have a file called **mymath.py** with the following content:"
   ]
  },
  {
   "cell_type": "raw",
   "id": "735baa5e-ca89-467a-9da3-aca58bc1ee7b",
   "metadata": {},
   "source": [
    "def add(a, b):\n",
    "    return a + b\n",
    "\n",
    "def subtract(a, b):\n",
    "    return a - b"
   ]
  },
  {
   "cell_type": "markdown",
   "id": "8374f2ad-abca-4a62-b459-0645de1faddb",
   "metadata": {},
   "source": [
    "You can import and use these functions in another Python file as follows:"
   ]
  },
  {
   "cell_type": "code",
   "execution_count": 4,
   "id": "da39ae39-3258-4e14-bffe-f9148ff1c95f",
   "metadata": {},
   "outputs": [],
   "source": [
    "#Your code goes here"
   ]
  },
  {
   "cell_type": "markdown",
   "id": "8a47144d-1254-40a0-a70d-a323760e6279",
   "metadata": {},
   "source": [
    "### Benefits of Using Modules\n",
    "- **Reusability:** Write code once and use it across multiple programs.\n",
    "- **Organization:** Helps keep code organized and readable, especially for large projects.\n",
    "- **Built-in Functionality:** Python’s standard library has many modules, so you don’t have to write everything from scratch."
   ]
  },
  {
   "cell_type": "markdown",
   "id": "6a5e414c-0c2a-44b4-917a-09eaaf99fd2b",
   "metadata": {},
   "source": [
    "# Introduction to Libraries\n",
    "\n",
    "In Python, a library is a collection of modules that provide reusable code to help programmers perform various tasks without having to write everything from scratch. Libraries enhance productivity by allowing developers to leverage existing functionality for common tasks, promoting efficiency and reducing redundancy in code."
   ]
  },
  {
   "cell_type": "markdown",
   "id": "12ba0679-9877-4482-96d5-b173fe39ccfd",
   "metadata": {},
   "source": [
    "### Examples of Popular Libraries\n",
    "- **NumPy:** A fundamental library for numerical computing, NumPy provides support for arrays and matrices, along with a wide range of mathematical functions.\n",
    "\n",
    "- **Pandas:** This library is invaluable for data analysis and manipulation. It allows users to work with structured data in the form of DataFrames and Series, making it ideal for handling large datasets.\n",
    "\n",
    "- **Matplotlib:** A powerful library for data visualization, Matplotlib enables users to create static, interactive, and animated visualizations to effectively present data insights."
   ]
  },
  {
   "cell_type": "markdown",
   "id": "fd3d4e7a-0353-43de-90c6-676b5c628c6f",
   "metadata": {},
   "source": [
    "Libraries are important tools in Python that help programmers work more efficiently. They provide ready-made code that can be reused, making it easier to complete common tasks without starting from scratch. By using libraries, developers can solve complicated problems more easily and concentrate on the bigger picture of their projects. "
   ]
  },
  {
   "cell_type": "markdown",
   "id": "4a154270-4446-4835-adc9-640e59c3a001",
   "metadata": {},
   "source": [
    "# Numpy\n",
    "\n",
    "NumPy, which stands for Numerical Python, is a powerful library in Python that helps with numerical and scientific computing. It allows you to work with large, multi-dimensional arrays (think of them as grids of numbers) and provides many mathematical functions to perform calculations on these arrays quickly and easily.\n",
    "\n",
    "### Why Use NumPy?\n",
    "- **Speed:** NumPy is much faster than using regular Python lists for numerical calculations. It’s written in C, which helps it run faster. When you use NumPy, you can perform operations on big sets of data quickly.\n",
    "\n",
    "- **Convenience:** With NumPy, you can do calculations on entire arrays without writing long loops. For example, adding two arrays together can be done in just one line of code.\n",
    "\n",
    "- **Useful Functions:** NumPy has many built-in functions for doing complex math. This is really helpful in fields like oceanography, where scientists need to work with large amounts of data and perform a lot of calculations."
   ]
  },
  {
   "cell_type": "markdown",
   "id": "ddb80f8d-5445-4bd9-ad7d-78ea3d826942",
   "metadata": {},
   "source": [
    "## Arrays\n",
    "An **array** is a list of items stored one after another in memory. In NumPy, an array is a collection of values arranged in a grid, where all values are the same type (like all numbers or all text)."
   ]
  },
  {
   "cell_type": "markdown",
   "id": "b13dd818-308f-4143-8003-7639eabc1097",
   "metadata": {},
   "source": [
    "To use NumPy, we first need to import it:"
   ]
  },
  {
   "cell_type": "code",
   "execution_count": 5,
   "id": "2f448804-737f-445f-af04-222045815330",
   "metadata": {},
   "outputs": [],
   "source": [
    "#Your code goes here"
   ]
  },
  {
   "cell_type": "markdown",
   "id": "5fff6a8f-04bc-4ba7-8a08-64e27b21fcdf",
   "metadata": {},
   "source": [
    "### Creating a 1D Array\n",
    "You can create a 1D array using the **np.array()** function. Here’s how:"
   ]
  },
  {
   "cell_type": "code",
   "execution_count": 7,
   "id": "53cd488e-fd1c-4a83-9d96-4f21a6ea44b8",
   "metadata": {},
   "outputs": [],
   "source": [
    "# Creating a 1D array\n",
    "#Your code goes here"
   ]
  },
  {
   "cell_type": "markdown",
   "id": "0a70516d-674c-4bb8-81ea-c98a9a822a1f",
   "metadata": {},
   "source": [
    "### Advantages of NumPy Arrays Over Python Lists\n",
    "- **Homogeneous:** All elements in a NumPy array must be of the same type, whereas Python lists can contain mixed types.\n",
    "- **Performance:** NumPy arrays are more memory efficient and faster for numerical computations compared to lists.\n",
    "- **Functionality:** NumPy provides a range of built-in functions that are specifically optimized for working with arrays."
   ]
  },
  {
   "cell_type": "markdown",
   "id": "1d23e56c-3cb5-4e0e-bddb-f63cf9758e27",
   "metadata": {},
   "source": [
    "### Creating a 2D Array\n",
    "To create a 2D array, pass a list of lists to **np.array()**:"
   ]
  },
  {
   "cell_type": "code",
   "execution_count": 8,
   "id": "bd0667d3-90d8-49a3-961e-4d9cab220e55",
   "metadata": {},
   "outputs": [],
   "source": [
    "# Creating a 2D array\n",
    "#Your code goes here"
   ]
  },
  {
   "cell_type": "markdown",
   "id": "1bac5a4e-3502-44ab-8992-c07b2a0374af",
   "metadata": {},
   "source": [
    "### Creating Arrays with Built-in Functions\n",
    "\n",
    "NumPy provides several built-in functions to create arrays quickly:\n",
    "\n",
    "- **np.zeros(shape)**: Creates an array filled with zeros.\n",
    "- **np.ones(shape)**: Creates an array filled with ones.\n",
    "- **np.arange(start, stop, step)**: Creates an array with a range of values.\n",
    "- **np.linspace(start, stop, num)**: Creates an array of evenly spaced numbers."
   ]
  },
  {
   "cell_type": "code",
   "execution_count": 9,
   "id": "50519dd5-bf9b-4e8d-89e8-f6b1d7adb397",
   "metadata": {},
   "outputs": [],
   "source": [
    "# Using built-in functions\n",
    "#Your code goes here"
   ]
  },
  {
   "cell_type": "markdown",
   "id": "c5d06b96-57d8-487b-b947-2e7b2f2f2a98",
   "metadata": {},
   "source": [
    "In this example:\n",
    "\n",
    "- **np.zeros((2, 3))** creates a 2x3 array filled with zeros.\n",
    "- **np.ones((2, 3))** creates a 2x3 array filled with ones.\n",
    "- **np.arange(0, 10, 2)** generates a 1D array with values from 0 to 10, stepping by 2.\n",
    "- **np.linspace(0, 1, 5)** creates an array of 5 evenly spaced numbers between 0 and 1.\n"
   ]
  },
  {
   "cell_type": "markdown",
   "id": "c425890d-935e-483e-ba80-382c5d3f5e1b",
   "metadata": {},
   "source": [
    "### Array Properties\n",
    "You can check important properties of a NumPy array, such as its shape, size, and data type:"
   ]
  },
  {
   "cell_type": "code",
   "execution_count": 10,
   "id": "b54027cd-ce85-4c89-a2dc-fbe39f11e6f0",
   "metadata": {},
   "outputs": [],
   "source": [
    "#Your code goes here"
   ]
  },
  {
   "cell_type": "markdown",
   "id": "280fb6b8-622a-4324-904d-91a263fe82c7",
   "metadata": {},
   "source": [
    "**This code retrieves:**\n",
    "\n",
    "- The shape of the 2D array, which tells you the dimensions (rows and columns).\n",
    "- The size of the array, indicating the total number of elements.\n",
    "- The data type of the elements in the array, which shows the kind of data stored (e.g., integers, floats)."
   ]
  },
  {
   "cell_type": "markdown",
   "id": "63b3278c-069d-48d7-8254-a393457838d7",
   "metadata": {},
   "source": [
    "### Basic Arithmetic Operations\n",
    "\n",
    "NumPy allows you to perform element-wise arithmetic operations on arrays:"
   ]
  },
  {
   "cell_type": "code",
   "execution_count": 12,
   "id": "01616da6-ee20-4c9d-a625-a920b18fd998",
   "metadata": {},
   "outputs": [],
   "source": [
    "# Element-wise addition\n",
    "arr_a = np.array([1, 2, 3])\n",
    "arr_b = np.array([4, 5, 6])\n",
    "\n",
    "#Your code goes here\n",
    "\n",
    "# Element-wise multiplication\n",
    "\n",
    "#Your code goes here"
   ]
  },
  {
   "cell_type": "markdown",
   "id": "4296c0ef-0b7a-429d-94d7-84eecf732e98",
   "metadata": {},
   "source": [
    "In this example, we create *two 1D arrays*, **arr_a** and **arr_b**, and add them together. \n",
    "\n",
    "Also, we perform element-wise multiplication. Each element of **arr_a** is multiplied by the corresponding element of **arr_b**, resulting in a new array of products."
   ]
  },
  {
   "cell_type": "markdown",
   "id": "7e740696-e6da-43e8-8eda-667698a05de9",
   "metadata": {},
   "source": [
    "### NumPy Universal Functions\n",
    "\n",
    "NumPy provides a variety of universal functions that operate element-wise on arrays. These functions include mathematical operations, trigonometric functions, and statistical calculations. Statistical functions are particularly useful for analyzing data and obtaining insights from numerical arrays.\n",
    "\n",
    "- **Mean:** Calculates the average value of the array elements.\n",
    "- **Median:** Finds the middle value when the elements are sorted.\n",
    "- **Standard Deviation:** Measures the amount of variation or dispersion in the dataset.\n",
    "\n",
    "Here’s how to use these functions:"
   ]
  },
  {
   "cell_type": "code",
   "execution_count": 16,
   "id": "c6ee7998-464e-4d47-a97a-56c4145f43b9",
   "metadata": {},
   "outputs": [],
   "source": [
    "data = np.array([1, 2, 3, 4, 5])\n",
    "\n",
    "#Your code goes here"
   ]
  },
  {
   "cell_type": "markdown",
   "id": "345e2aa6-c8f5-4eb2-8fe7-77f3ad0e8b69",
   "metadata": {},
   "source": [
    "We can also find the minimum and maximum values in an array:"
   ]
  },
  {
   "cell_type": "code",
   "execution_count": 17,
   "id": "fc25c3f8-bcd6-4ead-9346-44d0a04d84a3",
   "metadata": {},
   "outputs": [],
   "source": [
    "# Calculate minimum and maximum values\n",
    "#Your code goes here"
   ]
  },
  {
   "cell_type": "markdown",
   "id": "8c82b6e4-c4b6-48b8-b0a6-4b39f95a5af2",
   "metadata": {},
   "source": [
    "Also, we can compute the correlation coefficient between two datasets:"
   ]
  },
  {
   "cell_type": "code",
   "execution_count": 18,
   "id": "8e362a0b-f02b-4b69-9981-1c2af8e3621f",
   "metadata": {},
   "outputs": [],
   "source": [
    "# Example arrays for correlation\n",
    "arr_x = np.array([1, 2, 3, 4, 5])\n",
    "arr_y = np.array([5, 4, 3, 2, 1])\n",
    "\n",
    "# Calculate correlation coefficient\n",
    "#Your code goes here"
   ]
  },
  {
   "cell_type": "markdown",
   "id": "1c8d8201-cd26-40ac-a7f6-6c1803e48326",
   "metadata": {},
   "source": [
    "The correlation coefficient matrix shows the relationship between **arr_x** and **arr_y**. A value close to -1 indicates a strong negative correlation, while a value close to 1 indicates a strong positive correlation."
   ]
  },
  {
   "cell_type": "markdown",
   "id": "de229522-fcd8-42b3-bbab-1cc3c65e8e70",
   "metadata": {},
   "source": [
    "### Other Operations\n",
    "#### Indexing\n",
    "\n",
    "You can access individual elements of an array using indexing:"
   ]
  },
  {
   "cell_type": "code",
   "execution_count": 19,
   "id": "41975b80-d5db-44d4-b143-83dd452f030b",
   "metadata": {},
   "outputs": [],
   "source": [
    "arr_1d = np.array([1, 2, 3, 4, 5])\n",
    "arr_2d = np.array([\n",
    "    [10, 20, 30],\n",
    "    [40, 50, 60],\n",
    "    [70, 80, 90]\n",
    "])\n",
    "\n",
    "#Your code goes here"
   ]
  },
  {
   "cell_type": "markdown",
   "id": "be904193-30f8-4f99-b6c6-75d25bd9e85e",
   "metadata": {},
   "source": [
    "This code retrieves the first element of the 1D array **arr_1d** and the element located at row 1, column 2 in the 2D array **arr_2d**."
   ]
  },
  {
   "cell_type": "markdown",
   "id": "97318ea5-ee3f-443f-ae52-bbc5df320d96",
   "metadata": {},
   "source": [
    "#### Slicing\n",
    "Slicing allows you to access a subset of an array:"
   ]
  },
  {
   "cell_type": "code",
   "execution_count": 20,
   "id": "5ab65891-dce3-4d38-a578-dca30d7f45f6",
   "metadata": {},
   "outputs": [],
   "source": [
    "# Slicing a 1D array\n",
    "#Your code goes here"
   ]
  },
  {
   "cell_type": "markdown",
   "id": "65c2e38d-e7a8-4d69-884e-808aa94ea404",
   "metadata": {},
   "source": [
    "This retrieves a slice of the 1D array, including elements from index 1 up to, but not including, index 4."
   ]
  },
  {
   "cell_type": "code",
   "execution_count": 21,
   "id": "74d9e8e7-72c8-4031-a91f-096f9d926bab",
   "metadata": {},
   "outputs": [],
   "source": [
    "# Slicing a 2D array\n",
    "#Your code goes here"
   ]
  },
  {
   "cell_type": "markdown",
   "id": "4003d119-183e-4b4f-9341-3674cc54de0c",
   "metadata": {},
   "source": [
    "Here, we extract the first row of the 2D array and the second column using slicing. The : operator means \"select all elements in this dimension.\""
   ]
  },
  {
   "cell_type": "markdown",
   "id": "14c77440-2d06-46b0-9888-ee71b9413cea",
   "metadata": {},
   "source": [
    "#### Reshaping Arrays\n",
    "You can change the shape of an array without changing its data using the **reshape()** method:"
   ]
  },
  {
   "cell_type": "code",
   "execution_count": 22,
   "id": "eb2e6a16-f86f-4c3a-972a-d4094c68c78e",
   "metadata": {},
   "outputs": [],
   "source": [
    "#Your code goes here"
   ]
  },
  {
   "cell_type": "markdown",
   "id": "1db96422-bda6-4000-8d2e-1f192a4799e8",
   "metadata": {},
   "source": [
    "In this code, we reshape the 1D array arr_1d into a 5x1 array. The total number of elements remains the same, but the structure changes."
   ]
  },
  {
   "cell_type": "markdown",
   "id": "655cd1f0-2aeb-48d8-809e-6d697829be41",
   "metadata": {},
   "source": [
    "#### Joining Arrays\n",
    "NumPy allows you to **concatenate (join)** arrays using functions like **np.concatenate()**, **np.vstack()** (for vertical stacking), and **np.hstack()** (for horizontal stacking):"
   ]
  },
  {
   "cell_type": "code",
   "execution_count": 23,
   "id": "00b16d64-2d78-4d93-bc49-9b8655ed9a6c",
   "metadata": {},
   "outputs": [],
   "source": [
    "arr_a = np.array([1, 2, 3])\n",
    "arr_b = np.array([4, 5, 6])\n",
    "\n",
    "# Joining 1D arrays\n",
    "#Your code goes here"
   ]
  },
  {
   "cell_type": "markdown",
   "id": "99d4dea9-f60f-4902-b1c7-7a73950e4fe9",
   "metadata": {},
   "source": [
    "Here, we concatenate **arr_a** and **arr_b** into a single 1D array containing all their elements."
   ]
  },
  {
   "cell_type": "code",
   "execution_count": 24,
   "id": "c6342aed-1361-402f-8cd2-83640acfb11d",
   "metadata": {},
   "outputs": [],
   "source": [
    "# Joining 2D arrays\n",
    "arr_2d_1 = np.array([[1, 2], [3, 4]])\n",
    "arr_2d_2 = np.array([[5, 6], [7, 8]])\n",
    "\n",
    "#Your code goes here"
   ]
  },
  {
   "cell_type": "markdown",
   "id": "a423bd98-f4ff-4fd2-80d0-d0b2ccc4be46",
   "metadata": {},
   "source": [
    "In this example, we create two 2D arrays and stack them vertically, resulting in a new array with four rows."
   ]
  },
  {
   "cell_type": "code",
   "execution_count": 25,
   "id": "6c830e4f-d0da-41a1-a46a-6eaa0099c2cb",
   "metadata": {},
   "outputs": [],
   "source": [
    "#Your code goes here"
   ]
  },
  {
   "cell_type": "markdown",
   "id": "be3f23ea-6432-416e-93db-16a8cfd979a1",
   "metadata": {},
   "source": [
    "Similarly, we stack the two 2D arrays horizontally, which combines the columns."
   ]
  },
  {
   "cell_type": "markdown",
   "id": "0ee5585b-a348-4384-8455-384fab28300e",
   "metadata": {},
   "source": [
    "#### Splitting Arrays\n",
    "The **np.split()** function splits an array into multiple sub-arrays along a specified axis. The function takes two main arguments: the array to split and the number of splits you want to make."
   ]
  },
  {
   "cell_type": "code",
   "execution_count": 26,
   "id": "39be5741-595a-48c1-9be5-694b3045d63a",
   "metadata": {},
   "outputs": [],
   "source": [
    "# Create a 1D array\n",
    "joined_array = np.array([1, 2, 3, 4, 5, 6, 7, 8, 9, 10])\n",
    "\n",
    "#Your code goes here\n",
    "\n",
    "# Split the array into 2 equal parts\n",
    "\n",
    "#Your code goes here"
   ]
  },
  {
   "cell_type": "markdown",
   "id": "e04f7b04-84dd-47bd-a94b-2f49bb3e5789",
   "metadata": {},
   "source": [
    "We create a **1D array**, joined_array, containing ten elements, and the **np.split(joined_array, 2)** function is used to split the array into two equal parts, resulting in a list of sub-arrays. \n",
    "\n",
    "It's important to note that if the number of elements in the original array is not evenly divisible by the number of splits specified, NumPy will raise a *ValueError*."
   ]
  },
  {
   "cell_type": "markdown",
   "id": "ab1df4dc-77e8-4478-ab4b-1f94eed6aa98",
   "metadata": {},
   "source": [
    "## Pandas\n",
    "Pandas is a powerful tool in Python that makes working with data easier. It helps you organize, manipulate, and analyze large datasets quickly and efficiently. Pandas is especially useful for handling tables of data, similar to spreadsheets or SQL databases.\n",
    "\n",
    "### Why Use Pandas?\n",
    "- **Easy Data Handling:** Pandas makes it simple to load, clean, and transform data. You can read data from Excel, CSV files, databases, and more with just one command.\n",
    "- **Speed & Efficiency:** Pandas is built on top of NumPy and optimized for performance, making operations on large datasets much faster than using plain Python lists or dictionaries.\n",
    "- **Powerful Functions:** With Pandas, you can filter, sort, group, and perform calculations on your data effortlessly. This is incredibly useful in fields like finance and social sciences, where analyzing trends and patterns in large datasets is essential."
   ]
  },
  {
   "cell_type": "markdown",
   "id": "cc48e607-8ac9-4574-9be5-a71d76a20432",
   "metadata": {},
   "source": [
    "## Load Pandas\n",
    "Python doesn’t load all of the libraries available to it by default. We have to add an import statement to our code in order to use library functions."
   ]
  },
  {
   "cell_type": "code",
   "execution_count": 27,
   "id": "ca1c4cb4-951d-40ec-b4ea-32957ab1c278",
   "metadata": {},
   "outputs": [],
   "source": [
    "#Import the pandas library as 'pd'\n",
    "\n",
    "#Your code goes here"
   ]
  },
  {
   "cell_type": "markdown",
   "id": "e9accf30-43ee-47cb-8e21-1df06668c681",
   "metadata": {},
   "source": [
    "When we invoke a function from a library we use the following syntax: **LibraryName.FunctionName**, in this case we can call it **pandas.FunctionName**\n",
    "\n",
    "By giving *pandas* a *nickname* such as **pd**, it makes our lives easier now that we can call the function **pd.FunctionName** instead.\n",
    "This smart trick allows us to avoid typing out the full “pandas” keyword every time we use a function from the Pandas library."
   ]
  },
  {
   "cell_type": "markdown",
   "id": "11e8f5a0-08b7-44c7-b24a-24f528b7897b",
   "metadata": {},
   "source": [
    "## Read CSV file using Pandas\n",
    "Pandas  can be used to import data stored in a Comma-Separated Values (CSV) file format. CSV is a common and simple way of structuring tabular data, where each line corresponds to a row and the values within a line are separated by commas."
   ]
  },
  {
   "cell_type": "code",
   "execution_count": 28,
   "id": "8e563c77-e3e3-4970-8a60-5e9db3645071",
   "metadata": {},
   "outputs": [],
   "source": [
    "# Read csv file using pandas\n",
    "\n",
    "#Step 1: Specify File Path\n",
    "#Your code goes here\n",
    "\n",
    "#Step 2: Read CSV file\n",
    "#Your code goes here"
   ]
  },
  {
   "cell_type": "markdown",
   "id": "134b5778-f8fb-46e5-bbd7-5ec1b9bf4ed4",
   "metadata": {},
   "source": [
    "This code returns an overview of how the dataset looks like, returning the first and last five rows. "
   ]
  },
  {
   "cell_type": "markdown",
   "id": "392ad25b-62c4-4608-bebc-5df74764cc3c",
   "metadata": {},
   "source": [
    "The **read_csv** function has successfully processed our file but has not yet stored it into memory for further processing and analysis, so to do this we will add a new variable called “df”, short for dataframe:"
   ]
  },
  {
   "cell_type": "code",
   "execution_count": 29,
   "id": "503221f2-34bb-4cbd-bdf3-02ba4cee0d0f",
   "metadata": {
    "tags": []
   },
   "outputs": [],
   "source": [
    "# Save csv file to memory using pandas \n",
    "#Your code goes here"
   ]
  },
  {
   "cell_type": "markdown",
   "id": "67b26994-02c5-4666-9b99-7cae9b165d28",
   "metadata": {},
   "source": [
    "If the dataset contains many samples then it is a good idea to use the **head()** function of Pandas to see the first few samples of the dataset. The function head() by itself returns the first 5 rows, but we can also specify how many rows we want to display by adding a number as a parameter in the function: **head(*10*)**"
   ]
  },
  {
   "cell_type": "code",
   "execution_count": 30,
   "id": "30e5ecb5-493a-4330-917b-92ec8145df2a",
   "metadata": {
    "tags": []
   },
   "outputs": [],
   "source": [
    "#Print the first rows of our dataframe\n",
    "#Your code goes here"
   ]
  },
  {
   "cell_type": "markdown",
   "id": "09bdaddc-d58a-40c6-a7b8-b255bda3678f",
   "metadata": {},
   "source": [
    "We can also check what kind of things **df** contains using **dtypes**. What kind of data types our dataframe contains:"
   ]
  },
  {
   "cell_type": "code",
   "execution_count": 31,
   "id": "37851975-0105-4b1f-a877-5c2156bbed22",
   "metadata": {
    "scrolled": true,
    "tags": []
   },
   "outputs": [],
   "source": [
    "#Print the data types in the dataframe\n",
    "#Your code goes here"
   ]
  },
  {
   "cell_type": "markdown",
   "id": "affd86c1-0227-494c-a81c-e9ff31f0071f",
   "metadata": {},
   "source": [
    "## Explore the DataFrame Object"
   ]
  },
  {
   "cell_type": "markdown",
   "id": "c65006a6-0635-45dd-a207-f139e63ffd2f",
   "metadata": {},
   "source": [
    "Let’s explore the DataFrame Object further. We will be using both methods and attributes.\n",
    "\n",
    "**Methods** are functions that we can apply to the DataFrame to perform specific operations. They usually require parentheses. If we wish to see the information of a dataframe, we can use the **info()** function:"
   ]
  },
  {
   "cell_type": "code",
   "execution_count": 32,
   "id": "880cee48-844a-4ecb-8554-875e55cb6aef",
   "metadata": {
    "tags": []
   },
   "outputs": [],
   "source": [
    "#Print dataframe information\n",
    "#Your code goes here"
   ]
  },
  {
   "cell_type": "markdown",
   "id": "c9cf8973-93b8-42ea-8f68-ccbd7fedd240",
   "metadata": {},
   "source": [
    "This summary provides valuable information about the DataFrame’s structure, data types, and the presence of missing values. It’s a quick overview that helps you understand the content and characteristics of the DataFrame."
   ]
  },
  {
   "cell_type": "markdown",
   "id": "771afe92-f1d4-4b09-8588-c3d0ced0110d",
   "metadata": {},
   "source": [
    "We can use the **unique()** function to identify the distinct values within a column or an array."
   ]
  },
  {
   "cell_type": "code",
   "execution_count": 33,
   "id": "67af5f29-7666-4c53-b15a-62385e5f9953",
   "metadata": {
    "tags": []
   },
   "outputs": [],
   "source": [
    "#Identify distinct values within a column\n",
    "#Your code goes here"
   ]
  },
  {
   "cell_type": "markdown",
   "id": "f90d8d63-b513-460e-9640-d0332173dd05",
   "metadata": {},
   "source": [
    "It returns the unique values in the **Gender** column, such as F, M, and nan."
   ]
  },
  {
   "cell_type": "markdown",
   "id": "92ac51ab-a0bf-4c79-9227-ddcbce8c7251",
   "metadata": {},
   "source": [
    "**Attributes** are properties of the DataFrame that provide information about its characteristics. They don’t require parentheses. If we wish to see the shape, number of rows and columns, of the dataframe we can use the **shape** attribute:"
   ]
  },
  {
   "cell_type": "code",
   "execution_count": 34,
   "id": "eba73212-87cc-4798-a102-7d37ad30555f",
   "metadata": {
    "tags": []
   },
   "outputs": [],
   "source": [
    "# Get the shape of the DataFrame (attribute)\n",
    "#Your code goes here"
   ]
  },
  {
   "cell_type": "markdown",
   "id": "be52d43f-7bc2-49be-b823-27001511487b",
   "metadata": {},
   "source": [
    "### Exercise 1\n",
    "What would be the output of the following commands?\n",
    "-  df.tail()\n",
    "-  df.columns\n"
   ]
  },
  {
   "cell_type": "code",
   "execution_count": 35,
   "id": "c61c0f65-a5ea-402b-a33a-0ef6abe969d6",
   "metadata": {},
   "outputs": [],
   "source": [
    "#Your code goes here"
   ]
  },
  {
   "cell_type": "code",
   "execution_count": 36,
   "id": "d0b3376f-d646-4718-abd3-3a21ca09ce2d",
   "metadata": {
    "tags": []
   },
   "outputs": [],
   "source": [
    "#Your code goes here"
   ]
  },
  {
   "cell_type": "markdown",
   "id": "0c1a3adc-e32d-4f72-90be-4046fd3d5276",
   "metadata": {},
   "source": [
    "## Selecting Data Using Labels"
   ]
  },
  {
   "cell_type": "markdown",
   "id": "e1b1f5fd-78a2-43d7-86e4-f1b68c884b1e",
   "metadata": {},
   "source": [
    "To select a single column, use the DataFrame’s name followed by the column label in square brackets **['ColumnLabel']**."
   ]
  },
  {
   "cell_type": "code",
   "execution_count": 37,
   "id": "39a176a5-0d45-42c3-8618-8c5deb853717",
   "metadata": {
    "tags": []
   },
   "outputs": [],
   "source": [
    "# Select the \"Age\" column\n",
    "#Your code goes here"
   ]
  },
  {
   "cell_type": "markdown",
   "id": "f6441db4-4d5c-4463-8fa3-45908c2b7a43",
   "metadata": {},
   "source": [
    "We can also use the column name as an *attribute* to access data from that column using **df.Age**\n"
   ]
  },
  {
   "cell_type": "code",
   "execution_count": 38,
   "id": "a734855c-8862-4a7e-8af6-e12dd414506c",
   "metadata": {
    "tags": []
   },
   "outputs": [],
   "source": [
    "# Select the 'Age' column as an attribute\n",
    "#Your code goes here"
   ]
  },
  {
   "cell_type": "markdown",
   "id": "8040e0eb-aa05-49c0-a90c-64ead91f55c3",
   "metadata": {},
   "source": [
    "To select multiple columns, enclose the column labels in double square brackets **[['Column1', 'Column2']]**. We can also create a new object and store the result, and later we can access the result from the object."
   ]
  },
  {
   "cell_type": "code",
   "execution_count": 39,
   "id": "3c69f2c7-1a9e-4366-bfc4-9b4ace0c638d",
   "metadata": {
    "tags": []
   },
   "outputs": [],
   "source": [
    "# Select the 'Age' and 'Income' columns and store in a object\n",
    "#Your code goes here"
   ]
  },
  {
   "cell_type": "markdown",
   "id": "996ecbc6-0b20-4f8e-89de-85d33c60ffdd",
   "metadata": {},
   "source": [
    "## Slicing Rows and Columns\n",
    "Slicing rows and columns simultaneously involves using **.loc** or **.iloc** and specifying the row indices and column labels or indices we want to include.\n",
    "\n",
    "-  **.loc** is label-based indexing, meaning we specify the row and column labels.\n",
    "-  **.iloc** is integer-based indexing, meaning we use integer indices for rows and columns."
   ]
  },
  {
   "cell_type": "markdown",
   "id": "ad07dc92-3f9d-406d-8d3a-e26e38dcb480",
   "metadata": {},
   "source": [
    "#### Using .loc "
   ]
  },
  {
   "cell_type": "code",
   "execution_count": 40,
   "id": "c0aeb794-7e77-4dff-8b82-3c921df3beba",
   "metadata": {
    "tags": []
   },
   "outputs": [],
   "source": [
    "# Slice rows 1 to 3 and columns 'Gender' and 'Age' using .loc\n",
    "#Your code goes here"
   ]
  },
  {
   "cell_type": "markdown",
   "id": "442b1584-be86-454b-8299-9e074cd2fc88",
   "metadata": {},
   "source": [
    "Now, if we want to select **‘Gender’, ’Age’, and ‘Weight’** columns with row labels **“1, 3, 4”**, we can also do this using the below code:"
   ]
  },
  {
   "cell_type": "code",
   "execution_count": 41,
   "id": "a25e7b58-c334-41d6-b384-7ea868568296",
   "metadata": {
    "tags": []
   },
   "outputs": [],
   "source": [
    "# Slice rows “1, 3, 4” and columns 'Gender','Age', and 'Weight'\n",
    "#Your code goes here"
   ]
  },
  {
   "cell_type": "markdown",
   "id": "566638e8-e53a-42f2-b889-9b949716c284",
   "metadata": {},
   "source": [
    "### Using .iloc: "
   ]
  },
  {
   "cell_type": "code",
   "execution_count": 42,
   "id": "f4d5a5ac-bf07-4f46-9ed8-1d17d1ce0fa0",
   "metadata": {
    "tags": []
   },
   "outputs": [],
   "source": [
    "# Slice rows 1 to 3 and columns at index 1 to 3 using .iloc\n",
    "#Your code goes here"
   ]
  },
  {
   "cell_type": "markdown",
   "id": "3a206820-efee-41bf-97ee-1a7a60dd0eb7",
   "metadata": {},
   "source": [
    "In both cases, using *.loc* or *.iloc*, the first argument specifies the rows to include, and the second argument specifies the columns to include. "
   ]
  },
  {
   "cell_type": "markdown",
   "id": "d7f49a8a-ef83-4b45-a5d9-fe2aeb15b77f",
   "metadata": {},
   "source": [
    "## Groups in Pandas\n",
    "\n",
    "Frequently, there’s a need to compute summary statistics based on subsets or specific attributes within our dataset. For instance, we might wish to find the summary statistics of the income of all individuals, we can do it using the following code:"
   ]
  },
  {
   "cell_type": "code",
   "execution_count": 43,
   "id": "ec81b3b5-abe6-4f7e-93db-7ac79bd7e45c",
   "metadata": {
    "tags": []
   },
   "outputs": [],
   "source": [
    "#Return summary statistics of the Income column \n",
    "#Your code goes here"
   ]
  },
  {
   "cell_type": "markdown",
   "id": "ef7f85c3-23a2-43ad-b4ac-3f67ff67d2b4",
   "metadata": {},
   "source": [
    "Again, we might also want to get only specific information, like the maximum:"
   ]
  },
  {
   "cell_type": "code",
   "execution_count": 44,
   "id": "44243934-753f-4d79-818f-87e47df7ce19",
   "metadata": {
    "tags": []
   },
   "outputs": [],
   "source": [
    "#Return the maximum value of the Income column\n",
    "#Your code goes here"
   ]
  },
  {
   "cell_type": "markdown",
   "id": "99aa1956-0966-4183-ae7a-98a2319d286f",
   "metadata": {},
   "source": [
    "or we can get the average income of all individuals:"
   ]
  },
  {
   "cell_type": "code",
   "execution_count": 45,
   "id": "e914084c-e092-4071-83e4-5ef04dfe8bad",
   "metadata": {
    "tags": []
   },
   "outputs": [],
   "source": [
    "#Return the average income of all individuals\n",
    "#Your code goes here"
   ]
  },
  {
   "cell_type": "markdown",
   "id": "87e058d5-e062-455c-9000-b120580dea27",
   "metadata": {},
   "source": [
    "However, when the intention is to summarize data based on one or more variables, such as gender, the Pandas library offers the **.groupby** method. Once a DataFrame is grouped using this approach, we have the ability to compute summary statistics of the selected grouping."
   ]
  },
  {
   "cell_type": "code",
   "execution_count": 47,
   "id": "49151b45-406f-4e65-9d96-78d55383cf34",
   "metadata": {
    "tags": []
   },
   "outputs": [],
   "source": [
    "# Group data by age\n",
    "#Your code goes here\n",
    "\n",
    "# Provide the mean for each numeric column by sex\n",
    "#Your code goes here"
   ]
  },
  {
   "cell_type": "markdown",
   "id": "996ac41f-f418-4453-88a2-83f3132dec5b",
   "metadata": {},
   "source": [
    "## Basic Math with Pandas\n",
    "If desired, it’s entirely possible to perform mathematical operations, such as addition or division, on an entire column of our dataframe. \n",
    "\n",
    " \n",
    "Let's multiply the weight column by 2:"
   ]
  },
  {
   "cell_type": "code",
   "execution_count": 48,
   "id": "9c7431cb-9848-4922-9e21-01eb140db4d6",
   "metadata": {
    "tags": []
   },
   "outputs": [],
   "source": [
    "# Multiply all weight values by 2\n",
    "#Your code goes here"
   ]
  },
  {
   "cell_type": "markdown",
   "id": "890f3a08-5931-4fe7-af01-d1840bee019f",
   "metadata": {},
   "source": [
    "We can also create a new column that contains the previous calculation:"
   ]
  },
  {
   "cell_type": "code",
   "execution_count": 49,
   "id": "efeb38ce-61b4-4bef-a2de-6b88e48dd7ba",
   "metadata": {
    "tags": []
   },
   "outputs": [],
   "source": [
    "#Creating a new column 'Weight_2' that is going to be equal to df['Weight']*2\n",
    "#Your code goes here"
   ]
  },
  {
   "cell_type": "markdown",
   "id": "a1613578-38de-4b55-bfa8-85a6ea2f1bd8",
   "metadata": {},
   "source": [
    "## Concatenating DataFrames\n",
    "Concatenating DataFrames refers to combining two or more DataFrames along a particular axis (either rows or columns) to create a single larger DataFrame. This is useful when we have data split across multiple DataFrames and we want to consolidate them into one for analysis or processing.\n",
    "\n",
    "In Pandas, we can use the **concat()** function to concatenate DataFrames. This function provides various options to control how the concatenation should be performed. \n",
    "\n",
    "Let’s say we have two DataFrames, **df1** and **df2**, and we want to concatenate them vertically (along rows):"
   ]
  },
  {
   "cell_type": "code",
   "execution_count": 50,
   "id": "9d980be9-f23a-4e15-9398-6418aa602516",
   "metadata": {
    "tags": []
   },
   "outputs": [],
   "source": [
    "#Concatenate df1 and df2 vertically (along rows)\n",
    "\n",
    "# Sample DataFrames\n",
    "#Your code goes here\n",
    "\n",
    "# Concatenate DataFrames vertically\n",
    "#Your code goes here"
   ]
  },
  {
   "cell_type": "code",
   "execution_count": 51,
   "id": "f3b8e314-a605-4795-a7b9-89241dd79e24",
   "metadata": {
    "tags": []
   },
   "outputs": [],
   "source": [
    "#Your code goes here"
   ]
  },
  {
   "cell_type": "markdown",
   "id": "f78a644a-cc7b-4ebb-bd4f-591986352c22",
   "metadata": {},
   "source": [
    "In this example, **pd.concat()** is used to concatenate df1 and df2 vertically into concatenated_df. The **ignore_index=True** argument ensures that the index is reset after concatenation."
   ]
  },
  {
   "cell_type": "markdown",
   "id": "e0374bbc-d19b-4291-a871-b3c235f6397f",
   "metadata": {},
   "source": [
    "We can also concatenate DataFrames **horizontally** by specifying **axis=1** as an argument to **pd.concat()**. This will merge the DataFrames along columns."
   ]
  },
  {
   "cell_type": "code",
   "execution_count": 52,
   "id": "ae880570-55d7-4f22-80d3-b70ff24a2801",
   "metadata": {
    "tags": []
   },
   "outputs": [],
   "source": [
    "#Concatenate df1 and df2 horizontally\n",
    "\n",
    "# Sample DataFrames\n",
    "#Your code goes here\n",
    "\n",
    "# Concatenate DataFrames horizontally\n",
    "#Your code goes here"
   ]
  },
  {
   "cell_type": "markdown",
   "id": "5bf41ca4-6f95-4e73-a11a-731dba534c46",
   "metadata": {},
   "source": [
    "## Saving Pandas DataFrame\n",
    "\n",
    "We can save a Pandas DataFrame to various file formats using different methods provided by Pandas. Before we move forward with saving  a pandas dataframe, let’s first create a new directory called “Results” within the directory that contains your code."
   ]
  },
  {
   "cell_type": "markdown",
   "id": "5e136d29-f3fe-4da2-bed0-8a67e4b115c3",
   "metadata": {},
   "source": [
    "Here are some commonly used methods to save a DataFrame:\n",
    "-  CSV Format: To save a DataFrame to a CSV file, we can use the to_csv() method:\n"
   ]
  },
  {
   "cell_type": "code",
   "execution_count": 53,
   "id": "09e024a1-aa66-4056-9567-80949430a5a5",
   "metadata": {
    "tags": []
   },
   "outputs": [],
   "source": [
    "# Save DataFrame to CSV file\n",
    "#Your code goes here"
   ]
  },
  {
   "cell_type": "markdown",
   "id": "b88d0cca-f2a3-4e6d-89be-f87c42a2abad",
   "metadata": {},
   "source": [
    "-  Excel Format: To save a DataFrame to an Excel file, we can use the to_excel() method:"
   ]
  },
  {
   "cell_type": "code",
   "execution_count": 54,
   "id": "297c5711-f95d-4119-9159-80fda6d25fcb",
   "metadata": {
    "tags": []
   },
   "outputs": [],
   "source": [
    "# Save DataFrame to Excel file\n",
    "#Your code goes here"
   ]
  },
  {
   "cell_type": "markdown",
   "id": "ac40f8eb-8a1b-44d8-94d8-b286ca347753",
   "metadata": {},
   "source": [
    "This will save the DataFrame to an Excel file named ‘output.xlsx’  inside a directory called “Results”, without including the index.\n"
   ]
  },
  {
   "cell_type": "markdown",
   "id": "5a686d5f-531f-46fc-92f1-273d683fa485",
   "metadata": {},
   "source": [
    "-  Other Formats: Pandas supports various other formats, including JSON, Parquet, HDF5, and more. We can use the appropriate method based on the desired format:\n",
    "\n",
    "    -   JSON: df.to_json(\"output.json\", orient=\"records\")\n",
    "    -   Parquet: df.to_parquet(\"output.parquet\")\n",
    "    -   HDF5: df.to_hdf(\"output.h5\", key=\"data\")\n",
    "\n",
    "Make sure to replace ‘output’ with your desired file name and extension.\n"
   ]
  },
  {
   "cell_type": "markdown",
   "id": "f4eaf78d-1b0b-4c1a-9f90-7a63292cd9fa",
   "metadata": {},
   "source": [
    "# Matplotlib\n",
    "Matplotlib is a powerful plotting library used for creating static, interactive, and animated visualizations in Python. It provides a wide array of functions and tools to generate graphs and plots, making it one of the most popular data visualization tools in the data science and analytics community. \n",
    "\n",
    "Let's start by importing our library:"
   ]
  },
  {
   "cell_type": "code",
   "execution_count": 55,
   "id": "b7327a1f-149c-443e-9b91-13fddd890d18",
   "metadata": {},
   "outputs": [],
   "source": [
    "#Your code goes here"
   ]
  },
  {
   "cell_type": "markdown",
   "id": "85ee30ec-fd02-49ec-bc65-ae7c0cc24106",
   "metadata": {},
   "source": [
    "### Line Plot\n",
    "Line plots are used to visualize trends and changes in data over a continuous range, or time. We use line plots when we have data that can be represented as a series of points connected by lines, such as time series data or data with a natural ordering.\n",
    "\n",
    "Let's create a simple line plot using Matplotlib to visualize a set of data points:"
   ]
  },
  {
   "cell_type": "code",
   "execution_count": 56,
   "id": "c6cc20c1-8ad9-4a0a-b8a5-161b0d742b48",
   "metadata": {
    "tags": []
   },
   "outputs": [],
   "source": [
    "# Sample data\n",
    "x = [1,2,3,4,5]\n",
    "y = [10,12,3,8,7]\n",
    "\n",
    "# Create a basic line plot\n",
    "#Your code goes here\n",
    "\n",
    "# Add labels and a title\n",
    "#Your code goes here\n",
    "\n",
    "# Show the plot\n",
    "#Your code goes here\n"
   ]
  },
  {
   "cell_type": "markdown",
   "id": "1f6129f4-2a5a-4f23-a9dd-3cbd6dead281",
   "metadata": {},
   "source": [
    "The line plot suggests a fluctuating trend in the data. There’s an initial increase in y values, followed by a sudden drop, then a slight recovery towards the end."
   ]
  },
  {
   "cell_type": "markdown",
   "id": "e59edb99-f980-4b40-9ad0-9a625f522b84",
   "metadata": {},
   "source": [
    "#### Code Explanation\n",
    "- **x** and **y** represent the sample data points that we want to plot.\n",
    "- **plt.plot(x, y)**: This line creates a basic line plot using the plot function. It takes x and y as arguments to plot the data points.\n",
    "- **plt.xlabel('X-axis')** and **plt.ylabel('Y-axis')**: These lines label the X and Y axes, respectively, providing context for the plot.\n",
    "- **plt.title('Line Plot Example')**: This line adds a title to the plot.\n",
    "- **plt.show()**: This function displays the plot on the screen."
   ]
  },
  {
   "cell_type": "markdown",
   "id": "db8ead4b-cc00-40f1-90d6-c26d3c2e6e58",
   "metadata": {},
   "source": [
    "### Scatter Plot\n",
    "Scatter plots are used to visualize individual data points as dots on a two-dimensional plane. They are valuable for identifying patterns, trends, and relationships between two variables. \n",
    "\n",
    "We will create a scatter plot using Matplotlib to visualize individual data points.\n"
   ]
  },
  {
   "cell_type": "code",
   "execution_count": 57,
   "id": "be7687e0-2a6f-4dc9-924e-7cbba5ae4abd",
   "metadata": {
    "tags": []
   },
   "outputs": [],
   "source": [
    "# Sample data\n",
    "x =[1,2,3,4,5]\n",
    "y = [10,12,5,8,7]\n",
    "\n",
    "# Create a scatter plot\n",
    "#Your code goes here\n",
    "\n",
    "# Add labels and a legend\n",
    "#Your code goes here\n",
    "\n",
    "# Show the plot\n",
    "#Your code goes here"
   ]
  },
  {
   "cell_type": "markdown",
   "id": "326b81e5-c4ac-4a5e-9da1-7bcfd7171c8f",
   "metadata": {},
   "source": [
    "The scatter plot shows no clear trend or pattern, with data points scattered across the plot. An outlier at (3, 5) deviates significantly from the general grouping, indicating unique or unusual data. Scatter plots provide precise information about individual data points, but without a clear trend, conclusions are difficult."
   ]
  },
  {
   "cell_type": "markdown",
   "id": "3a8b2088-f9c1-409a-bce1-1843ca85dc63",
   "metadata": {},
   "source": [
    "#### Code Explanation\n",
    "- **x** and **y** represent the sample data points.\n",
    "- **plt.scatter(x, y, color='red', marker='o', label='Data Points')**: This line creates a scatter plot. We specify the color, marker style (in this case, a red circle), and label for the data points.\n",
    "- **plt.xlabel('X-axis')** and **plt.ylabel ('Y-axis')**: These lines label the X and Y axes, providing context for the plot.\n",
    "- **plt.legend()**: This line adds a legend to the plot, using the label provided in the scatter function.\n",
    "- **plt.show()**: This function displays the plot."
   ]
  },
  {
   "cell_type": "markdown",
   "id": "25304d62-6743-4e0d-ab1b-6df2795c2bf9",
   "metadata": {
    "tags": []
   },
   "source": [
    "### Bar Chart\n",
    "Bar charts represent categorical data with discrete bars, making it easy to compare values across different categories. We use bar charts when we want to compare data across categories, show rankings, or display frequencies or counts for discrete items.\n",
    "\n",
    "We will create a bar chart using Matplotlib to visualize categorical data and compare values."
   ]
  },
  {
   "cell_type": "code",
   "execution_count": 58,
   "id": "f5e83d75-5a9c-4997-b5b0-aed51a6605c5",
   "metadata": {
    "tags": []
   },
   "outputs": [],
   "source": [
    "# Sample data\n",
    "categories = ['Category A', 'Category B', 'Category C']\n",
    "values =[25,40,30]\n",
    "\n",
    "# Create a bar chart\n",
    "#Your code goes here\n",
    "\n",
    "# Add labels and a title\n",
    "#Your code goes here\n",
    "\n",
    "# Show the plot\n",
    "#Your code goes here"
   ]
  },
  {
   "cell_type": "markdown",
   "id": "dd08ba49-8055-48f9-a485-f9806a7cfacb",
   "metadata": {},
   "source": [
    "The bar chart allows for a straightforward comparison of values between different categories. We can easily see that ‘Category B’ has the highest value (40), followed by ‘Category C’ (30) and ‘Category A’ (25). Each bar represents a distinct category, making it easy to visually assess the relative magnitudes of each category. The vertical height of each bar directly corresponds to the value it represents. This provides a clear and intuitive representation of the data."
   ]
  },
  {
   "cell_type": "markdown",
   "id": "82a65329-5065-4534-aac0-30585e016b16",
   "metadata": {},
   "source": [
    "#### Code Explanation\n",
    "- **categories** and **values** represent the categorical data and their corresponding values.\n",
    "- **plt.bar(categories, values, color='skyblue')**: This line creates a bar chart. We specify the categories, values, and color for the bars.\n",
    "- **plt.xlabel('Categories')** and **plt.ylabel('Values')**: These lines label the X and Y axes, providing context for the plot.\n",
    "- **plt.title('Bar Chart Example')**: This line adds a title to the plot.\n",
    "- **plt.show()**: This function displays the plot"
   ]
  },
  {
   "cell_type": "markdown",
   "id": "54f3a4f0-3ade-415a-b2b5-ea9722b24a3a",
   "metadata": {},
   "source": [
    "### Histogram\n",
    "Histograms are used to visualize the distribution of a single continuous variable. They divide the data into bins or intervals and show the frequency or count of data points in each bin. We use histograms when we want to understand the shape of a dataset’s distribution, identify central tendencies (mean, median, mode), and observe data skewness or the presence of multiple peaks.\n",
    "\n",
    "We will create a histogram using Matplotlib to visualize the distribution of numerical data."
   ]
  },
  {
   "cell_type": "code",
   "execution_count": 59,
   "id": "9b422324-aa88-4385-91d7-1472edf900e8",
   "metadata": {
    "tags": []
   },
   "outputs": [],
   "source": [
    "# Generate random data\n",
    "#Your code goes here\n",
    "\n",
    "# Create a histogram\n",
    "#Your code goes here\n",
    "\n",
    "# Add labels and a title\n",
    "#Your code goes here\n",
    "\n",
    "# Show the plot\n",
    "#Your code goes here"
   ]
  },
  {
   "cell_type": "markdown",
   "id": "d9d8437f-0631-4fe6-b75d-41dcbbd46cc7",
   "metadata": {},
   "source": [
    "The histogram provides insights into the shape of the data distribution. In this case, it appears to be approximately normally distributed, centered around zero. Each bin on the x-axis represents a range of values, and the height of the bars indicates how many data points fall within that range. For example, the tallest bar around zero indicates a higher frequency of values in that range. The spread of the bars shows the variability of the data. Wider distributions indicate more variability, while narrower distributions suggest less variation.\n",
    "\n",
    "Also remember, usually high bars or isolated bars far from the main cluster may indicate outliers or anomalies in the data. The center of the distribution (often represented by the highest point) gives an indication of the central tendency of the data."
   ]
  },
  {
   "cell_type": "markdown",
   "id": "fb847c03-979e-40e0-8268-a001827286cc",
   "metadata": {},
   "source": [
    "#### Code Explanation\n",
    "- data is generated as random data using NumPy’s **randn** function.\n",
    "- **plt.hist(data, bins=20, color='green', alpha=0.6)**: This line creates a histogram. We specify the data, the number of bins, the color of the bars, and their transparency (alpha).\n",
    "- **plt.xlabel('Values')** and **plt.ylabel('Frequency')**: These lines label the X and Y axes, providing context for the plot.\n",
    "- **plt.title('Histogram Example')**: This line adds a title to the plot.\n",
    "- **plt.show()**: This function displays the plot.\n"
   ]
  },
  {
   "cell_type": "markdown",
   "id": "58fd11aa-9d1b-4bc2-b8c5-649220905924",
   "metadata": {},
   "source": [
    "### Pie Chart\n",
    "Pie charts show the composition of a whole by dividing it into segments, typically representing proportions or percentages. We use pie charts when we want to visualize how individual components contribute to a whole, but be cautious with complex datasets or too many segments, as they can be challenging to interpret.\n",
    "\n",
    "We will create a pie chart using Matplotlib to represent the distribution of categories within a dataset.\n"
   ]
  },
  {
   "cell_type": "code",
   "execution_count": 60,
   "id": "51cd6ddc-f08f-4a6e-a8d5-4740a09efd6d",
   "metadata": {
    "tags": []
   },
   "outputs": [],
   "source": [
    "# Sample data\n",
    "categories = ['Category A', 'Category B', 'Category C', 'Category D']\n",
    "sizes = [30,20,15,35]\n",
    "\n",
    "# Create a pie chart\n",
    "#Your code goes here\n",
    "\n",
    "# Add a title\n",
    "#Your code goes here\n",
    "\n",
    "# Show the plot\n",
    "#Your code goes here"
   ]
  },
  {
   "cell_type": "markdown",
   "id": "86be3451-bb8e-4b74-8849-d0037c374ad7",
   "metadata": {},
   "source": [
    "The sizes of the wedges accurately represent the relative proportions of the categories. For example, ‘Category D’ (35%) has the largest segment, indicating it is the largest category.\n",
    "\n",
    "The pie chart allows for an easy visual comparison of the different categories. Viewers can quickly see which category is the largest and how the others compare."
   ]
  },
  {
   "cell_type": "markdown",
   "id": "8f0686a8-754a-4c08-bded-abaf6db94ad7",
   "metadata": {},
   "source": [
    "#### Code Explanation\n",
    "- **categories** and **sizes** represent the categories and their respective sizes.\n",
    "- **plt.pie(sizes, labels=categories, autopct='%1.1f%%', startangle=90, colors=['gold', 'lightcoral', 'lightskyblue', 'lightgreen'])**: This line creates a pie chart. We specify the sizes, labels, percentage format, starting angle, and colors for the pie slices.\n",
    "- **plt.title('Pie Chart Example')**: This line adds a title to the plot.\n",
    "- **plt.show()**: This function displays the pie chart."
   ]
  },
  {
   "cell_type": "markdown",
   "id": "a62df193-7ccc-4d30-9a34-abdb85d3b44e",
   "metadata": {},
   "source": [
    "## Plot and Save\n",
    "Saving a figure during visualization is crucial to preserve and share the insights gained from the data. It ensures that the visual representation is accessible for future reference, analysis, and communication with others.\n",
    "\n",
    "Here’s an example of how to create a simple line plot using Matplotlib and save it to an image file:\n"
   ]
  },
  {
   "cell_type": "code",
   "execution_count": 61,
   "id": "d62cf2a5-c320-437a-8467-93f0408aa690",
   "metadata": {
    "tags": []
   },
   "outputs": [],
   "source": [
    "# Sample data\n",
    "x = [1,2,3,4,5]\n",
    "y = [10,12,5,8,7]\n",
    "\n",
    "# Create a line plot\n",
    "#Your code goes here\n",
    "\n",
    "# Add labels and a title\n",
    "#Your code goes here\n",
    "\n",
    "# Save the plot to an image file (e.g., PNG)\n",
    "#Your code goes here\n",
    "\n",
    "# Show the plot (optional)\n",
    "#Your code goes here"
   ]
  },
  {
   "cell_type": "markdown",
   "id": "4a41daa2-bdb5-4d57-9179-60a991141ac7",
   "metadata": {},
   "source": [
    "Pandas and Matplotlib have so much to offer that it’s impossible to cover everything in just one go. We’ve only scratched the surface, but these libraries can handle everything from cleaning messy data to creating detailed, insightful visualizations. Whether you're working with small datasets or large-scale analysis, they make data manipulation and presentation much easier. Given how essential they are for data science and analytics, they definitely deserve a full series to explore their features, tricks, and best practices in more depth."
   ]
  }
 ],
 "metadata": {
  "kernelspec": {
   "display_name": "Python 3 (ipykernel)",
   "language": "python",
   "name": "python3"
  },
  "language_info": {
   "codemirror_mode": {
    "name": "ipython",
    "version": 3
   },
   "file_extension": ".py",
   "mimetype": "text/x-python",
   "name": "python",
   "nbconvert_exporter": "python",
   "pygments_lexer": "ipython3",
   "version": "3.12.7"
  }
 },
 "nbformat": 4,
 "nbformat_minor": 5
}
