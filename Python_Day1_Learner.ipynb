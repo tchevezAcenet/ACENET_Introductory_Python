{
 "cells": [
  {
   "cell_type": "markdown",
   "id": "37f23b7a-d509-4dbf-8791-021de7fc8405",
   "metadata": {},
   "source": [
    "# Introductory Programming with Python (Part 1)\n",
    "\n",
    "## Variables\n",
    "\n",
    "Before we jump into analyzing data, let’s talk about one of the most powerful tools in programming: ***variables***. Think of a variable like a storage box where you can put information that you might want to use later. This is how we make computers remember things for us!\n",
    "\n",
    "Let’s start with something simple. Imagine using Python like a calculator. You can do quick math, like this:"
   ]
  },
  {
   "cell_type": "code",
   "execution_count": 7,
   "id": "347f42dc-e618-4cef-b9c0-e53e314c172f",
   "metadata": {},
   "outputs": [],
   "source": [
    "# your code here"
   ]
  },
  {
   "cell_type": "markdown",
   "id": "b43f5f7b-ad94-4213-8aaf-f031e0b64b66",
   "metadata": {},
   "source": [
    "This is very handy, but let’s be honest, it’s not very exciting. What makes programming powerful is the ability to store this result or any other data, and use it again whenever we need it. That’s where variables come in.\n",
    "\n",
    "### What Is a Variable?\n",
    "A variable is a name that refers to a value. In the previous example, we saw that we can use Python as an advanced calculator. However, the results of these computations are lost after we perform our operations. If we want to save and reuse any value in a code, we need to save these computations in a place in computer memory to be able to access it in the future.\n",
    "\n",
    "Variables are names that we associate with a memory location in computers. As such variables are not values themselves but they point to a memory location where the actual values are stored."
   ]
  },
  {
   "cell_type": "code",
   "execution_count": 4,
   "id": "b62b135a-3e9e-4daa-a91f-c10fd8c45dc1",
   "metadata": {},
   "outputs": [],
   "source": [
    "# your code here"
   ]
  },
  {
   "cell_type": "markdown",
   "id": "d4bddb99-8088-4a6e-b954-3e56db61531c",
   "metadata": {},
   "source": [
    "Now, Python will remember that **weight_kg equals 60**. Instead of doing the math all over again or writing the number repeatedly, we just use weight_kg whenever we need it.\n",
    "\n",
    "**A Few Rules for Naming Variables:**\n",
    "- You can use **letters**, **digits**, and **underscores (_)**, but the name ***can’t*** start with a ***digit***.\n",
    "- Variable names are case-sensitive, so **weight** and **Weight** are two different things.\n",
    "\n",
    "For example:\n",
    "- **weight0** is valid, but **0weight** isn’t.\n",
    "- **weight_kg** is different from **Weight_kg**."
   ]
  },
  {
   "cell_type": "markdown",
   "id": "70d1df46-7ce0-4a30-903e-a8107f17874b",
   "metadata": {},
   "source": [
    "### Types of Data in Python\n",
    "Python can work with different types of data. Three of the most common types are:\n",
    "\n",
    "- **Integers** (whole numbers like 1, 2, 100)\n",
    "- **Floating point numbers** (numbers with decimals like 2.5, 60.3)\n",
    "- **Strings** (text like \"Hello\", \"001\")\n",
    "- **Booleans** (True or False)"
   ]
  },
  {
   "cell_type": "markdown",
   "id": "8a23d039-08c0-4c2a-9a3d-91d26f1cc808",
   "metadata": {},
   "source": [
    "For example, let’s say we want to store a patient’s weight. If the weight is exactly 60 kilograms, we can use an integer:"
   ]
  },
  {
   "cell_type": "code",
   "execution_count": 2,
   "id": "6559d1ad-39dd-4235-bd2d-598d7278b023",
   "metadata": {},
   "outputs": [],
   "source": [
    "# your code here"
   ]
  },
  {
   "cell_type": "markdown",
   "id": "11ff29ef-2095-4dee-bfa2-7823ae7f13f7",
   "metadata": {},
   "source": [
    "But if we want to be more precise, like 60.3 kilograms, we can use a floating point number:"
   ]
  },
  {
   "cell_type": "code",
   "execution_count": null,
   "id": "ad724746-0584-4ef5-b7d9-3fe4f520c6ab",
   "metadata": {},
   "outputs": [],
   "source": [
    "# your code here"
   ]
  },
  {
   "cell_type": "markdown",
   "id": "ac14e004-efb8-4c53-8628-3edd22a31349",
   "metadata": {},
   "source": [
    "Here, *weight_kg* is a variable that stores a decimal number, or a **float**. It could represent any weight in kg measurement, which we might later use for calculations or comparisons."
   ]
  },
  {
   "cell_type": "markdown",
   "id": "55066efa-1515-41ac-a21f-641bca116e1d",
   "metadata": {},
   "source": [
    "We can also store text:"
   ]
  },
  {
   "cell_type": "code",
   "execution_count": 11,
   "id": "dd13e10f-2aed-4f12-8377-c0f856140001",
   "metadata": {},
   "outputs": [],
   "source": [
    "# your code here"
   ]
  },
  {
   "cell_type": "markdown",
   "id": "2b5a7443-d044-488c-bf45-112eebfe35b2",
   "metadata": {},
   "source": [
    "**Strings** can store text data, which can be useful for labeling or adding metadata.\n",
    "\n",
    "And lastly, we have **booleans**, which are used to represent true or false values. They are helpful in logical operations or conditions:"
   ]
  },
  {
   "cell_type": "code",
   "execution_count": 13,
   "id": "a4a27635-ce85-468a-97b7-a023db67028a",
   "metadata": {},
   "outputs": [],
   "source": [
    "# your code here"
   ]
  },
  {
   "cell_type": "markdown",
   "id": "4a886080-e8c6-4362-a6ef-8ec5e263a4ab",
   "metadata": {},
   "source": [
    "With this variable, we could decide whether to apply certain calculations or adjustments based on the height. It can help us write cleaner, more conditional code."
   ]
  },
  {
   "cell_type": "markdown",
   "id": "486d1ba7-e463-424b-8d6c-4a26873b16b8",
   "metadata": {},
   "source": [
    "## Basic Operations with Variables\n",
    "\n",
    "### Working with Numbers: Integers and Floats\n",
    "\n",
    "**Addition** is one of the simplest operations. If you want to increase a value, you just add to it. For example, if you have a depth measurement of 200 meters and want to add 50 more, Python gives you 250 meters like this:"
   ]
  },
  {
   "cell_type": "code",
   "execution_count": 16,
   "id": "a4e00fa9-55d8-439c-935b-4d7a8bd288d8",
   "metadata": {},
   "outputs": [],
   "source": [
    "# your code here"
   ]
  },
  {
   "cell_type": "markdown",
   "id": "58377bae-28e4-41b7-ae61-587ce32c1b6f",
   "metadata": {},
   "source": [
    "Other operations are just as simple. If you want to double a temperature value, you multiply it by 2 like this:"
   ]
  },
  {
   "cell_type": "code",
   "execution_count": 18,
   "id": "add90e1e-c17d-446c-be57-80fbea2def11",
   "metadata": {},
   "outputs": [],
   "source": [
    "# your code here"
   ]
  },
  {
   "cell_type": "markdown",
   "id": "6f49bf4f-be04-4d7f-a3ca-2bfd0001fc90",
   "metadata": {},
   "source": [
    "Division also works the same way: dividing 200 by 100 gives 2.0 like this:"
   ]
  },
  {
   "cell_type": "code",
   "execution_count": 20,
   "id": "3609e963-6668-4e90-88e4-d34e7598403c",
   "metadata": {},
   "outputs": [],
   "source": [
    "# your code here"
   ]
  },
  {
   "cell_type": "markdown",
   "id": "22547a00-0506-4e88-bb31-7d264c51b8d3",
   "metadata": {},
   "source": [
    "Python can also handle exponents, like squaring numbers. If you want to find what 200 times 200 is, you can get it this way:"
   ]
  },
  {
   "cell_type": "code",
   "execution_count": 22,
   "id": "c27ebe8b-d338-499b-9b5a-28b96fcf4c25",
   "metadata": {},
   "outputs": [],
   "source": [
    "# your code here"
   ]
  },
  {
   "cell_type": "markdown",
   "id": "7dbd7114-f013-4dcc-acd9-4eb02f5498c0",
   "metadata": {},
   "source": [
    " This is useful for calculating things like squared distances or other exponential relationships."
   ]
  },
  {
   "cell_type": "markdown",
   "id": "f689363f-f32c-4ca4-aba8-4ae89a8ae9aa",
   "metadata": {},
   "source": [
    "### Working with Strings\n",
    "With strings, one common thing we do is combine them, known as **concatenation**. Imagine you have two words, first name and last name, like \"John\" and \"Doe\", and you want to make them into one full name: \"John Doe.\" You do this by placing them side by side with a plus sign between them, and Python combines them into one."
   ]
  },
  {
   "cell_type": "code",
   "execution_count": 26,
   "id": "cd998b96-118b-4f3b-8680-175950dad8e1",
   "metadata": {},
   "outputs": [],
   "source": [
    "# your code here"
   ]
  },
  {
   "cell_type": "markdown",
   "id": "25114e3f-e560-4877-8cea-525b6113974a",
   "metadata": {},
   "source": [
    "Another thing you can do with strings is **repeat** them. For instance, if you have the word \"hello,\" you could repeat it multiple times, like \"hello hello hello\" In Python, you simply tell it to multiply the word by the number of times you want it to appear like this:"
   ]
  },
  {
   "cell_type": "code",
   "execution_count": 28,
   "id": "3e622a4f-9e6f-4063-a773-c7890b03c808",
   "metadata": {},
   "outputs": [],
   "source": [
    "# your code here"
   ]
  },
  {
   "cell_type": "markdown",
   "id": "ae358708-f6de-443a-afd7-99a29af1d264",
   "metadata": {},
   "source": [
    "### Working with Booleans\n",
    "\n",
    "**Booleans** in Python are very straightforward: they represent only two options, *True or False*. They’re useful when you’re asking questions or checking if something meets certain conditions.\n",
    "\n",
    "For example, let’s say you want to check if a measurement is above a certain number. Imagine you have a depth measurement of 200 meters, and you want to know if it’s deeper than 100 meters:"
   ]
  },
  {
   "cell_type": "code",
   "execution_count": 30,
   "id": "796084c7-fa7b-48ac-887a-07a2fd0a2885",
   "metadata": {},
   "outputs": [],
   "source": [
    "# your code here"
   ]
  },
  {
   "cell_type": "markdown",
   "id": "90b5b338-f32b-413a-8ec7-9c05fe35dc38",
   "metadata": {},
   "source": [
    "We can also ask Python to check **multiple conditions** at once. Maybe you want to know if the depth is both deeper than 100 meters and colder than a certain temperature, like 5 degrees. You can combine these two questions into one. If both are true, Python tells you True; if either one isn’t true, it returns False"
   ]
  },
  {
   "cell_type": "code",
   "execution_count": 33,
   "id": "e655b43f-28a3-4f18-bf75-19c40353e81c",
   "metadata": {},
   "outputs": [],
   "source": [
    "# your code here"
   ]
  },
  {
   "cell_type": "markdown",
   "id": "a20bf97b-e625-48cd-a197-d04def83238a",
   "metadata": {},
   "source": [
    "### Mixing Types Together\n",
    "\n",
    "Sometimes, Python lets us mix different types in ways that make sense. For example, in Python, True can be thought of as 1, and False as 0. So, if you’re working with booleans and numbers together, Python might do things like add 1 if something is True or leave it the same if it’s False."
   ]
  },
  {
   "cell_type": "code",
   "execution_count": 36,
   "id": "811a0dc2-2cb3-4a37-9b73-8593278bb6fe",
   "metadata": {},
   "outputs": [],
   "source": [
    "# your code here"
   ]
  },
  {
   "cell_type": "markdown",
   "id": "39ac0915-17c6-4cea-bdd5-9e8438f2c171",
   "metadata": {},
   "source": [
    "These simple operations let you do quite a bit in Python. With strings, you can create descriptive phrases; with numbers, you can add, multiply, and do more complex math; with booleans, you can check conditions and make decisions. This flexibility is what makes Python both powerful and beginner-friendly—it’s easy to write code that mimics real-world problem-solving, step by step."
   ]
  },
  {
   "cell_type": "markdown",
   "id": "40bdc51a-8774-4556-b888-28d1c28225a2",
   "metadata": {},
   "source": [
    "## Data Structures\n",
    "**Data structures** are essential for organizing and managing data in programming. In Python, we have several types of data structures, but three of the most commonly used ones are *lists, tuples, and dictionaries*. Each of these has unique characteristics and uses that make them suitable for different tasks.\n",
    "\n",
    "### Lists\n",
    "A **list** in Python is a collection of items that can be modified. This means you can add, remove, or change items in a list as needed. Lists are defined using square brackets []:"
   ]
  },
  {
   "cell_type": "code",
   "execution_count": 38,
   "id": "f5645e44-fba4-4ffc-80a8-dd393e053947",
   "metadata": {},
   "outputs": [],
   "source": [
    "# your code here"
   ]
  },
  {
   "cell_type": "markdown",
   "id": "2f61070c-9ea8-425d-b95d-05ed47af0718",
   "metadata": {},
   "source": [
    "In this example, we have a list called **grades** that stores test scores from different students."
   ]
  },
  {
   "cell_type": "markdown",
   "id": "b4fe5bd3-510d-4ddf-a65d-fc353147655c",
   "metadata": {},
   "source": [
    "#### Using Lists:\n",
    "**1. Accessing Lists:** Each item in a list has a position called an index, starting from 0. You can access any item using its index:"
   ]
  },
  {
   "cell_type": "code",
   "execution_count": 40,
   "id": "102e71eb-b4f7-4bb7-a901-519773f844ad",
   "metadata": {},
   "outputs": [],
   "source": [
    "# your code here"
   ]
  },
  {
   "cell_type": "markdown",
   "id": "3fe369da-2161-4f13-8364-092233d8681c",
   "metadata": {},
   "source": [
    "**2. Modifying Items:** Lists are mutable, meaning you can change their contents:"
   ]
  },
  {
   "cell_type": "code",
   "execution_count": 43,
   "id": "16eb12a7-3598-46bb-b990-54d7c68eb323",
   "metadata": {},
   "outputs": [],
   "source": [
    "# your code here"
   ]
  },
  {
   "cell_type": "markdown",
   "id": "aac3a1d2-65e5-483a-b45c-9d1a2f6e844c",
   "metadata": {},
   "source": [
    "**3. Adding Items:** You can add new items to the end of a list using the ***append()*** method:"
   ]
  },
  {
   "cell_type": "code",
   "execution_count": 45,
   "id": "640c7b38-ff1c-4a89-aa69-f6774c41cfb1",
   "metadata": {},
   "outputs": [],
   "source": [
    "# your code here"
   ]
  },
  {
   "cell_type": "markdown",
   "id": "13c3d4c1-e72e-4c25-ab7d-c74982358f2a",
   "metadata": {},
   "source": [
    "**4. Removing Items:** You can remove items from a list using the **remove()** method or the **pop()** method:"
   ]
  },
  {
   "cell_type": "code",
   "execution_count": 72,
   "id": "28fe9f2b-aa34-4ec4-981a-e9492378b789",
   "metadata": {},
   "outputs": [],
   "source": [
    "# your code here - remove()"
   ]
  },
  {
   "cell_type": "code",
   "execution_count": 74,
   "id": "2fb9d328-a5b9-4286-93d7-53d144e5ecdd",
   "metadata": {},
   "outputs": [],
   "source": [
    "# your code here - pop()"
   ]
  },
  {
   "cell_type": "markdown",
   "id": "1113b09b-494f-48c5-8019-5175523a29b6",
   "metadata": {},
   "source": [
    "Consider a scenario where you are recording student test scores for a class. You can store these scores in a list. As new test results come in, you can easily update the list by adding new scores or modifying existing ones."
   ]
  },
  {
   "cell_type": "markdown",
   "id": "2083312c-7db5-4901-b0cc-3b8ce622e7ed",
   "metadata": {},
   "source": [
    "### Tuples\n",
    "A **tuple** is a collection of items, similar to a list, but it is ***immutable***. This means that once a tuple is created, it *cannot be changed*. Tuples are defined using parentheses ()."
   ]
  },
  {
   "cell_type": "code",
   "execution_count": 86,
   "id": "7aa1b884-c7b0-4080-bd07-cc37554d24c8",
   "metadata": {},
   "outputs": [],
   "source": [
    "# your code here"
   ]
  },
  {
   "cell_type": "markdown",
   "id": "732c6f56-dee4-4782-a90f-49eff4ab91ea",
   "metadata": {},
   "source": [
    "This tuple represents the geographic coordinates of a specific location."
   ]
  },
  {
   "cell_type": "markdown",
   "id": "16dbdee1-94a9-4f0e-b35b-7d7b90b7a773",
   "metadata": {},
   "source": [
    "#### Using Tuples:\n",
    "\n",
    "**1. Accessing Items:** Just like lists, you can access items in a tuple using their index:"
   ]
  },
  {
   "cell_type": "code",
   "execution_count": 88,
   "id": "44adf150-4660-4217-9346-849d57a053a0",
   "metadata": {},
   "outputs": [],
   "source": [
    "# your code here"
   ]
  },
  {
   "cell_type": "code",
   "execution_count": 90,
   "id": "763ce3fb-b325-47b8-86bf-4cce542f2f47",
   "metadata": {},
   "outputs": [],
   "source": [
    "# your code here"
   ]
  },
  {
   "cell_type": "markdown",
   "id": "a2a4a65e-a808-4c7b-8dcb-681599722173",
   "metadata": {},
   "source": [
    "**2. Benefits of Immutability:** Since tuples cannot be changed, they are useful for storing fixed data that should not be altered. This can help prevent accidental changes to important values. \n",
    "\n",
    "In oceanography, you might want to store the coordinates of a specific research station. Since these coordinates are fixed and won’t change, a tuple is the ideal choice. If you need to reference these coordinates later in your code, you can do so confidently, knowing they will not change."
   ]
  },
  {
   "cell_type": "markdown",
   "id": "e91a1fb2-9d8b-44cd-9aea-7a236020abdd",
   "metadata": {},
   "source": [
    "### Dictionaries \n",
    "A **dictionary** in Python is a collection of ***key-value pairs***, similar to how a real dictionary has words (keys) and their meanings (values). Each key in a dictionary must be unique, and you can use it to access its corresponding value. Dictionaries are defined using curly braces {}."
   ]
  },
  {
   "cell_type": "code",
   "execution_count": 94,
   "id": "4f41b324-3c63-40e0-8742-4c5e90f2d8cb",
   "metadata": {},
   "outputs": [],
   "source": [
    "# your code here"
   ]
  },
  {
   "cell_type": "markdown",
   "id": "daa23219-d195-48ca-b935-c966efa2b441",
   "metadata": {},
   "source": [
    "In this example, we have a dictionary called student_data that stores various pieces of information about a student's academic details."
   ]
  },
  {
   "cell_type": "markdown",
   "id": "55279890-0f28-4c90-83bd-0b0f17a8196c",
   "metadata": {},
   "source": [
    "#### Using Dictionaries:\n",
    "\n",
    "**1. Accessing Values:** You can retrieve a value using its corresponding key."
   ]
  },
  {
   "cell_type": "code",
   "execution_count": 96,
   "id": "b619cfdc-3918-4497-ac63-b6de670c4c2f",
   "metadata": {},
   "outputs": [],
   "source": [
    "# your code here"
   ]
  },
  {
   "cell_type": "markdown",
   "id": "4f5b34ed-0ab6-49e2-9a7f-09418eef89bf",
   "metadata": {},
   "source": [
    "**2. Adding or Modifying Values:** You can easily add new key-value pairs or modify existing ones:"
   ]
  },
  {
   "cell_type": "code",
   "execution_count": 100,
   "id": "8305e14b-20b6-4eda-8421-aa19f2f34657",
   "metadata": {},
   "outputs": [],
   "source": [
    "# your code here - modifying"
   ]
  },
  {
   "cell_type": "code",
   "execution_count": 98,
   "id": "a0d5e596-771c-4d3f-a6ae-d2ed671b3148",
   "metadata": {},
   "outputs": [],
   "source": [
    "# your code here - adding"
   ]
  },
  {
   "cell_type": "markdown",
   "id": "c7aa66ec-147d-478f-921e-e8a458e06e21",
   "metadata": {},
   "source": [
    "**3. Removing Key-Value Pairs:** You can remove a key-value pair using the **del** statement:"
   ]
  },
  {
   "cell_type": "code",
   "execution_count": 102,
   "id": "276ee14e-2f46-4ccd-b3af-eb96301c8429",
   "metadata": {},
   "outputs": [],
   "source": [
    "# your code here"
   ]
  },
  {
   "cell_type": "markdown",
   "id": "e7d40bb0-6917-4ddd-8479-f5527c6061a0",
   "metadata": {},
   "source": [
    "Now, let’s expand this dictionary to include more details by combining dictionaries and lists. We can represent multiple subjects with their scores and attendance records, offering a detailed view of the student’s academic performance."
   ]
  },
  {
   "cell_type": "code",
   "execution_count": 104,
   "id": "cdc4fea6-c425-4896-a731-994ec4f0d803",
   "metadata": {},
   "outputs": [],
   "source": [
    "# your code here"
   ]
  },
  {
   "cell_type": "markdown",
   "id": "119d0849-5e79-4e15-b05c-aad3d698f8ec",
   "metadata": {},
   "source": [
    "The **student_data_extension** example is a well-organized way to store information about a student's academic performance using a dictionary with a list of dictionaries inside. The main dictionary contains keys for the student's name and a list of subject records (each with details like score, attendance, and project information).\n",
    "\n",
    "This structure is beneficial because it keeps related information together, making it easy to find and update data. The use of a list allows for multiple subjects to be stored in order, while each subject's details are kept in their own dictionary.\n",
    "\n",
    "This combination of lists and dictionaries makes it simple to manage complex datasets in education and reflects how we naturally group information in real life"
   ]
  },
  {
   "cell_type": "markdown",
   "id": "a9833570-72d9-46e4-b783-4b2e680b9220",
   "metadata": {},
   "source": [
    "**Accessing Top-Level Data**\n",
    "\n",
    "***1. Access the Name:***\n",
    "To get the name of the student from the data, you can use the key \"name\":"
   ]
  },
  {
   "cell_type": "code",
   "execution_count": 106,
   "id": "a751d7c1-5209-498f-abb3-d1f604950528",
   "metadata": {},
   "outputs": [],
   "source": [
    "# your code here"
   ]
  },
  {
   "cell_type": "markdown",
   "id": "6661a1ed-ba11-4864-ab3e-fcf15993958d",
   "metadata": {},
   "source": [
    "**Accessing Data from the Samples List**\n",
    "\n",
    "***2.Access the Subjects:***\n",
    "The \"subjects\" key points to a list of subject dictionaries. To access this list, you would do:"
   ]
  },
  {
   "cell_type": "code",
   "execution_count": 108,
   "id": "35692eaa-4284-4047-ab7a-c260ee59da9d",
   "metadata": {},
   "outputs": [],
   "source": [
    "# your code here"
   ]
  },
  {
   "cell_type": "markdown",
   "id": "7f4f4b4a-a0cb-4b90-8dfa-cdd589561a1b",
   "metadata": {},
   "source": [
    "**3. Access Individual Subjects:**\n",
    "\n",
    "Each subject in the list can be accessed using its index (position in the list). Remember that Python uses zero-based indexing.\n",
    "\n",
    "For example, to access the first subject:"
   ]
  },
  {
   "cell_type": "code",
   "execution_count": 110,
   "id": "2004f081-2e8f-4316-a1b2-1aee372fc9f6",
   "metadata": {},
   "outputs": [],
   "source": [
    "# your code here"
   ]
  },
  {
   "cell_type": "markdown",
   "id": "425a9b54-650f-4a16-a6b5-783e2b767844",
   "metadata": {},
   "source": [
    "**4. Access Specific Data in a Subject:**\n",
    "\n",
    "You can also directly access specific details within a subject. For example, to get the score of the second subject:"
   ]
  },
  {
   "cell_type": "code",
   "execution_count": 112,
   "id": "be5ca122-b796-4a54-9531-4d2b2fbe4fb3",
   "metadata": {},
   "outputs": [],
   "source": [
    "# your code here"
   ]
  },
  {
   "cell_type": "markdown",
   "id": "18ad5a4a-cf3f-4e6a-b6c2-ffc95d6b4d2d",
   "metadata": {},
   "source": [
    "**5. Access Score and Attendance:**\n",
    "\n",
    "Similarly, you can access the score and attendance of any subject. For example, to get the attendance of the third subject:"
   ]
  },
  {
   "cell_type": "code",
   "execution_count": 114,
   "id": "034e3f92-f56b-4e54-ada9-d3e7601d7bd4",
   "metadata": {},
   "outputs": [],
   "source": [
    "# your code here "
   ]
  },
  {
   "cell_type": "markdown",
   "id": "9c6e49e6-caee-444b-bccd-1257dc8f3480",
   "metadata": {},
   "source": [
    "To access data in the student_data_extension dictionary, you use the keys to reach the specific pieces of information you need. You can start with top-level keys like \"name\" and then drill down into lists and dictionaries, using indices and additional keys to get to the exact data point you’re interested in. This method allows for easy retrieval and manipulation of structured data.\n",
    "\n",
    "#### Choosing the Right Data Structure\n",
    "\n",
    "Selecting the appropriate data structure is crucial. Here’s a quick guide:\n",
    "\n",
    "- **Use Lists** when you need to store a collection of items that you might want to change or add to, like student grades over multiple subjects or assignments.\n",
    "\n",
    "- **Use Tuples** for fixed data points that won't change, such as geographic coordinates of research locations.\n",
    "\n",
    "- **Use Dictionaries** when you need to associate related information together, such as all academic details for a specific student.\n",
    "\n",
    "Choosing the right data structure will make your data management more efficient and your code easier to understand."
   ]
  },
  {
   "cell_type": "markdown",
   "id": "e0642193-f2d2-4ae7-9c20-edef399e3810",
   "metadata": {},
   "source": [
    "### Exercise 1 : Choosing Data Structures\n",
    "**Objective:**\n",
    "Select the most appropriate data structures to organize the given data.\n",
    "\n",
    "**Instructions:**\n",
    "You have the following data for two warehouses:\n",
    "\n",
    "- Warehouse_A:\n",
    "    - item_id: I001, quantity: 50, price_per_unit: 1000\n",
    "    - item_id: I002, quantity: 200, price_per_unit: 25\n",
    "\n",
    "- Warehouse_B:\n",
    "\n",
    "    - item_id: I003, quantity: 150, price_per_unit: 45\n",
    "    - item_id: I004, quantity: 75, price_per_unit: 300\n",
    "    \n",
    "- Store Information:\n",
    "\n",
    "    - Name: TechMart\n",
    "    - Location : Downtown\n",
    "    - Year of Operation: 2025\n",
    "\n",
    "1. **Choose Data Structures:**\n",
    "\n",
    "- Decide how you would store the data for each warehouse, considering factors like easy access, readability, and organization.\n",
    "- Choose appropriate data structures (such as tuples, lists, or dictionaries) for both the warehouse data and the store information.\n",
    "\n",
    "2. **Create the Structures:**\n",
    "\n",
    "- Write the code to create the data structures you’ve chosen."
   ]
  },
  {
   "cell_type": "code",
   "execution_count": 116,
   "id": "3d8bc86a-4862-4de8-8a58-63344185ec7e",
   "metadata": {},
   "outputs": [],
   "source": [
    "# your code here"
   ]
  },
  {
   "cell_type": "markdown",
   "id": "b8de4464-036c-48b9-a0e6-824918ac7db5",
   "metadata": {},
   "source": [
    "## Using the print() Function in Python\n",
    "So far, we have learned about variables, data types, and data structures. We’ve also seen how to display data in Jupyter Lab by just typing the variable name at the end of the cell. Now, we need to learn how to use the **print()** function.\n",
    "\n",
    "Learning to print information is important because it helps us show our results clearly. It allows us to see what our code is doing, making it easier to find and fix mistakes. The print() function also lets us create helpful messages, making our code more user-friendly. "
   ]
  },
  {
   "cell_type": "markdown",
   "id": "777ecf99-2b7e-4360-9a2b-faa57861c650",
   "metadata": {},
   "source": [
    "**1. Printing Text (Strings):**\n",
    "\n",
    "You can print simple text by enclosing it in quotes. This is useful for displaying messages or information to users."
   ]
  },
  {
   "cell_type": "code",
   "execution_count": 118,
   "id": "602653ae-75eb-484a-ac1c-2e0f580287fe",
   "metadata": {},
   "outputs": [],
   "source": [
    "# your code here"
   ]
  },
  {
   "cell_type": "markdown",
   "id": "cbb9d2ea-d757-460b-8c9f-55f5b8303cbb",
   "metadata": {},
   "source": [
    "**2. Printing Numbers:**\n",
    "\n",
    "You can print numbers directly, including both integers and floats. This allows you to output numerical data easily."
   ]
  },
  {
   "cell_type": "code",
   "execution_count": 122,
   "id": "92b18a98-a226-404b-8856-c641a9ffc166",
   "metadata": {},
   "outputs": [],
   "source": [
    "# your code here"
   ]
  },
  {
   "cell_type": "markdown",
   "id": "1ac6a3b4-2f2e-4dec-a84e-a5dd0a7e510b",
   "metadata": {},
   "source": [
    "**3. Printing Multiple Items:**\n",
    "\n",
    "You can print multiple items by separating them with commas. This is useful for displaying related information in one line."
   ]
  },
  {
   "cell_type": "code",
   "execution_count": 124,
   "id": "bb5c4247-7511-4df8-9fed-3e1b68c650fb",
   "metadata": {},
   "outputs": [],
   "source": [
    "# your code here"
   ]
  },
  {
   "cell_type": "markdown",
   "id": "1ed666d8-a0d9-4a60-a5ce-0c974d1fa4ac",
   "metadata": {},
   "source": [
    "**4. Using f-strings for Formatting:**\n",
    "\n",
    "F-strings allow you to embed variables directly into strings, making it easy to create dynamic messages."
   ]
  },
  {
   "cell_type": "code",
   "execution_count": 126,
   "id": "4c0ce0f9-9c55-4bc3-a224-9eb8ad299ac7",
   "metadata": {},
   "outputs": [],
   "source": [
    "# your code here"
   ]
  },
  {
   "cell_type": "markdown",
   "id": "d6c04442-f9ef-4366-a551-ca8e777371fd",
   "metadata": {},
   "source": [
    "**5. Printing with Custom Formatting:**\n",
    "\n",
    "You can customize the format of the output, such as controlling the number of decimal places. This is helpful for ensuring that numerical output is displayed in a readable format."
   ]
  },
  {
   "cell_type": "code",
   "execution_count": 135,
   "id": "e58e48f1-bffd-4580-940a-072779dccefc",
   "metadata": {},
   "outputs": [],
   "source": [
    "# your code here"
   ]
  },
  {
   "cell_type": "markdown",
   "id": "9ce8e0bf-a1a6-48e6-a178-d77b038c6a99",
   "metadata": {},
   "source": [
    "**6. Debugging with Print:**\n",
    "\n",
    "The print() function is especially useful for debugging. You can use it to display the values of variables at various points in your code, helping you to understand what’s happening during execution."
   ]
  },
  {
   "cell_type": "code",
   "execution_count": 139,
   "id": "17046609-b7f9-4d22-8e62-c533d326a853",
   "metadata": {},
   "outputs": [],
   "source": [
    "# your code here"
   ]
  },
  {
   "cell_type": "markdown",
   "id": "0a6934af-1752-4841-ba1e-1ce39b9a14eb",
   "metadata": {},
   "source": [
    "## Control Structures\n",
    "**Control structures** are essential programming constructs that allow us to dictate the flow of our program. In Python, the most commonly used control structures include loops (for and while) and conditionals (if and else). These structures enable us to repeat actions, make decisions based on conditions, and manage how we process data.\n",
    "\n",
    "### Conditionals\n",
    "**Conditionals** allow us to execute certain blocks of code based on specific conditions. This means that our program can make decisions and act differently depending on the situation. The most common conditional statements in Python are *if, elif, and else*.\n",
    "\n",
    "#### Basic Structure of Conditionals:\n",
    "\n",
    "Here’s a simple structure for using conditionals:"
   ]
  },
  {
   "cell_type": "raw",
   "id": "417b16f5-528e-4fa8-80d8-d5cbffa49659",
   "metadata": {},
   "source": [
    "if condition:\n",
    "    # Code to execute if the condition is true\n",
    "elif another_condition:\n",
    "    # Code to execute if the first condition is false and this one is true\n",
    "else:\n",
    "    # Code to execute if both conditions are false"
   ]
  },
  {
   "cell_type": "markdown",
   "id": "bc8fb025-e89c-47b3-9500-59ba29ef25d2",
   "metadata": {},
   "source": [
    "#### Comparison Operators\n",
    "\n",
    "Comparison operators allow us to compare two values. Here are the most commonly used comparison operators in Python:"
   ]
  },
  {
   "cell_type": "raw",
   "id": "af0bb9ed-11ca-4fab-b13b-3f7e693c0147",
   "metadata": {},
   "source": [
    "==:  Equal to (checks if two values are the same)\n",
    "!=:  Not equal to (checks if two values are different)\n",
    " >:  Greater than (checks if the left value is larger than the right)\n",
    " <:  Less than (checks if the left value is smaller than the right)\n",
    ">=:  Greater than or equal to (checks if the left value is larger than or equal to the right)\n",
    "<=:  Less than or equal to (checks if the left value is smaller than or equal to the right)"
   ]
  },
  {
   "cell_type": "markdown",
   "id": "41f8fd67-9b89-4ca5-912a-83335a55cd18",
   "metadata": {},
   "source": [
    "Let’s say we want to categorize water temperature readings in the ocean:"
   ]
  },
  {
   "cell_type": "code",
   "execution_count": 144,
   "id": "1a8cb3b5-b2e4-452c-8dcb-bea8f57f6f2e",
   "metadata": {},
   "outputs": [],
   "source": [
    "# your code here"
   ]
  },
  {
   "cell_type": "markdown",
   "id": "c8dc762f-261e-482d-a811-0e0516f7d6ed",
   "metadata": {},
   "source": [
    "In this example:\n",
    "\n",
    "- If the temperature is less than 15°C, it prints \"Cold.\"\n",
    "- If the temperature is between 15°C and 25°C (inclusive), it prints \"Warm.\"\n",
    "- If the temperature is above 25°C, it prints \"Hot.\""
   ]
  },
  {
   "cell_type": "markdown",
   "id": "fb426a32-6923-4d89-bd00-c49eeb83f363",
   "metadata": {},
   "source": [
    "#### Logical Operators\n",
    "\n",
    "**Logical operators** allow us to combine multiple conditions. The most commonly used logical operators are:\n",
    "\n",
    "- **and:** Returns True if both conditions are true.\n",
    "- **or:** Returns True if at least one condition is true.\n",
    "- **not:** Reverses the truth value (makes True become False and vice versa).\n",
    "\n",
    "Let’s say we want to check if a temperature is within a comfortable range:"
   ]
  },
  {
   "cell_type": "code",
   "execution_count": 146,
   "id": "05960dfc-3a5c-4ac6-9f8a-78bcb96b1a90",
   "metadata": {},
   "outputs": [],
   "source": [
    "# your code here"
   ]
  },
  {
   "cell_type": "markdown",
   "id": "d3f32d62-28fe-4fcb-8d22-2843962218b4",
   "metadata": {},
   "source": [
    "In this example:\n",
    "\n",
    "- The condition temperature >= 15 and temperature <= 25 checks if the temperature is both greater than or equal to 15°C and less than or equal to 25°C.\n",
    "- If both conditions are true, it prints \"Temperature is comfortable.\""
   ]
  },
  {
   "cell_type": "markdown",
   "id": "acc05d1a-64a4-4f54-be9e-65fe5e0820d6",
   "metadata": {},
   "source": [
    "### Loops\n",
    "**Loops** allow us to repeat a block of code multiple times. This is especially useful when we have to process a collection of items, like a list of temperature readings or salinity measurements. The two primary types of loops in Python are ***for loops*** and ***while loops***.\n",
    "\n",
    "#### For Loops:\n",
    "A ***for loop*** is used to iterate over a sequence (like a list or a tuple). Here’s the basic structure:"
   ]
  },
  {
   "cell_type": "raw",
   "id": "4150e119-a087-4f4c-aa1e-609331cc0ca8",
   "metadata": {},
   "source": [
    "for item in sequence:\n",
    "    # Code to execute for each item"
   ]
  },
  {
   "cell_type": "markdown",
   "id": "3aa4e312-2b9d-4dea-93df-a056559062f1",
   "metadata": {},
   "source": [
    "Let’s say we want to print out each temperature reading from a list:"
   ]
  },
  {
   "cell_type": "code",
   "execution_count": 156,
   "id": "50099ec6-3a4f-4fd7-b782-de61439dd1dc",
   "metadata": {},
   "outputs": [],
   "source": [
    "temperature_readings= [22.5, 23.1, 24.0, 21.4, 23.6]\n",
    "\n",
    "# your code here"
   ]
  },
  {
   "cell_type": "markdown",
   "id": "b36f7bb8-2d1f-4c41-a0e1-f3507cfbd04f",
   "metadata": {},
   "source": [
    "In this example, the loop goes through each item in the ***temperature_readings*** list and prints it.\n",
    "\n",
    "For loops are helpful for analyzing datasets, such as computing the average temperature over several readings:"
   ]
  },
  {
   "cell_type": "code",
   "execution_count": 160,
   "id": "fcb6bf01-f74a-4bd5-b40b-30be8bfa1e4c",
   "metadata": {},
   "outputs": [],
   "source": [
    "temperature_readings= [22.5, 23.1, 24.0, 21.4, 23.6]\n",
    "\n",
    "# your code here"
   ]
  },
  {
   "cell_type": "markdown",
   "id": "068ed965-a899-41dc-a8bb-1a58c2b3464f",
   "metadata": {},
   "source": [
    "In this case, the loop calculates the total temperature and then finds the average by dividing by the number of readings."
   ]
  },
  {
   "cell_type": "markdown",
   "id": "ab47fd9b-a4bf-4ba5-be5e-292522b00c63",
   "metadata": {},
   "source": [
    "#### While Loops\n",
    "A while loop continues to execute as long as a specified condition is true. The basic structure looks like this:"
   ]
  },
  {
   "cell_type": "raw",
   "id": "6f2f49d0-77d9-4d5e-805b-a7ab25ef692a",
   "metadata": {},
   "source": [
    "while condition:\n",
    "    # Code to execute while the condition is true"
   ]
  },
  {
   "cell_type": "markdown",
   "id": "ee802d0e-bc48-4180-aac3-df2453111d23",
   "metadata": {},
   "source": [
    "Let’s consider a scenario where we want to keep collecting temperature data until we reach a specific number of readings:"
   ]
  },
  {
   "cell_type": "code",
   "execution_count": 162,
   "id": "01d96030-faed-4acc-bf15-cc262800b5bb",
   "metadata": {},
   "outputs": [],
   "source": [
    "temperature_readings = []\n",
    "\n",
    "# your code here"
   ]
  },
  {
   "cell_type": "markdown",
   "id": "7da8b3b3-118b-4db6-be3f-5c591500a33c",
   "metadata": {},
   "source": [
    "In this example, the loop will keep asking for new temperature readings until it has collected five readings.\n",
    "\n",
    "While loops can be useful for continuous data collection, such as monitoring temperature changes over time until a specified condition is met:"
   ]
  },
  {
   "cell_type": "code",
   "execution_count": 165,
   "id": "5c5f89c4-1b55-4595-ae6f-7fd4f1167d16",
   "metadata": {},
   "outputs": [],
   "source": [
    "temperature = 0\n",
    "\n",
    "# your code here"
   ]
  },
  {
   "cell_type": "markdown",
   "id": "68ac91fd-cdd3-45d4-bab2-6fbba8db4d9f",
   "metadata": {},
   "source": [
    "### Combining Loops and Conditionals\n",
    "Often, we will need to use both loops and conditionals together to process data effectively. For example, you might want to analyze temperature readings and categorize them within a loop.\n",
    "\n",
    "Let’s categorize a list of temperature readings as *\"Cold,\" \"Warm,\" or \"Hot\"*:"
   ]
  },
  {
   "cell_type": "code",
   "execution_count": 170,
   "id": "fbb7f6c1-74e4-4e53-a10c-00115bc18224",
   "metadata": {},
   "outputs": [],
   "source": [
    "temperature_readings = [10.0, 20.5, 25.0, 30.5]\n",
    "\n",
    "# your code here"
   ]
  },
  {
   "cell_type": "markdown",
   "id": "464cb1e6-3570-4ff6-86b8-f09305a9fbc9",
   "metadata": {},
   "source": [
    "In this example, the loop goes through each temperature reading, and the conditional statements categorize each temperature accordingly."
   ]
  },
  {
   "cell_type": "markdown",
   "id": "d0091745-186a-437c-ba52-c572148a107d",
   "metadata": {},
   "source": [
    "Now, let's combine everything we've learned so far and put it into practice!\n",
    "\n",
    "### Exercise 3 : Analyzing Ocean Conditions \n",
    "In this exercise, we will analyze some basic ocean data to understand the conditions at different sites. We’ll work with a dataset that includes temperature and salinity readings at different depths for two sites, **Site_A** and **Site_B**. Our goal is to:\n",
    "\n",
    "1. Calculate the average temperature and salinity for each site.\n",
    "2. Identify if any depth at a site has “cold” conditions (temperature below 10°C) or “high salinity” conditions (salinity above 35 ppt).\n",
    "\n",
    "To do this, we’ll use ***loops*** to go through each depth’s data and apply ***conditional*** checks to see if any of the readings meet these conditions. We’ll use two ***Boolean*** flags for cold and high salinity conditions to keep track of whether we find these conditions. At the end, we’ll print a summary for each site to show if the conditions are *“normal,” “cold,” “high salinity,” or both*. \n",
    "\n",
    "This exercise helps us practice using data structures, loops, and conditions to make decisions based on data."
   ]
  },
  {
   "cell_type": "markdown",
   "id": "a984859b-a850-4ade-a3e9-67e6e6709590",
   "metadata": {},
   "source": [
    "### Instructions \n",
    "\n",
    "1. **Create a Data Structure:**\n",
    "\n",
    "- Start by organizing the information for each site. For each site (for example, \"Site A\" and \"Site B\"), include a list of depth measurements, each with:\n",
    "\n",
    "    - Depth in meters\n",
    "    - Temperature in degrees Celsius (°C)\n",
    "    - Salinity in parts per thousand (ppt)\n",
    "\n",
    "*Here’s how your data might look:*\n",
    "\n",
    "Site A:\n",
    "  - Depth: 10m, Temperature: 15.0°C, Salinity: 33.0 ppt\n",
    "  - Depth: 50m, Temperature: 12.0°C, Salinity: 34.5 ppt\n",
    "  - Depth: 100m, Temperature: 8.5°C, Salinity: 36.0 ppt\n",
    "\n",
    "Site B:\n",
    "  - Depth: 10m, Temperature: 14.0°C, Salinity: 32.5 ppt\n",
    "  - Depth: 50m, Temperature: 11.5°C, Salinity: 33.8 ppt\n",
    "  - Depth: 100m, Temperature: 9.0°C, Salinity: 35.5 ppt\n",
    "\n",
    "2. **Set Up for Each Site:**\n",
    "\n",
    "- Once your data is organized, start analyzing each site.\n",
    "- Print a message saying you’re beginning analysis for the site.\n",
    "\n",
    "3. **Analyze Each Depth Measurement:**\n",
    "\n",
    "- Go through each measurement for the site, reviewing the depth, temperature, and salinity.\n",
    "\n",
    "4. **Calculate Totals for Temperature and Salinity:**\n",
    "\n",
    "- As you go through each reading, add up the temperature and salinity values. This will help you calculate the average for each.\n",
    "\n",
    "5. **Identify Special Conditions:**\n",
    "\n",
    "- While analyzing each reading, check if:\n",
    "    - The temperature is below 10°C. If so, note that the site has a “cold zone.”\n",
    "    - The salinity is above 35 ppt. If so, note that the site has a “high salinity zone.”\n",
    "\n",
    "6. **Calculate Averages:**\n",
    "\n",
    "- After analyzing all the readings for a site, calculate the average temperature and salinity by dividing each total by the number of measurements. Print these averages.\n",
    "\n",
    "7. **Summarize Conditions:**\n",
    "\n",
    "- Based on the conditions noted, summarize the results for each site:\n",
    "    - If both conditions were noted, state that the site has both cold and high salinity conditions.\n",
    "    - If only one condition is met, specify whether it’s a “cold zone” or “high salinity zone.”\n",
    "    - If neither condition is present, state that the site has “normal conditions.”"
   ]
  },
  {
   "cell_type": "code",
   "execution_count": 174,
   "id": "143e605b-a7bb-459d-bb6e-3c0650b24392",
   "metadata": {},
   "outputs": [],
   "source": [
    "# your code here\n",
    "            "
   ]
  },
  {
   "cell_type": "markdown",
   "id": "47fa3e25-bcf2-419a-956d-6a9f81e770df",
   "metadata": {},
   "source": [
    "## Functions\n",
    "In programming, **functions** are reusable blocks of code designed to perform a specific task. They help break down complex problems into smaller, manageable parts, making your code cleaner, easier to read, and more efficient. Functions promote the DRY (Don't Repeat Yourself) principle, which encourages code reusability.\n",
    "\n",
    "### Defining a Function\n",
    "To define a function, follow this basic syntax:"
   ]
  },
  {
   "cell_type": "raw",
   "id": "3b18cc26-87d5-402e-abbb-7186a715e2e3",
   "metadata": {},
   "source": [
    "def function_name(parameters):\n",
    "    \"\"\"Docstring (optional): Describes the function's purpose.\"\"\"\n",
    "    # Function body\n",
    "    return result  # (optional)"
   ]
  },
  {
   "cell_type": "markdown",
   "id": "23b94141-641e-4e0c-9bcb-8e8405a98bd8",
   "metadata": {},
   "source": [
    "In Python, a function is defined using the ***def*** keyword followed by the function name and parentheses, which may contain *parameters*.\n",
    "\n",
    "For example, ***def function_name(parameters):*** starts the definition, where the parameters allow you to pass input values.\n",
    "\n",
    "A *docstring* can be included right after the function definition in triple quotes to describe the function's purpose, helping users understand its functionality. \n",
    "\n",
    "The main code of the function, known as the *function body*, is indented and contains the operations that the function performs. \n",
    "\n",
    "Finally, a *return statement* can be used to send a result back to the caller, allowing you to output a value from the function.\n",
    "\n",
    "Here’s a simple function that adds two numbers:"
   ]
  },
  {
   "cell_type": "code",
   "execution_count": 176,
   "id": "e224fd7b-884c-426c-9d68-aca5149c9e88",
   "metadata": {},
   "outputs": [],
   "source": [
    "# your code here"
   ]
  },
  {
   "cell_type": "markdown",
   "id": "036f5799-c0f7-444a-bfae-0500ed304219",
   "metadata": {},
   "source": [
    "### Calling a Function\n",
    "Once a function is defined, you can call it by using its name followed by parentheses. If the function requires parameters, you need to provide them inside the parentheses."
   ]
  },
  {
   "cell_type": "code",
   "execution_count": 178,
   "id": "02b7274e-5c3f-4e99-9f2b-98f7045a0882",
   "metadata": {},
   "outputs": [],
   "source": [
    "# your code here"
   ]
  },
  {
   "cell_type": "markdown",
   "id": "d3b75a84-04bc-4d5a-ae1b-0ffd24002918",
   "metadata": {},
   "source": [
    "### Parameters and Arguments\n",
    "Functions can take parameters, which are placeholders for the values you pass into the function. When you call the function with actual values, those values are called arguments.\n",
    "\n",
    "You can define functions with:\n",
    "\n",
    "- **Positional Parameters:** These must be provided in the order defined.\n",
    "- **Keyword Arguments:** These allow you to specify which parameter you're providing by name.\n",
    "- **Default Parameters:** You can assign default values to parameters, which will be used if no argument is provided.\n"
   ]
  },
  {
   "cell_type": "code",
   "execution_count": 180,
   "id": "9fb18f4b-1e6b-4896-a249-06f805ff2abd",
   "metadata": {},
   "outputs": [],
   "source": [
    "# your code here"
   ]
  },
  {
   "cell_type": "markdown",
   "id": "fd30d55f-0afc-4bfa-8f6e-f8c4494b4055",
   "metadata": {},
   "source": [
    "**Explanation:**\n",
    "1. ***Positional Argument:*** In print(greet(\"Alice\")), only the positional argument is provided, so the default greeting \"Hello\" is used, resulting in \"Hello, Alice!\".\n",
    "\n",
    "2. ***Both Positional Arguments:*** In print(greet(\"Bob\", \"Hi\")), both \"Bob\" and \"Hi\" are positional arguments, where \"Bob\" corresponds to the name parameter and \"Hi\" corresponds to the greeting parameter. This results in \"Hi, Bob!\".\n",
    "\n",
    "3. ***Keyword Arguments:*** In print(greet(name=\"Charlie\", greeting=\"Welcome\")), both arguments are specified as keyword arguments. Here, name is explicitly set to \"Charlie\" and greeting is set to \"Welcome\", resulting in \"Welcome, Charlie!\".\n",
    "\n"
   ]
  },
  {
   "cell_type": "markdown",
   "id": "fe3e3f5d-a14d-4f22-8f87-2baec80473b3",
   "metadata": {},
   "source": [
    "### Scope of Variables\n",
    "Variables defined inside a function have local scope, meaning they cannot be accessed outside the function. Conversely, variables defined outside of a function have global scope."
   ]
  },
  {
   "cell_type": "code",
   "execution_count": 184,
   "id": "cb17b665-a551-4f8e-bb7c-a0c9fdb7808f",
   "metadata": {},
   "outputs": [],
   "source": [
    "# your code here"
   ]
  },
  {
   "cell_type": "markdown",
   "id": "8b1b0dd9-bdd6-4536-8f35-fbc0c8603644",
   "metadata": {},
   "source": [
    "**Explanation**\n",
    "\n",
    "1. **Local Variable (local_var):**\n",
    "\n",
    "- In example_function(), we define a variable called local_var inside the function. This variable is called local because it exists only within the function's scope (between the function’s def and the end of its block).\n",
    "- When we run example_function(), Python prints \"I'm local!\" as expected.\n",
    "- However, if we try to access local_var outside example_function() (for example, with print(local_var) outside the function), it will raise a NameError because local_var is not defined globally; it only exists within the function where it was created.\n",
    "\n",
    "2. **Global Variable (global_var):**\n",
    "\n",
    "- global_var is defined outside of any function, so it’s a global variable, accessible anywhere in the code.\n",
    "- Inside another_function(), we use print(global_var). Since global_var is global, this works even though it’s outside the function.\n",
    "- When we call another_function(), it prints \"I'm global!\" because global_var is accessible from both inside and outside the function."
   ]
  },
  {
   "cell_type": "markdown",
   "id": "04f59e0a-90a2-4a30-a0fc-2dd80243c15e",
   "metadata": {},
   "source": [
    "### Importance of Functions\n",
    "Functions help with code organization and readability. They allow you to:\n",
    "\n",
    "- **Reuse Code:** Write a piece of code once and call it multiple times, avoiding redundancy.\n",
    "- **Enhance Readability:** Break code into logical sections that describe the functionality.\n",
    "- **Ease Maintenance:** Update one function instead of multiple code sections."
   ]
  }
 ],
 "metadata": {
  "kernelspec": {
   "display_name": "Python 3 (ipykernel)",
   "language": "python",
   "name": "python3"
  },
  "language_info": {
   "codemirror_mode": {
    "name": "ipython",
    "version": 3
   },
   "file_extension": ".py",
   "mimetype": "text/x-python",
   "name": "python",
   "nbconvert_exporter": "python",
   "pygments_lexer": "ipython3",
   "version": "3.12.7"
  }
 },
 "nbformat": 4,
 "nbformat_minor": 5
}
