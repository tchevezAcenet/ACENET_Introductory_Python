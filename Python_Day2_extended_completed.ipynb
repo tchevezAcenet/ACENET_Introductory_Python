{
 "cells": [
  {
   "cell_type": "markdown",
   "id": "63e898b2-aee5-48d0-aa1c-47807c346346",
   "metadata": {},
   "source": [
    "# Introductory Programming with Python (Part 2)\n",
    "\n",
    "## Modules\n",
    "In Python, a module is simply a file that contains Python code, typically functions, classes, and variables, which you can reuse in other programs. \n",
    "\n",
    "**Modules** help organize code, avoid repetition, and keep it easy to maintain. You can create your own module by saving a .py file with your code or use one of Python’s many built-in modules, like *math*, *datetime*, or *random*, which provide various functionalities."
   ]
  },
  {
   "cell_type": "markdown",
   "id": "03a90e65-84db-4ae1-9b17-f1a66dd6fc2a",
   "metadata": {},
   "source": [
    "### Importing Modules\n",
    "To use a module in your code, you import it using the import statement. For example:"
   ]
  },
  {
   "cell_type": "code",
   "execution_count": 1,
   "id": "15de8b8f-6c1e-4b0a-b187-9184d878697d",
   "metadata": {},
   "outputs": [
    {
     "name": "stdout",
     "output_type": "stream",
     "text": [
      "4.0\n"
     ]
    }
   ],
   "source": [
    "import math\n",
    "print(math.sqrt(16))"
   ]
  },
  {
   "cell_type": "code",
   "execution_count": 1,
   "id": "98e97d62-1cb0-4133-9969-1ce409d23380",
   "metadata": {},
   "outputs": [],
   "source": [
    "# Use help() function to get information about the module\n",
    "help(math)"
   ]
  },
  {
   "cell_type": "markdown",
   "id": "5b24d495-ae7b-4d82-80ae-ec4759f48206",
   "metadata": {},
   "source": [
    "Here, we import the math module and then use its **sqrt()** function to calculate the square root of 16."
   ]
  },
  {
   "cell_type": "markdown",
   "id": "7d867cb2-841a-426c-b70d-49dc92c17676",
   "metadata": {},
   "source": [
    "### Importing Specific Functions\n",
    "If you only need specific functions from a module, you can import them directly:"
   ]
  },
  {
   "cell_type": "code",
   "execution_count": 3,
   "id": "8f3a2ab1-82e0-4239-a543-ea9765087633",
   "metadata": {},
   "outputs": [
    {
     "name": "stdout",
     "output_type": "stream",
     "text": [
      "3.141592653589793\n",
      "5.0\n"
     ]
    }
   ],
   "source": [
    "from math import pi, sqrt\n",
    "print(pi)\n",
    "print(sqrt(25))"
   ]
  },
  {
   "cell_type": "markdown",
   "id": "9779022f-fe5c-4a34-a560-6b0fb6fd7737",
   "metadata": {},
   "source": [
    "This allows you to use pi and sqrt() directly without referencing math."
   ]
  },
  {
   "cell_type": "markdown",
   "id": "464fd48f-73e2-43ef-9618-cda2fcfa6bb4",
   "metadata": {},
   "source": [
    "### Custom Modules\n",
    "To create a custom module, you write Python code in a *.py* file. For example, if you have a file called **mymath.py** with the following content:"
   ]
  },
  {
   "cell_type": "raw",
   "id": "735baa5e-ca89-467a-9da3-aca58bc1ee7b",
   "metadata": {},
   "source": [
    "def add(a, b):\n",
    "    return a + b\n",
    "\n",
    "def subtract(a, b):\n",
    "    return a - b"
   ]
  },
  {
   "cell_type": "markdown",
   "id": "8374f2ad-abca-4a62-b459-0645de1faddb",
   "metadata": {},
   "source": [
    "You can import and use these functions in another Python file as follows:"
   ]
  },
  {
   "cell_type": "code",
   "execution_count": 1,
   "id": "da39ae39-3258-4e14-bffe-f9148ff1c95f",
   "metadata": {},
   "outputs": [
    {
     "name": "stdout",
     "output_type": "stream",
     "text": [
      "8\n",
      "6\n"
     ]
    }
   ],
   "source": [
    "import mymath \n",
    "print(mymath.add(3,5))\n",
    "print(mymath.subtract(10,4))"
   ]
  },
  {
   "cell_type": "markdown",
   "id": "8a47144d-1254-40a0-a70d-a323760e6279",
   "metadata": {},
   "source": [
    "### Benefits of Using Modules\n",
    "- **Reusability:** Write code once and use it across multiple programs.\n",
    "- **Organization:** Helps keep code organized and readable, especially for large projects.\n",
    "- **Built-in Functionality:** Python’s standard library has many modules, so you don’t have to write everything from scratch."
   ]
  },
  {
   "cell_type": "markdown",
   "id": "6a5e414c-0c2a-44b4-917a-09eaaf99fd2b",
   "metadata": {},
   "source": [
    "# Introduction to Libraries\n",
    "\n",
    "In Python, a library is a collection of modules that provide reusable code to help programmers perform various tasks without having to write everything from scratch. Libraries enhance productivity by allowing developers to leverage existing functionality for common tasks, promoting efficiency and reducing redundancy in code."
   ]
  },
  {
   "cell_type": "markdown",
   "id": "12ba0679-9877-4482-96d5-b173fe39ccfd",
   "metadata": {},
   "source": [
    "### Examples of Popular Libraries\n",
    "- **NumPy:** A fundamental library for numerical computing, NumPy provides support for arrays and matrices, along with a wide range of mathematical functions.\n",
    "\n",
    "- **Pandas:** This library is invaluable for data analysis and manipulation. It allows users to work with structured data in the form of DataFrames and Series, making it ideal for handling large datasets.\n",
    "\n",
    "- **Matplotlib:** A powerful library for data visualization, Matplotlib enables users to create static, interactive, and animated visualizations to effectively present data insights."
   ]
  },
  {
   "cell_type": "markdown",
   "id": "fd3d4e7a-0353-43de-90c6-676b5c628c6f",
   "metadata": {},
   "source": [
    "Libraries are important tools in Python that help programmers work more efficiently. They provide ready-made code that can be reused, making it easier to complete common tasks without starting from scratch. By using libraries, developers can solve complicated problems more easily and concentrate on the bigger picture of their projects. "
   ]
  },
  {
   "cell_type": "markdown",
   "id": "4a154270-4446-4835-adc9-640e59c3a001",
   "metadata": {},
   "source": [
    "# Numpy\n",
    "\n",
    "NumPy, which stands for Numerical Python, is a powerful library in Python that helps with numerical and scientific computing. It allows you to work with large, multi-dimensional arrays (think of them as grids of numbers) and provides many mathematical functions to perform calculations on these arrays quickly and easily.\n",
    "\n",
    "### Why Use NumPy?\n",
    "- **Speed:** NumPy is much faster than using regular Python lists for numerical calculations. It’s written in C, which helps it run faster. When you use NumPy, you can perform operations on big sets of data quickly.\n",
    "\n",
    "- **Convenience:** With NumPy, you can do calculations on entire arrays without writing long loops. For example, adding two arrays together can be done in just one line of code.\n",
    "\n",
    "- **Useful Functions:** NumPy has many built-in functions for doing complex math. This is really helpful in fields like oceanography, where scientists need to work with large amounts of data and perform a lot of calculations."
   ]
  },
  {
   "cell_type": "markdown",
   "id": "ddb80f8d-5445-4bd9-ad7d-78ea3d826942",
   "metadata": {},
   "source": [
    "## Arrays\n",
    "An **array** is a list of items stored one after another in memory. In NumPy, an array is a collection of values arranged in a grid, where all values are the same type (like all numbers or all text)."
   ]
  },
  {
   "cell_type": "markdown",
   "id": "b13dd818-308f-4143-8003-7639eabc1097",
   "metadata": {},
   "source": [
    "To use NumPy, we first need to import it:"
   ]
  },
  {
   "cell_type": "code",
   "execution_count": 5,
   "id": "2f448804-737f-445f-af04-222045815330",
   "metadata": {},
   "outputs": [],
   "source": [
    "import numpy as np"
   ]
  },
  {
   "cell_type": "markdown",
   "id": "5fff6a8f-04bc-4ba7-8a08-64e27b21fcdf",
   "metadata": {},
   "source": [
    "### Creating a 1D Array\n",
    "You can create a 1D array using the **np.array()** function. Here’s how:"
   ]
  },
  {
   "cell_type": "code",
   "execution_count": 6,
   "id": "53cd488e-fd1c-4a83-9d96-4f21a6ea44b8",
   "metadata": {},
   "outputs": [
    {
     "name": "stdout",
     "output_type": "stream",
     "text": [
      "1D Array: [1 2 3 4 5]\n"
     ]
    }
   ],
   "source": [
    "# Creating a 1D array\n",
    "arr_1d = np.array([1, 2, 3, 4, 5])\n",
    "print(\"1D Array:\", arr_1d)"
   ]
  },
  {
   "cell_type": "markdown",
   "id": "0a70516d-674c-4bb8-81ea-c98a9a822a1f",
   "metadata": {},
   "source": [
    "### Advantages of NumPy Arrays Over Python Lists\n",
    "- **Homogeneous:** All elements in a NumPy array must be of the same type, whereas Python lists can contain mixed types.\n",
    "- **Performance:** NumPy arrays are more memory efficient and faster for numerical computations compared to lists.\n",
    "- **Functionality:** NumPy provides a range of built-in functions that are specifically optimized for working with arrays."
   ]
  },
  {
   "cell_type": "markdown",
   "id": "1d23e56c-3cb5-4e0e-bddb-f63cf9758e27",
   "metadata": {},
   "source": [
    "### Creating a 2D Array\n",
    "To create a 2D array, pass a list of lists to **np.array()**:"
   ]
  },
  {
   "cell_type": "code",
   "execution_count": 7,
   "id": "bd0667d3-90d8-49a3-961e-4d9cab220e55",
   "metadata": {},
   "outputs": [
    {
     "name": "stdout",
     "output_type": "stream",
     "text": [
      "2D Array:\n",
      " [[1 2 3]\n",
      " [4 5 6]]\n"
     ]
    }
   ],
   "source": [
    "# Creating a 2D array\n",
    "arr_2d = np.array([[1, 2, 3], [4, 5, 6]])\n",
    "print(\"2D Array:\\n\", arr_2d)"
   ]
  },
  {
   "cell_type": "markdown",
   "id": "1bac5a4e-3502-44ab-8992-c07b2a0374af",
   "metadata": {},
   "source": [
    "### Creating Arrays with Built-in Functions\n",
    "\n",
    "NumPy provides several built-in functions to create arrays quickly:\n",
    "\n",
    "- **np.zeros(shape)**: Creates an array filled with zeros.\n",
    "- **np.ones(shape)**: Creates an array filled with ones.\n",
    "- **np.arange(start, stop, step)**: Creates an array with a range of values.\n",
    "- **np.linspace(start, stop, num)**: Creates an array of evenly spaced numbers."
   ]
  },
  {
   "cell_type": "code",
   "execution_count": 8,
   "id": "50519dd5-bf9b-4e8d-89e8-f6b1d7adb397",
   "metadata": {},
   "outputs": [
    {
     "name": "stdout",
     "output_type": "stream",
     "text": [
      "Zeros Array:\n",
      " [[0. 0. 0.]\n",
      " [0. 0. 0.]]\n",
      "Ones Array:\n",
      " [[1. 1. 1.]\n",
      " [1. 1. 1.]]\n",
      "Range Array: [0 2 4 6 8]\n",
      "Linspace Array: [0.   0.25 0.5  0.75 1.  ]\n"
     ]
    }
   ],
   "source": [
    "# Using built-in functions\n",
    "zeros_array = np.zeros((2, 3))\n",
    "ones_array = np.ones((2, 3))\n",
    "range_array = np.arange(0, 10, 2)\n",
    "linspace_array = np.linspace(0, 1, 5)\n",
    "\n",
    "print(\"Zeros Array:\\n\", zeros_array)\n",
    "print(\"Ones Array:\\n\", ones_array)\n",
    "print(\"Range Array:\", range_array)\n",
    "print(\"Linspace Array:\", linspace_array)"
   ]
  },
  {
   "cell_type": "markdown",
   "id": "c5d06b96-57d8-487b-b947-2e7b2f2f2a98",
   "metadata": {},
   "source": [
    "In this example:\n",
    "\n",
    "- **np.zeros((2, 3))** creates a 2x3 array filled with zeros.\n",
    "- **np.ones((2, 3))** creates a 2x3 array filled with ones.\n",
    "- **np.arange(0, 10, 2)** generates a 1D array with values from 0 to 10, stepping by 2.\n",
    "- **np.linspace(0, 1, 5)** creates an array of 5 evenly spaced numbers between 0 and 1.\n"
   ]
  },
  {
   "cell_type": "markdown",
   "id": "c425890d-935e-483e-ba80-382c5d3f5e1b",
   "metadata": {},
   "source": [
    "### Array Properties\n",
    "You can check important properties of a NumPy array, such as its shape, size, and data type:"
   ]
  },
  {
   "cell_type": "code",
   "execution_count": 9,
   "id": "b54027cd-ce85-4c89-a2dc-fbe39f11e6f0",
   "metadata": {},
   "outputs": [
    {
     "name": "stdout",
     "output_type": "stream",
     "text": [
      "Shape of 2D Array: (2, 3)\n",
      "Size of 2D Array: 6\n",
      "Data Type of 2D Array: int64\n"
     ]
    }
   ],
   "source": [
    "print(\"Shape of 2D Array:\", arr_2d.shape)\n",
    "print(\"Size of 2D Array:\", arr_2d.size)\n",
    "print(\"Data Type of 2D Array:\", arr_2d.dtype)"
   ]
  },
  {
   "cell_type": "markdown",
   "id": "280fb6b8-622a-4324-904d-91a263fe82c7",
   "metadata": {},
   "source": [
    "**This code retrieves:**\n",
    "\n",
    "- The shape of the 2D array, which tells you the dimensions (rows and columns).\n",
    "- The size of the array, indicating the total number of elements.\n",
    "- The data type of the elements in the array, which shows the kind of data stored (e.g., integers, floats)."
   ]
  },
  {
   "cell_type": "markdown",
   "id": "63b3278c-069d-48d7-8254-a393457838d7",
   "metadata": {},
   "source": [
    "### Basic Arithmetic Operations\n",
    "\n",
    "NumPy allows you to perform element-wise arithmetic operations on arrays:"
   ]
  },
  {
   "cell_type": "code",
   "execution_count": 10,
   "id": "01616da6-ee20-4c9d-a625-a920b18fd998",
   "metadata": {},
   "outputs": [
    {
     "name": "stdout",
     "output_type": "stream",
     "text": [
      "Sum of Arrays: [5 7 9]\n",
      "Product of Arrays: [ 4 10 18]\n"
     ]
    }
   ],
   "source": [
    "# Element-wise addition\n",
    "arr_a = np.array([1, 2, 3])\n",
    "arr_b = np.array([4, 5, 6])\n",
    "sum_array = arr_a + arr_b\n",
    "print(\"Sum of Arrays:\", sum_array)\n",
    "\n",
    "# Element-wise multiplication\n",
    "product_array = arr_a * arr_b\n",
    "print(\"Product of Arrays:\", product_array)"
   ]
  },
  {
   "cell_type": "markdown",
   "id": "4296c0ef-0b7a-429d-94d7-84eecf732e98",
   "metadata": {},
   "source": [
    "In this example, we create *two 1D arrays*, **arr_a** and **arr_b**, and add them together. \n",
    "\n",
    "Also, we perform element-wise multiplication. Each element of **arr_a** is multiplied by the corresponding element of **arr_b**, resulting in a new array of products."
   ]
  },
  {
   "cell_type": "markdown",
   "id": "7e740696-e6da-43e8-8eda-667698a05de9",
   "metadata": {},
   "source": [
    "### NumPy Universal Functions\n",
    "\n",
    "NumPy provides a variety of universal functions that operate element-wise on arrays. These functions include mathematical operations, trigonometric functions, and statistical calculations. Statistical functions are particularly useful for analyzing data and obtaining insights from numerical arrays.\n",
    "\n",
    "- **Mean:** Calculates the average value of the array elements.\n",
    "- **Median:** Finds the middle value when the elements are sorted.\n",
    "- **Standard Deviation:** Measures the amount of variation or dispersion in the dataset.\n",
    "\n",
    "Here’s how to use these functions:"
   ]
  },
  {
   "cell_type": "code",
   "execution_count": 13,
   "id": "c6ee7998-464e-4d47-a97a-56c4145f43b9",
   "metadata": {},
   "outputs": [
    {
     "name": "stdout",
     "output_type": "stream",
     "text": [
      "Mean: 3.0, Median: 3.0, Standard Deviation: 1.4142135623730951\n"
     ]
    }
   ],
   "source": [
    "data = np.array([1, 2, 3, 4, 5])\n",
    "\n",
    "mean_value = np.mean(data)  # Output: 3.0\n",
    "median_value = np.median(data)  # Output: 3.0\n",
    "std_deviation = np.std(data)  # Output: 1.4142135623730951\n",
    "\n",
    "print(f'Mean: {mean_value}, Median: {median_value}, Standard Deviation: {std_deviation}')"
   ]
  },
  {
   "cell_type": "markdown",
   "id": "345e2aa6-c8f5-4eb2-8fe7-77f3ad0e8b69",
   "metadata": {},
   "source": [
    "We can also find the minimum and maximum values in an array:"
   ]
  },
  {
   "cell_type": "code",
   "execution_count": 14,
   "id": "fc25c3f8-bcd6-4ead-9346-44d0a04d84a3",
   "metadata": {},
   "outputs": [
    {
     "name": "stdout",
     "output_type": "stream",
     "text": [
      "Minimum of data array: 1\n",
      "Maximum of data array: 5\n"
     ]
    }
   ],
   "source": [
    "# Calculate minimum and maximum values\n",
    "min_value = np.min(data)\n",
    "max_value = np.max(data)\n",
    "\n",
    "print(\"Minimum of data array:\", min_value)\n",
    "print(\"Maximum of data array:\", max_value)"
   ]
  },
  {
   "cell_type": "markdown",
   "id": "8c82b6e4-c4b6-48b8-b0a6-4b39f95a5af2",
   "metadata": {},
   "source": [
    "Also, we can compute the correlation coefficient between two datasets:"
   ]
  },
  {
   "cell_type": "code",
   "execution_count": 15,
   "id": "8e362a0b-f02b-4b69-9981-1c2af8e3621f",
   "metadata": {},
   "outputs": [
    {
     "name": "stdout",
     "output_type": "stream",
     "text": [
      "Correlation Coefficient Matrix:\n",
      " [[ 1. -1.]\n",
      " [-1.  1.]]\n"
     ]
    }
   ],
   "source": [
    "# Example arrays for correlation\n",
    "arr_x = np.array([1, 2, 3, 4, 5])\n",
    "arr_y = np.array([5, 4, 3, 2, 1])\n",
    "\n",
    "# Calculate correlation coefficient\n",
    "correlation_matrix = np.corrcoef(arr_x, arr_y)\n",
    "print(\"Correlation Coefficient Matrix:\\n\", correlation_matrix)"
   ]
  },
  {
   "cell_type": "markdown",
   "id": "1c8d8201-cd26-40ac-a7f6-6c1803e48326",
   "metadata": {},
   "source": [
    "The correlation coefficient matrix shows the relationship between **arr_x** and **arr_y**. A value close to -1 indicates a strong negative correlation, while a value close to 1 indicates a strong positive correlation."
   ]
  },
  {
   "cell_type": "markdown",
   "id": "de229522-fcd8-42b3-bbab-1cc3c65e8e70",
   "metadata": {},
   "source": [
    "### Other Operations\n",
    "#### Indexing\n",
    "\n",
    "You can access individual elements of an array using indexing:"
   ]
  },
  {
   "cell_type": "code",
   "execution_count": 16,
   "id": "41975b80-d5db-44d4-b143-83dd452f030b",
   "metadata": {},
   "outputs": [
    {
     "name": "stdout",
     "output_type": "stream",
     "text": [
      "First Element of 1D Array: 1\n",
      "Element at (1, 2) in 2D Array: 60\n"
     ]
    }
   ],
   "source": [
    "arr_1d = np.array([1, 2, 3, 4, 5])\n",
    "arr_2d = np.array([\n",
    "    [10, 20, 30],\n",
    "    [40, 50, 60],\n",
    "    [70, 80, 90]\n",
    "])\n",
    "print(\"First Element of 1D Array:\", arr_1d[0])\n",
    "print(\"Element at (1, 2) in 2D Array:\", arr_2d[1, 2])"
   ]
  },
  {
   "cell_type": "markdown",
   "id": "be904193-30f8-4f99-b6c6-75d25bd9e85e",
   "metadata": {},
   "source": [
    "This code retrieves the first element of the 1D array **arr_1d** and the element located at row 1, column 2 in the 2D array **arr_2d**."
   ]
  },
  {
   "cell_type": "markdown",
   "id": "97318ea5-ee3f-443f-ae52-bbc5df320d96",
   "metadata": {},
   "source": [
    "#### Slicing\n",
    "Slicing allows you to access a subset of an array:"
   ]
  },
  {
   "cell_type": "code",
   "execution_count": 17,
   "id": "5ab65891-dce3-4d38-a578-dca30d7f45f6",
   "metadata": {},
   "outputs": [
    {
     "name": "stdout",
     "output_type": "stream",
     "text": [
      "Sliced Array (from index 1 to 3): [2 3 4]\n"
     ]
    }
   ],
   "source": [
    "# Slicing a 1D array\n",
    "print(\"Sliced Array (from index 1 to 3):\", arr_1d[1:4])"
   ]
  },
  {
   "cell_type": "markdown",
   "id": "65c2e38d-e7a8-4d69-884e-808aa94ea404",
   "metadata": {},
   "source": [
    "This retrieves a slice of the 1D array, including elements from index 1 up to, but not including, index 4."
   ]
  },
  {
   "cell_type": "code",
   "execution_count": 18,
   "id": "74d9e8e7-72c8-4031-a91f-096f9d926bab",
   "metadata": {},
   "outputs": [
    {
     "name": "stdout",
     "output_type": "stream",
     "text": [
      "Sliced 2D Array (first row): [10 20 30]\n",
      "Sliced 2D Array (second column): [20 50 80]\n"
     ]
    }
   ],
   "source": [
    "# Slicing a 2D array\n",
    "print(\"Sliced 2D Array (first row):\", arr_2d[0, :])\n",
    "print(\"Sliced 2D Array (second column):\", arr_2d[:, 1])"
   ]
  },
  {
   "cell_type": "markdown",
   "id": "4003d119-183e-4b4f-9341-3674cc54de0c",
   "metadata": {},
   "source": [
    "Here, we extract the first row of the 2D array and the second column using slicing. The : operator means \"select all elements in this dimension.\""
   ]
  },
  {
   "cell_type": "markdown",
   "id": "14c77440-2d06-46b0-9888-ee71b9413cea",
   "metadata": {},
   "source": [
    "#### Reshaping Arrays\n",
    "You can change the shape of an array without changing its data using the **reshape()** method:"
   ]
  },
  {
   "cell_type": "code",
   "execution_count": 19,
   "id": "eb2e6a16-f86f-4c3a-972a-d4094c68c78e",
   "metadata": {},
   "outputs": [
    {
     "name": "stdout",
     "output_type": "stream",
     "text": [
      "Reshaped Array:\n",
      " [[1]\n",
      " [2]\n",
      " [3]\n",
      " [4]\n",
      " [5]]\n"
     ]
    }
   ],
   "source": [
    "reshaped_array = arr_1d.reshape((5, 1))\n",
    "print(\"Reshaped Array:\\n\", reshaped_array)"
   ]
  },
  {
   "cell_type": "markdown",
   "id": "1db96422-bda6-4000-8d2e-1f192a4799e8",
   "metadata": {},
   "source": [
    "In this code, we reshape the 1D array arr_1d into a 5x1 array. The total number of elements remains the same, but the structure changes."
   ]
  },
  {
   "cell_type": "markdown",
   "id": "655cd1f0-2aeb-48d8-809e-6d697829be41",
   "metadata": {},
   "source": [
    "#### Joining Arrays\n",
    "NumPy allows you to **concatenate (join)** arrays using functions like **np.concatenate()**, **np.vstack()** (for vertical stacking), and **np.hstack()** (for horizontal stacking):"
   ]
  },
  {
   "cell_type": "code",
   "execution_count": 20,
   "id": "00b16d64-2d78-4d93-bc49-9b8655ed9a6c",
   "metadata": {},
   "outputs": [
    {
     "name": "stdout",
     "output_type": "stream",
     "text": [
      "Joined 1D Array: [1 2 3 4 5 6]\n"
     ]
    }
   ],
   "source": [
    "arr_a = np.array([1, 2, 3])\n",
    "arr_b = np.array([4, 5, 6])\n",
    "\n",
    "# Joining 1D arrays\n",
    "joined_array = np.concatenate((arr_a, arr_b))\n",
    "print(\"Joined 1D Array:\", joined_array)"
   ]
  },
  {
   "cell_type": "markdown",
   "id": "99d4dea9-f60f-4902-b1c7-7a73950e4fe9",
   "metadata": {},
   "source": [
    "Here, we concatenate **arr_a** and **arr_b** into a single 1D array containing all their elements."
   ]
  },
  {
   "cell_type": "code",
   "execution_count": 21,
   "id": "c6342aed-1361-402f-8cd2-83640acfb11d",
   "metadata": {},
   "outputs": [
    {
     "name": "stdout",
     "output_type": "stream",
     "text": [
      "Vertically Stacked Array:\n",
      " [[1 2]\n",
      " [3 4]\n",
      " [5 6]\n",
      " [7 8]]\n"
     ]
    }
   ],
   "source": [
    "# Joining 2D arrays\n",
    "arr_2d_1 = np.array([[1, 2], [3, 4]])\n",
    "arr_2d_2 = np.array([[5, 6], [7, 8]])\n",
    "vstacked_array = np.vstack((arr_2d_1, arr_2d_2))\n",
    "print(\"Vertically Stacked Array:\\n\", vstacked_array)"
   ]
  },
  {
   "cell_type": "markdown",
   "id": "a423bd98-f4ff-4fd2-80d0-d0b2ccc4be46",
   "metadata": {},
   "source": [
    "In this example, we create two 2D arrays and stack them vertically, resulting in a new array with four rows."
   ]
  },
  {
   "cell_type": "code",
   "execution_count": 22,
   "id": "6c830e4f-d0da-41a1-a46a-6eaa0099c2cb",
   "metadata": {},
   "outputs": [
    {
     "name": "stdout",
     "output_type": "stream",
     "text": [
      "Horizontally Stacked Array:\n",
      " [[1 2 5 6]\n",
      " [3 4 7 8]]\n"
     ]
    }
   ],
   "source": [
    "hstacked_array = np.hstack((arr_2d_1, arr_2d_2))\n",
    "print(\"Horizontally Stacked Array:\\n\", hstacked_array)"
   ]
  },
  {
   "cell_type": "markdown",
   "id": "be3f23ea-6432-416e-93db-16a8cfd979a1",
   "metadata": {},
   "source": [
    "Similarly, we stack the two 2D arrays horizontally, which combines the columns."
   ]
  },
  {
   "cell_type": "markdown",
   "id": "0ee5585b-a348-4384-8455-384fab28300e",
   "metadata": {},
   "source": [
    "#### Splitting Arrays\n",
    "The **np.split()** function splits an array into multiple sub-arrays along a specified axis. The function takes two main arguments: the array to split and the number of splits you want to make."
   ]
  },
  {
   "cell_type": "code",
   "execution_count": 23,
   "id": "39be5741-595a-48c1-9be5-694b3045d63a",
   "metadata": {},
   "outputs": [
    {
     "name": "stdout",
     "output_type": "stream",
     "text": [
      "Joined Array: [ 1  2  3  4  5  6  7  8  9 10]\n",
      "Split 1D Array: [array([1, 2, 3, 4, 5]), array([ 6,  7,  8,  9, 10])]\n"
     ]
    }
   ],
   "source": [
    "import numpy as np\n",
    "\n",
    "# Create a 1D array\n",
    "joined_array = np.array([1, 2, 3, 4, 5, 6, 7, 8, 9, 10])\n",
    "print(\"Joined Array:\", joined_array)\n",
    "\n",
    "# Split the array into 2 equal parts\n",
    "split_array = np.split(joined_array, 2)\n",
    "print(\"Split 1D Array:\", split_array)"
   ]
  },
  {
   "cell_type": "markdown",
   "id": "e04f7b04-84dd-47bd-a94b-2f49bb3e5789",
   "metadata": {},
   "source": [
    "We create a **1D array**, joined_array, containing ten elements, and the **np.split(joined_array, 2)** function is used to split the array into two equal parts, resulting in a list of sub-arrays. \n",
    "\n",
    "It's important to note that if the number of elements in the original array is not evenly divisible by the number of splits specified, NumPy will raise a *ValueError*."
   ]
  },
  {
   "cell_type": "markdown",
   "id": "ab1df4dc-77e8-4478-ab4b-1f94eed6aa98",
   "metadata": {},
   "source": [
    "## Pandas\n",
    "Pandas is a powerful tool in Python that makes working with data easier. It helps you organize, manipulate, and analyze large datasets quickly and efficiently. Pandas is especially useful for handling tables of data, similar to spreadsheets or SQL databases.\n",
    "\n",
    "### Why Use Pandas?\n",
    "- **Easy Data Handling:** Pandas makes it simple to load, clean, and transform data. You can read data from Excel, CSV files, databases, and more with just one command.\n",
    "- **Speed & Efficiency:** Pandas is built on top of NumPy and optimized for performance, making operations on large datasets much faster than using plain Python lists or dictionaries.\n",
    "- **Powerful Functions:** With Pandas, you can filter, sort, group, and perform calculations on your data effortlessly. This is incredibly useful in fields like finance and social sciences, where analyzing trends and patterns in large datasets is essential."
   ]
  },
  {
   "cell_type": "markdown",
   "id": "cc48e607-8ac9-4574-9be5-a71d76a20432",
   "metadata": {},
   "source": [
    "## Load Pandas\n",
    "Python doesn’t load all of the libraries available to it by default. We have to add an import statement to our code in order to use library functions."
   ]
  },
  {
   "cell_type": "code",
   "execution_count": 24,
   "id": "ca1c4cb4-951d-40ec-b4ea-32957ab1c278",
   "metadata": {},
   "outputs": [],
   "source": [
    "#Import the pandas library as 'pd'\n",
    "\n",
    "import pandas as pd"
   ]
  },
  {
   "cell_type": "markdown",
   "id": "e9accf30-43ee-47cb-8e21-1df06668c681",
   "metadata": {},
   "source": [
    "When we invoke a function from a library we use the following syntax: **LibraryName.FunctionName**, in this case we can call it **pandas.FunctionName**\n",
    "\n",
    "By giving *pandas* a *nickname* such as **pd**, it makes our lives easier now that we can call the function **pd.FunctionName** instead.\n",
    "This smart trick allows us to avoid typing out the full “pandas” keyword every time we use a function from the Pandas library."
   ]
  },
  {
   "cell_type": "markdown",
   "id": "11e8f5a0-08b7-44c7-b24a-24f528b7897b",
   "metadata": {},
   "source": [
    "## Read CSV file using Pandas\n",
    "Pandas  can be used to import data stored in a Comma-Separated Values (CSV) file format. CSV is a common and simple way of structuring tabular data, where each line corresponds to a row and the values within a line are separated by commas."
   ]
  },
  {
   "cell_type": "code",
   "execution_count": 25,
   "id": "8e563c77-e3e3-4970-8a60-5e9db3645071",
   "metadata": {},
   "outputs": [
    {
     "data": {
      "text/html": [
       "<div>\n",
       "<style scoped>\n",
       "    .dataframe tbody tr th:only-of-type {\n",
       "        vertical-align: middle;\n",
       "    }\n",
       "\n",
       "    .dataframe tbody tr th {\n",
       "        vertical-align: top;\n",
       "    }\n",
       "\n",
       "    .dataframe thead th {\n",
       "        text-align: right;\n",
       "    }\n",
       "</style>\n",
       "<table border=\"1\" class=\"dataframe\">\n",
       "  <thead>\n",
       "    <tr style=\"text-align: right;\">\n",
       "      <th></th>\n",
       "      <th>Id</th>\n",
       "      <th>Gender</th>\n",
       "      <th>Age</th>\n",
       "      <th>Income</th>\n",
       "      <th>Height</th>\n",
       "      <th>Weight</th>\n",
       "    </tr>\n",
       "  </thead>\n",
       "  <tbody>\n",
       "    <tr>\n",
       "      <th>0</th>\n",
       "      <td>1</td>\n",
       "      <td>M</td>\n",
       "      <td>64.0</td>\n",
       "      <td>24141.0</td>\n",
       "      <td>NaN</td>\n",
       "      <td>91.026092</td>\n",
       "    </tr>\n",
       "    <tr>\n",
       "      <th>1</th>\n",
       "      <td>2</td>\n",
       "      <td>F</td>\n",
       "      <td>18.0</td>\n",
       "      <td>82523.0</td>\n",
       "      <td>189.533369</td>\n",
       "      <td>72.400692</td>\n",
       "    </tr>\n",
       "    <tr>\n",
       "      <th>2</th>\n",
       "      <td>3</td>\n",
       "      <td>NaN</td>\n",
       "      <td>40.0</td>\n",
       "      <td>37928.0</td>\n",
       "      <td>153.884926</td>\n",
       "      <td>90.153410</td>\n",
       "    </tr>\n",
       "    <tr>\n",
       "      <th>3</th>\n",
       "      <td>4</td>\n",
       "      <td>F</td>\n",
       "      <td>47.0</td>\n",
       "      <td>83622.0</td>\n",
       "      <td>189.395822</td>\n",
       "      <td>63.506353</td>\n",
       "    </tr>\n",
       "    <tr>\n",
       "      <th>4</th>\n",
       "      <td>5</td>\n",
       "      <td>M</td>\n",
       "      <td>43.0</td>\n",
       "      <td>120475.0</td>\n",
       "      <td>155.234732</td>\n",
       "      <td>85.101889</td>\n",
       "    </tr>\n",
       "    <tr>\n",
       "      <th>...</th>\n",
       "      <td>...</td>\n",
       "      <td>...</td>\n",
       "      <td>...</td>\n",
       "      <td>...</td>\n",
       "      <td>...</td>\n",
       "      <td>...</td>\n",
       "    </tr>\n",
       "    <tr>\n",
       "      <th>495</th>\n",
       "      <td>496</td>\n",
       "      <td>M</td>\n",
       "      <td>52.0</td>\n",
       "      <td>143234.0</td>\n",
       "      <td>156.044812</td>\n",
       "      <td>66.805198</td>\n",
       "    </tr>\n",
       "    <tr>\n",
       "      <th>496</th>\n",
       "      <td>497</td>\n",
       "      <td>M</td>\n",
       "      <td>NaN</td>\n",
       "      <td>56023.0</td>\n",
       "      <td>159.155331</td>\n",
       "      <td>80.400186</td>\n",
       "    </tr>\n",
       "    <tr>\n",
       "      <th>497</th>\n",
       "      <td>498</td>\n",
       "      <td>NaN</td>\n",
       "      <td>44.0</td>\n",
       "      <td>45923.0</td>\n",
       "      <td>180.344630</td>\n",
       "      <td>63.905775</td>\n",
       "    </tr>\n",
       "    <tr>\n",
       "      <th>498</th>\n",
       "      <td>499</td>\n",
       "      <td>F</td>\n",
       "      <td>40.0</td>\n",
       "      <td>72164.0</td>\n",
       "      <td>151.121012</td>\n",
       "      <td>NaN</td>\n",
       "    </tr>\n",
       "    <tr>\n",
       "      <th>499</th>\n",
       "      <td>500</td>\n",
       "      <td>NaN</td>\n",
       "      <td>42.0</td>\n",
       "      <td>NaN</td>\n",
       "      <td>170.127901</td>\n",
       "      <td>51.950306</td>\n",
       "    </tr>\n",
       "  </tbody>\n",
       "</table>\n",
       "<p>500 rows × 6 columns</p>\n",
       "</div>"
      ],
      "text/plain": [
       "      Id Gender   Age    Income      Height     Weight\n",
       "0      1      M  64.0   24141.0         NaN  91.026092\n",
       "1      2      F  18.0   82523.0  189.533369  72.400692\n",
       "2      3    NaN  40.0   37928.0  153.884926  90.153410\n",
       "3      4      F  47.0   83622.0  189.395822  63.506353\n",
       "4      5      M  43.0  120475.0  155.234732  85.101889\n",
       "..   ...    ...   ...       ...         ...        ...\n",
       "495  496      M  52.0  143234.0  156.044812  66.805198\n",
       "496  497      M   NaN   56023.0  159.155331  80.400186\n",
       "497  498    NaN  44.0   45923.0  180.344630  63.905775\n",
       "498  499      F  40.0   72164.0  151.121012        NaN\n",
       "499  500    NaN  42.0       NaN  170.127901  51.950306\n",
       "\n",
       "[500 rows x 6 columns]"
      ]
     },
     "execution_count": 25,
     "metadata": {},
     "output_type": "execute_result"
    }
   ],
   "source": [
    "# Read csv file using pandas\n",
    "\n",
    "#Step 1: Specify File Path\n",
    "file_path = 'sample_dataset.csv'\n",
    "\n",
    "#Step 2: Read CSV file\n",
    "pd.read_csv(file_path)"
   ]
  },
  {
   "cell_type": "markdown",
   "id": "134b5778-f8fb-46e5-bbd7-5ec1b9bf4ed4",
   "metadata": {},
   "source": [
    "This code returns an overview of how the dataset looks like, returning the first and last five rows. "
   ]
  },
  {
   "cell_type": "markdown",
   "id": "392ad25b-62c4-4608-bebc-5df74764cc3c",
   "metadata": {},
   "source": [
    "The **read_csv** function has successfully processed our file but has not yet stored it into memory for further processing and analysis, so to do this we will add a new variable called “df”, short for dataframe:"
   ]
  },
  {
   "cell_type": "code",
   "execution_count": 26,
   "id": "503221f2-34bb-4cbd-bdf3-02ba4cee0d0f",
   "metadata": {
    "tags": []
   },
   "outputs": [
    {
     "data": {
      "text/html": [
       "<div>\n",
       "<style scoped>\n",
       "    .dataframe tbody tr th:only-of-type {\n",
       "        vertical-align: middle;\n",
       "    }\n",
       "\n",
       "    .dataframe tbody tr th {\n",
       "        vertical-align: top;\n",
       "    }\n",
       "\n",
       "    .dataframe thead th {\n",
       "        text-align: right;\n",
       "    }\n",
       "</style>\n",
       "<table border=\"1\" class=\"dataframe\">\n",
       "  <thead>\n",
       "    <tr style=\"text-align: right;\">\n",
       "      <th></th>\n",
       "      <th>Id</th>\n",
       "      <th>Gender</th>\n",
       "      <th>Age</th>\n",
       "      <th>Income</th>\n",
       "      <th>Height</th>\n",
       "      <th>Weight</th>\n",
       "    </tr>\n",
       "  </thead>\n",
       "  <tbody>\n",
       "    <tr>\n",
       "      <th>0</th>\n",
       "      <td>1</td>\n",
       "      <td>M</td>\n",
       "      <td>64.0</td>\n",
       "      <td>24141.0</td>\n",
       "      <td>NaN</td>\n",
       "      <td>91.026092</td>\n",
       "    </tr>\n",
       "    <tr>\n",
       "      <th>1</th>\n",
       "      <td>2</td>\n",
       "      <td>F</td>\n",
       "      <td>18.0</td>\n",
       "      <td>82523.0</td>\n",
       "      <td>189.533369</td>\n",
       "      <td>72.400692</td>\n",
       "    </tr>\n",
       "    <tr>\n",
       "      <th>2</th>\n",
       "      <td>3</td>\n",
       "      <td>NaN</td>\n",
       "      <td>40.0</td>\n",
       "      <td>37928.0</td>\n",
       "      <td>153.884926</td>\n",
       "      <td>90.153410</td>\n",
       "    </tr>\n",
       "    <tr>\n",
       "      <th>3</th>\n",
       "      <td>4</td>\n",
       "      <td>F</td>\n",
       "      <td>47.0</td>\n",
       "      <td>83622.0</td>\n",
       "      <td>189.395822</td>\n",
       "      <td>63.506353</td>\n",
       "    </tr>\n",
       "    <tr>\n",
       "      <th>4</th>\n",
       "      <td>5</td>\n",
       "      <td>M</td>\n",
       "      <td>43.0</td>\n",
       "      <td>120475.0</td>\n",
       "      <td>155.234732</td>\n",
       "      <td>85.101889</td>\n",
       "    </tr>\n",
       "    <tr>\n",
       "      <th>...</th>\n",
       "      <td>...</td>\n",
       "      <td>...</td>\n",
       "      <td>...</td>\n",
       "      <td>...</td>\n",
       "      <td>...</td>\n",
       "      <td>...</td>\n",
       "    </tr>\n",
       "    <tr>\n",
       "      <th>495</th>\n",
       "      <td>496</td>\n",
       "      <td>M</td>\n",
       "      <td>52.0</td>\n",
       "      <td>143234.0</td>\n",
       "      <td>156.044812</td>\n",
       "      <td>66.805198</td>\n",
       "    </tr>\n",
       "    <tr>\n",
       "      <th>496</th>\n",
       "      <td>497</td>\n",
       "      <td>M</td>\n",
       "      <td>NaN</td>\n",
       "      <td>56023.0</td>\n",
       "      <td>159.155331</td>\n",
       "      <td>80.400186</td>\n",
       "    </tr>\n",
       "    <tr>\n",
       "      <th>497</th>\n",
       "      <td>498</td>\n",
       "      <td>NaN</td>\n",
       "      <td>44.0</td>\n",
       "      <td>45923.0</td>\n",
       "      <td>180.344630</td>\n",
       "      <td>63.905775</td>\n",
       "    </tr>\n",
       "    <tr>\n",
       "      <th>498</th>\n",
       "      <td>499</td>\n",
       "      <td>F</td>\n",
       "      <td>40.0</td>\n",
       "      <td>72164.0</td>\n",
       "      <td>151.121012</td>\n",
       "      <td>NaN</td>\n",
       "    </tr>\n",
       "    <tr>\n",
       "      <th>499</th>\n",
       "      <td>500</td>\n",
       "      <td>NaN</td>\n",
       "      <td>42.0</td>\n",
       "      <td>NaN</td>\n",
       "      <td>170.127901</td>\n",
       "      <td>51.950306</td>\n",
       "    </tr>\n",
       "  </tbody>\n",
       "</table>\n",
       "<p>500 rows × 6 columns</p>\n",
       "</div>"
      ],
      "text/plain": [
       "      Id Gender   Age    Income      Height     Weight\n",
       "0      1      M  64.0   24141.0         NaN  91.026092\n",
       "1      2      F  18.0   82523.0  189.533369  72.400692\n",
       "2      3    NaN  40.0   37928.0  153.884926  90.153410\n",
       "3      4      F  47.0   83622.0  189.395822  63.506353\n",
       "4      5      M  43.0  120475.0  155.234732  85.101889\n",
       "..   ...    ...   ...       ...         ...        ...\n",
       "495  496      M  52.0  143234.0  156.044812  66.805198\n",
       "496  497      M   NaN   56023.0  159.155331  80.400186\n",
       "497  498    NaN  44.0   45923.0  180.344630  63.905775\n",
       "498  499      F  40.0   72164.0  151.121012        NaN\n",
       "499  500    NaN  42.0       NaN  170.127901  51.950306\n",
       "\n",
       "[500 rows x 6 columns]"
      ]
     },
     "execution_count": 26,
     "metadata": {},
     "output_type": "execute_result"
    }
   ],
   "source": [
    "# Save csv file to memory using pandas \n",
    "df = pd.read_csv(file_path)\n",
    "df"
   ]
  },
  {
   "cell_type": "markdown",
   "id": "67b26994-02c5-4666-9b99-7cae9b165d28",
   "metadata": {},
   "source": [
    "If the dataset contains many samples then it is a good idea to use the **head()** function of Pandas to see the first few samples of the dataset. The function head() by itself returns the first 5 rows, but we can also specify how many rows we want to display by adding a number as a parameter in the function: **head(*10*)**"
   ]
  },
  {
   "cell_type": "code",
   "execution_count": 27,
   "id": "30e5ecb5-493a-4330-917b-92ec8145df2a",
   "metadata": {
    "tags": []
   },
   "outputs": [
    {
     "data": {
      "text/html": [
       "<div>\n",
       "<style scoped>\n",
       "    .dataframe tbody tr th:only-of-type {\n",
       "        vertical-align: middle;\n",
       "    }\n",
       "\n",
       "    .dataframe tbody tr th {\n",
       "        vertical-align: top;\n",
       "    }\n",
       "\n",
       "    .dataframe thead th {\n",
       "        text-align: right;\n",
       "    }\n",
       "</style>\n",
       "<table border=\"1\" class=\"dataframe\">\n",
       "  <thead>\n",
       "    <tr style=\"text-align: right;\">\n",
       "      <th></th>\n",
       "      <th>Id</th>\n",
       "      <th>Gender</th>\n",
       "      <th>Age</th>\n",
       "      <th>Income</th>\n",
       "      <th>Height</th>\n",
       "      <th>Weight</th>\n",
       "    </tr>\n",
       "  </thead>\n",
       "  <tbody>\n",
       "    <tr>\n",
       "      <th>0</th>\n",
       "      <td>1</td>\n",
       "      <td>M</td>\n",
       "      <td>64.0</td>\n",
       "      <td>24141.0</td>\n",
       "      <td>NaN</td>\n",
       "      <td>91.026092</td>\n",
       "    </tr>\n",
       "    <tr>\n",
       "      <th>1</th>\n",
       "      <td>2</td>\n",
       "      <td>F</td>\n",
       "      <td>18.0</td>\n",
       "      <td>82523.0</td>\n",
       "      <td>189.533369</td>\n",
       "      <td>72.400692</td>\n",
       "    </tr>\n",
       "    <tr>\n",
       "      <th>2</th>\n",
       "      <td>3</td>\n",
       "      <td>NaN</td>\n",
       "      <td>40.0</td>\n",
       "      <td>37928.0</td>\n",
       "      <td>153.884926</td>\n",
       "      <td>90.153410</td>\n",
       "    </tr>\n",
       "    <tr>\n",
       "      <th>3</th>\n",
       "      <td>4</td>\n",
       "      <td>F</td>\n",
       "      <td>47.0</td>\n",
       "      <td>83622.0</td>\n",
       "      <td>189.395822</td>\n",
       "      <td>63.506353</td>\n",
       "    </tr>\n",
       "    <tr>\n",
       "      <th>4</th>\n",
       "      <td>5</td>\n",
       "      <td>M</td>\n",
       "      <td>43.0</td>\n",
       "      <td>120475.0</td>\n",
       "      <td>155.234732</td>\n",
       "      <td>85.101889</td>\n",
       "    </tr>\n",
       "    <tr>\n",
       "      <th>...</th>\n",
       "      <td>...</td>\n",
       "      <td>...</td>\n",
       "      <td>...</td>\n",
       "      <td>...</td>\n",
       "      <td>...</td>\n",
       "      <td>...</td>\n",
       "    </tr>\n",
       "    <tr>\n",
       "      <th>95</th>\n",
       "      <td>96</td>\n",
       "      <td>NaN</td>\n",
       "      <td>55.0</td>\n",
       "      <td>94473.0</td>\n",
       "      <td>176.486080</td>\n",
       "      <td>NaN</td>\n",
       "    </tr>\n",
       "    <tr>\n",
       "      <th>96</th>\n",
       "      <td>97</td>\n",
       "      <td>NaN</td>\n",
       "      <td>59.0</td>\n",
       "      <td>68462.0</td>\n",
       "      <td>158.627039</td>\n",
       "      <td>88.250594</td>\n",
       "    </tr>\n",
       "    <tr>\n",
       "      <th>97</th>\n",
       "      <td>98</td>\n",
       "      <td>M</td>\n",
       "      <td>NaN</td>\n",
       "      <td>120095.0</td>\n",
       "      <td>NaN</td>\n",
       "      <td>89.292180</td>\n",
       "    </tr>\n",
       "    <tr>\n",
       "      <th>98</th>\n",
       "      <td>99</td>\n",
       "      <td>NaN</td>\n",
       "      <td>58.0</td>\n",
       "      <td>136820.0</td>\n",
       "      <td>NaN</td>\n",
       "      <td>76.403494</td>\n",
       "    </tr>\n",
       "    <tr>\n",
       "      <th>99</th>\n",
       "      <td>100</td>\n",
       "      <td>NaN</td>\n",
       "      <td>58.0</td>\n",
       "      <td>28198.0</td>\n",
       "      <td>NaN</td>\n",
       "      <td>74.369144</td>\n",
       "    </tr>\n",
       "  </tbody>\n",
       "</table>\n",
       "<p>100 rows × 6 columns</p>\n",
       "</div>"
      ],
      "text/plain": [
       "     Id Gender   Age    Income      Height     Weight\n",
       "0     1      M  64.0   24141.0         NaN  91.026092\n",
       "1     2      F  18.0   82523.0  189.533369  72.400692\n",
       "2     3    NaN  40.0   37928.0  153.884926  90.153410\n",
       "3     4      F  47.0   83622.0  189.395822  63.506353\n",
       "4     5      M  43.0  120475.0  155.234732  85.101889\n",
       "..  ...    ...   ...       ...         ...        ...\n",
       "95   96    NaN  55.0   94473.0  176.486080        NaN\n",
       "96   97    NaN  59.0   68462.0  158.627039  88.250594\n",
       "97   98      M   NaN  120095.0         NaN  89.292180\n",
       "98   99    NaN  58.0  136820.0         NaN  76.403494\n",
       "99  100    NaN  58.0   28198.0         NaN  74.369144\n",
       "\n",
       "[100 rows x 6 columns]"
      ]
     },
     "execution_count": 27,
     "metadata": {},
     "output_type": "execute_result"
    }
   ],
   "source": [
    "#Print the first rows of our dataframe\n",
    "df.head(100)"
   ]
  },
  {
   "cell_type": "markdown",
   "id": "09bdaddc-d58a-40c6-a7b8-b255bda3678f",
   "metadata": {},
   "source": [
    "We can also check what kind of things **df** contains using **dtypes**. What kind of data types our dataframe contains:"
   ]
  },
  {
   "cell_type": "code",
   "execution_count": 28,
   "id": "37851975-0105-4b1f-a877-5c2156bbed22",
   "metadata": {
    "scrolled": true,
    "tags": []
   },
   "outputs": [
    {
     "data": {
      "text/plain": [
       "Id          int64\n",
       "Gender     object\n",
       "Age       float64\n",
       "Income    float64\n",
       "Height    float64\n",
       "Weight    float64\n",
       "dtype: object"
      ]
     },
     "execution_count": 28,
     "metadata": {},
     "output_type": "execute_result"
    }
   ],
   "source": [
    "#Print the data types in the dataframe\n",
    "df.dtypes"
   ]
  },
  {
   "cell_type": "markdown",
   "id": "affd86c1-0227-494c-a81c-e9ff31f0071f",
   "metadata": {},
   "source": [
    "## Explore the DataFrame Object"
   ]
  },
  {
   "cell_type": "markdown",
   "id": "c65006a6-0635-45dd-a207-f139e63ffd2f",
   "metadata": {},
   "source": [
    "Let’s explore the DataFrame Object further. We will be using both methods and attributes.\n",
    "\n",
    "**Methods** are functions that we can apply to the DataFrame to perform specific operations. They usually require parentheses. If we wish to see the information of a dataframe, we can use the **info()** function:"
   ]
  },
  {
   "cell_type": "code",
   "execution_count": 29,
   "id": "880cee48-844a-4ecb-8554-875e55cb6aef",
   "metadata": {
    "tags": []
   },
   "outputs": [
    {
     "name": "stdout",
     "output_type": "stream",
     "text": [
      "<class 'pandas.core.frame.DataFrame'>\n",
      "RangeIndex: 500 entries, 0 to 499\n",
      "Data columns (total 6 columns):\n",
      " #   Column  Non-Null Count  Dtype  \n",
      "---  ------  --------------  -----  \n",
      " 0   Id      500 non-null    int64  \n",
      " 1   Gender  335 non-null    object \n",
      " 2   Age     452 non-null    float64\n",
      " 3   Income  396 non-null    float64\n",
      " 4   Height  453 non-null    float64\n",
      " 5   Weight  458 non-null    float64\n",
      "dtypes: float64(4), int64(1), object(1)\n",
      "memory usage: 23.6+ KB\n",
      "None\n"
     ]
    }
   ],
   "source": [
    "#Print dataframe information\n",
    "info = df.info()\n",
    "print(info)"
   ]
  },
  {
   "cell_type": "markdown",
   "id": "c9cf8973-93b8-42ea-8f68-ccbd7fedd240",
   "metadata": {},
   "source": [
    "This summary provides valuable information about the DataFrame’s structure, data types, and the presence of missing values. It’s a quick overview that helps you understand the content and characteristics of the DataFrame."
   ]
  },
  {
   "cell_type": "markdown",
   "id": "771afe92-f1d4-4b09-8588-c3d0ced0110d",
   "metadata": {},
   "source": [
    "We can use the **unique()** function to identify the distinct values within a column or an array."
   ]
  },
  {
   "cell_type": "code",
   "execution_count": 30,
   "id": "67af5f29-7666-4c53-b15a-62385e5f9953",
   "metadata": {
    "tags": []
   },
   "outputs": [
    {
     "data": {
      "text/plain": [
       "array(['M', 'F', nan], dtype=object)"
      ]
     },
     "execution_count": 30,
     "metadata": {},
     "output_type": "execute_result"
    }
   ],
   "source": [
    "#Identify distinct values within a column\n",
    "pd.unique(df['Gender'])"
   ]
  },
  {
   "cell_type": "markdown",
   "id": "f90d8d63-b513-460e-9640-d0332173dd05",
   "metadata": {},
   "source": [
    "It returns the unique values in the **Gender** column, such as F, M, and nan."
   ]
  },
  {
   "cell_type": "markdown",
   "id": "92ac51ab-a0bf-4c79-9227-ddcbce8c7251",
   "metadata": {},
   "source": [
    "**Attributes** are properties of the DataFrame that provide information about its characteristics. They don’t require parentheses. If we wish to see the shape, number of rows and columns, of the dataframe we can use the **shape** attribute:"
   ]
  },
  {
   "cell_type": "code",
   "execution_count": 31,
   "id": "eba73212-87cc-4798-a102-7d37ad30555f",
   "metadata": {
    "tags": []
   },
   "outputs": [
    {
     "name": "stdout",
     "output_type": "stream",
     "text": [
      "(500, 6)\n"
     ]
    }
   ],
   "source": [
    "# Get the shape of the DataFrame (attribute)\n",
    "shape = df.shape\n",
    "print(shape)"
   ]
  },
  {
   "cell_type": "markdown",
   "id": "be52d43f-7bc2-49be-b823-27001511487b",
   "metadata": {},
   "source": [
    "### Exercise 1\n",
    "What would be the output of the following commands?\n",
    "-  df.tail()\n",
    "-  df.columns\n"
   ]
  },
  {
   "cell_type": "code",
   "execution_count": 32,
   "id": "c61c0f65-a5ea-402b-a33a-0ef6abe969d6",
   "metadata": {},
   "outputs": [
    {
     "data": {
      "text/html": [
       "<div>\n",
       "<style scoped>\n",
       "    .dataframe tbody tr th:only-of-type {\n",
       "        vertical-align: middle;\n",
       "    }\n",
       "\n",
       "    .dataframe tbody tr th {\n",
       "        vertical-align: top;\n",
       "    }\n",
       "\n",
       "    .dataframe thead th {\n",
       "        text-align: right;\n",
       "    }\n",
       "</style>\n",
       "<table border=\"1\" class=\"dataframe\">\n",
       "  <thead>\n",
       "    <tr style=\"text-align: right;\">\n",
       "      <th></th>\n",
       "      <th>Id</th>\n",
       "      <th>Gender</th>\n",
       "      <th>Age</th>\n",
       "      <th>Income</th>\n",
       "      <th>Height</th>\n",
       "      <th>Weight</th>\n",
       "    </tr>\n",
       "  </thead>\n",
       "  <tbody>\n",
       "    <tr>\n",
       "      <th>490</th>\n",
       "      <td>491</td>\n",
       "      <td>F</td>\n",
       "      <td>60.0</td>\n",
       "      <td>117648.0</td>\n",
       "      <td>181.056243</td>\n",
       "      <td>NaN</td>\n",
       "    </tr>\n",
       "    <tr>\n",
       "      <th>491</th>\n",
       "      <td>492</td>\n",
       "      <td>NaN</td>\n",
       "      <td>49.0</td>\n",
       "      <td>50634.0</td>\n",
       "      <td>155.796445</td>\n",
       "      <td>95.706997</td>\n",
       "    </tr>\n",
       "    <tr>\n",
       "      <th>492</th>\n",
       "      <td>493</td>\n",
       "      <td>M</td>\n",
       "      <td>58.0</td>\n",
       "      <td>21617.0</td>\n",
       "      <td>178.247016</td>\n",
       "      <td>96.618002</td>\n",
       "    </tr>\n",
       "    <tr>\n",
       "      <th>493</th>\n",
       "      <td>494</td>\n",
       "      <td>F</td>\n",
       "      <td>34.0</td>\n",
       "      <td>28917.0</td>\n",
       "      <td>150.552383</td>\n",
       "      <td>95.738284</td>\n",
       "    </tr>\n",
       "    <tr>\n",
       "      <th>494</th>\n",
       "      <td>495</td>\n",
       "      <td>NaN</td>\n",
       "      <td>55.0</td>\n",
       "      <td>60864.0</td>\n",
       "      <td>182.079665</td>\n",
       "      <td>71.311427</td>\n",
       "    </tr>\n",
       "    <tr>\n",
       "      <th>495</th>\n",
       "      <td>496</td>\n",
       "      <td>M</td>\n",
       "      <td>52.0</td>\n",
       "      <td>143234.0</td>\n",
       "      <td>156.044812</td>\n",
       "      <td>66.805198</td>\n",
       "    </tr>\n",
       "    <tr>\n",
       "      <th>496</th>\n",
       "      <td>497</td>\n",
       "      <td>M</td>\n",
       "      <td>NaN</td>\n",
       "      <td>56023.0</td>\n",
       "      <td>159.155331</td>\n",
       "      <td>80.400186</td>\n",
       "    </tr>\n",
       "    <tr>\n",
       "      <th>497</th>\n",
       "      <td>498</td>\n",
       "      <td>NaN</td>\n",
       "      <td>44.0</td>\n",
       "      <td>45923.0</td>\n",
       "      <td>180.344630</td>\n",
       "      <td>63.905775</td>\n",
       "    </tr>\n",
       "    <tr>\n",
       "      <th>498</th>\n",
       "      <td>499</td>\n",
       "      <td>F</td>\n",
       "      <td>40.0</td>\n",
       "      <td>72164.0</td>\n",
       "      <td>151.121012</td>\n",
       "      <td>NaN</td>\n",
       "    </tr>\n",
       "    <tr>\n",
       "      <th>499</th>\n",
       "      <td>500</td>\n",
       "      <td>NaN</td>\n",
       "      <td>42.0</td>\n",
       "      <td>NaN</td>\n",
       "      <td>170.127901</td>\n",
       "      <td>51.950306</td>\n",
       "    </tr>\n",
       "  </tbody>\n",
       "</table>\n",
       "</div>"
      ],
      "text/plain": [
       "      Id Gender   Age    Income      Height     Weight\n",
       "490  491      F  60.0  117648.0  181.056243        NaN\n",
       "491  492    NaN  49.0   50634.0  155.796445  95.706997\n",
       "492  493      M  58.0   21617.0  178.247016  96.618002\n",
       "493  494      F  34.0   28917.0  150.552383  95.738284\n",
       "494  495    NaN  55.0   60864.0  182.079665  71.311427\n",
       "495  496      M  52.0  143234.0  156.044812  66.805198\n",
       "496  497      M   NaN   56023.0  159.155331  80.400186\n",
       "497  498    NaN  44.0   45923.0  180.344630  63.905775\n",
       "498  499      F  40.0   72164.0  151.121012        NaN\n",
       "499  500    NaN  42.0       NaN  170.127901  51.950306"
      ]
     },
     "execution_count": 32,
     "metadata": {},
     "output_type": "execute_result"
    }
   ],
   "source": [
    "df.tail(10)"
   ]
  },
  {
   "cell_type": "code",
   "execution_count": 33,
   "id": "d0b3376f-d646-4718-abd3-3a21ca09ce2d",
   "metadata": {
    "tags": []
   },
   "outputs": [
    {
     "data": {
      "text/plain": [
       "Index(['Id', 'Gender', 'Age', 'Income', 'Height', 'Weight'], dtype='object')"
      ]
     },
     "execution_count": 33,
     "metadata": {},
     "output_type": "execute_result"
    }
   ],
   "source": [
    "df.columns"
   ]
  },
  {
   "cell_type": "markdown",
   "id": "21766ecd-7220-440f-bc8b-7e84628ff1cb",
   "metadata": {},
   "source": [
    "df.tail() is a method and returns the last 5 rows of our dataframe. Df.columns is an attribute that provides access to the column labes and dtype."
   ]
  },
  {
   "cell_type": "markdown",
   "id": "0c1a3adc-e32d-4f72-90be-4046fd3d5276",
   "metadata": {},
   "source": [
    "## Selecting Data Using Labels"
   ]
  },
  {
   "cell_type": "markdown",
   "id": "e1b1f5fd-78a2-43d7-86e4-f1b68c884b1e",
   "metadata": {},
   "source": [
    "To select a single column, use the DataFrame’s name followed by the column label in square brackets **['ColumnLabel']**."
   ]
  },
  {
   "cell_type": "code",
   "execution_count": 34,
   "id": "39a176a5-0d45-42c3-8618-8c5deb853717",
   "metadata": {
    "tags": []
   },
   "outputs": [
    {
     "data": {
      "text/plain": [
       "0      64.0\n",
       "1      18.0\n",
       "2      40.0\n",
       "3      47.0\n",
       "4      43.0\n",
       "       ... \n",
       "495    52.0\n",
       "496     NaN\n",
       "497    44.0\n",
       "498    40.0\n",
       "499    42.0\n",
       "Name: Age, Length: 500, dtype: float64"
      ]
     },
     "execution_count": 34,
     "metadata": {},
     "output_type": "execute_result"
    }
   ],
   "source": [
    "# Select the \"Age\" column\n",
    "df['Age']"
   ]
  },
  {
   "cell_type": "markdown",
   "id": "f6441db4-4d5c-4463-8fa3-45908c2b7a43",
   "metadata": {},
   "source": [
    "We can also use the column name as an *attribute* to access data from that column using **df.Age**\n"
   ]
  },
  {
   "cell_type": "code",
   "execution_count": 35,
   "id": "a734855c-8862-4a7e-8af6-e12dd414506c",
   "metadata": {
    "tags": []
   },
   "outputs": [
    {
     "data": {
      "text/plain": [
       "0      64.0\n",
       "1      18.0\n",
       "2      40.0\n",
       "3      47.0\n",
       "4      43.0\n",
       "       ... \n",
       "495    52.0\n",
       "496     NaN\n",
       "497    44.0\n",
       "498    40.0\n",
       "499    42.0\n",
       "Name: Age, Length: 500, dtype: float64"
      ]
     },
     "execution_count": 35,
     "metadata": {},
     "output_type": "execute_result"
    }
   ],
   "source": [
    "# Select the 'Age' column as an attribute\n",
    "df.Age"
   ]
  },
  {
   "cell_type": "markdown",
   "id": "8040e0eb-aa05-49c0-a90c-64ead91f55c3",
   "metadata": {},
   "source": [
    "To select multiple columns, enclose the column labels in double square brackets **[['Column1', 'Column2']]**. We can also create a new object and store the result, and later we can access the result from the object."
   ]
  },
  {
   "cell_type": "code",
   "execution_count": 36,
   "id": "3c69f2c7-1a9e-4366-bfc4-9b4ace0c638d",
   "metadata": {
    "tags": []
   },
   "outputs": [
    {
     "name": "stdout",
     "output_type": "stream",
     "text": [
      "Selected Age and Income columns:\n",
      "       Age    Income\n",
      "0    64.0   24141.0\n",
      "1    18.0   82523.0\n",
      "2    40.0   37928.0\n",
      "3    47.0   83622.0\n",
      "4    43.0  120475.0\n",
      "..    ...       ...\n",
      "495  52.0  143234.0\n",
      "496   NaN   56023.0\n",
      "497  44.0   45923.0\n",
      "498  40.0   72164.0\n",
      "499  42.0       NaN\n",
      "\n",
      "[500 rows x 2 columns]\n"
     ]
    }
   ],
   "source": [
    "# Select the 'Age' and 'Income' columns and store in a object\n",
    "age_income_columns = df[['Age','Income']]\n",
    "print(\"Selected Age and Income columns:\\n\",age_income_columns)"
   ]
  },
  {
   "cell_type": "markdown",
   "id": "996ecbc6-0b20-4f8e-89de-85d33c60ffdd",
   "metadata": {},
   "source": [
    "## Slicing Rows and Columns\n",
    "Slicing rows and columns simultaneously involves using **.loc** or **.iloc** and specifying the row indices and column labels or indices we want to include.\n",
    "\n",
    "-  **.loc** is label-based indexing, meaning we specify the row and column labels.\n",
    "-  **.iloc** is integer-based indexing, meaning we use integer indices for rows and columns."
   ]
  },
  {
   "cell_type": "markdown",
   "id": "ad07dc92-3f9d-406d-8d3a-e26e38dcb480",
   "metadata": {},
   "source": [
    "#### Using .loc "
   ]
  },
  {
   "cell_type": "code",
   "execution_count": 37,
   "id": "c0aeb794-7e77-4dff-8b82-3c921df3beba",
   "metadata": {
    "tags": []
   },
   "outputs": [
    {
     "name": "stdout",
     "output_type": "stream",
     "text": [
      "Sliced Rows and Columns using .loc:\n",
      "   Gender   Age\n",
      "1      F  18.0\n",
      "2    NaN  40.0\n",
      "3      F  47.0\n"
     ]
    }
   ],
   "source": [
    "# Slice rows 1 to 3 and columns 'Gender' and 'Age' using .loc\n",
    "sliced_rows_columns_loc = df.loc[1:3, ['Gender','Age']]\n",
    "print(\"Sliced Rows and Columns using .loc:\\n\", sliced_rows_columns_loc)"
   ]
  },
  {
   "cell_type": "markdown",
   "id": "442b1584-be86-454b-8299-9e074cd2fc88",
   "metadata": {},
   "source": [
    "Now, if we want to select **‘Gender’, ’Age’, and ‘Weight’** columns with row labels **“1, 3, 4”**, we can also do this using the below code:"
   ]
  },
  {
   "cell_type": "code",
   "execution_count": 38,
   "id": "a25e7b58-c334-41d6-b384-7ea868568296",
   "metadata": {
    "tags": []
   },
   "outputs": [
    {
     "name": "stdout",
     "output_type": "stream",
     "text": [
      "Sliced Rows and Columns using .loc:\n",
      "   Gender   Age     Weight\n",
      "1      F  18.0  72.400692\n",
      "3      F  47.0  63.506353\n",
      "4      M  43.0  85.101889\n"
     ]
    }
   ],
   "source": [
    "# Slice rows “1, 3, 4” and columns 'Gender','Age', and 'Weight'\n",
    "sliced_rows_columns_loc2 = df.loc[[1,3,4],['Gender','Age','Weight']]\n",
    "print(\"Sliced Rows and Columns using .loc:\\n\", sliced_rows_columns_loc2)"
   ]
  },
  {
   "cell_type": "markdown",
   "id": "566638e8-e53a-42f2-b889-9b949716c284",
   "metadata": {},
   "source": [
    "### Using .iloc: "
   ]
  },
  {
   "cell_type": "code",
   "execution_count": 39,
   "id": "f4d5a5ac-bf07-4f46-9ed8-1d17d1ce0fa0",
   "metadata": {
    "tags": []
   },
   "outputs": [
    {
     "name": "stdout",
     "output_type": "stream",
     "text": [
      "Sliced Rows and Columns using .iloc:\n",
      "   Gender   Age   Income\n",
      "1      F  18.0  82523.0\n",
      "2    NaN  40.0  37928.0\n",
      "3      F  47.0  83622.0\n"
     ]
    }
   ],
   "source": [
    "# Slice rows 1 to 3 and columns at index 1 to 3 using .iloc\n",
    "sliced_rows_columns_iloc = df.iloc[1:4,1:4] # 4 is not included\n",
    "print(\"Sliced Rows and Columns using .iloc:\\n\", sliced_rows_columns_iloc)"
   ]
  },
  {
   "cell_type": "markdown",
   "id": "3a206820-efee-41bf-97ee-1a7a60dd0eb7",
   "metadata": {},
   "source": [
    "In both cases, using *.loc* or *.iloc*, the first argument specifies the rows to include, and the second argument specifies the columns to include. "
   ]
  },
  {
   "cell_type": "markdown",
   "id": "d7f49a8a-ef83-4b45-a5d9-fe2aeb15b77f",
   "metadata": {},
   "source": [
    "## Groups in Pandas\n",
    "\n",
    "Frequently, there’s a need to compute summary statistics based on subsets or specific attributes within our dataset. For instance, we might wish to find the summary statistics of the income of all individuals, we can do it using the following code:"
   ]
  },
  {
   "cell_type": "code",
   "execution_count": 40,
   "id": "ec81b3b5-abe6-4f7e-93db-7ac79bd7e45c",
   "metadata": {
    "tags": []
   },
   "outputs": [
    {
     "data": {
      "text/plain": [
       "count       396.000000\n",
       "mean      86108.492424\n",
       "std       36654.922564\n",
       "min       20045.000000\n",
       "25%       57367.000000\n",
       "50%       88871.000000\n",
       "75%      116668.000000\n",
       "max      149846.000000\n",
       "Name: Income, dtype: float64"
      ]
     },
     "execution_count": 40,
     "metadata": {},
     "output_type": "execute_result"
    }
   ],
   "source": [
    "#Return summary statistics of the Income column \n",
    "df['Income'].describe()"
   ]
  },
  {
   "cell_type": "markdown",
   "id": "ef7f85c3-23a2-43ad-b4ac-3f67ff67d2b4",
   "metadata": {},
   "source": [
    "Again, we might also want to get only specific information, like the maximum:"
   ]
  },
  {
   "cell_type": "code",
   "execution_count": 41,
   "id": "44243934-753f-4d79-818f-87e47df7ce19",
   "metadata": {
    "tags": []
   },
   "outputs": [
    {
     "data": {
      "text/plain": [
       "149846.0"
      ]
     },
     "execution_count": 41,
     "metadata": {},
     "output_type": "execute_result"
    }
   ],
   "source": [
    "#Return the maximum value of the Income column\n",
    "df['Income'].max()"
   ]
  },
  {
   "cell_type": "markdown",
   "id": "99aa1956-0966-4183-ae7a-98a2319d286f",
   "metadata": {},
   "source": [
    "or we can get the average income of all individuals:"
   ]
  },
  {
   "cell_type": "code",
   "execution_count": 42,
   "id": "e914084c-e092-4071-83e4-5ef04dfe8bad",
   "metadata": {
    "tags": []
   },
   "outputs": [
    {
     "data": {
      "text/plain": [
       "86108.49242424243"
      ]
     },
     "execution_count": 42,
     "metadata": {},
     "output_type": "execute_result"
    }
   ],
   "source": [
    "#Return the average income of all individuals\n",
    "df['Income'].mean()"
   ]
  },
  {
   "cell_type": "markdown",
   "id": "87e058d5-e062-455c-9000-b120580dea27",
   "metadata": {},
   "source": [
    "However, when the intention is to summarize data based on one or more variables, such as gender, the Pandas library offers the **.groupby** method. Once a DataFrame is grouped using this approach, we have the ability to compute summary statistics of the selected grouping."
   ]
  },
  {
   "cell_type": "code",
   "execution_count": 43,
   "id": "49151b45-406f-4e65-9d96-78d55383cf34",
   "metadata": {
    "tags": []
   },
   "outputs": [
    {
     "data": {
      "text/html": [
       "<div>\n",
       "<style scoped>\n",
       "    .dataframe tbody tr th:only-of-type {\n",
       "        vertical-align: middle;\n",
       "    }\n",
       "\n",
       "    .dataframe tbody tr th {\n",
       "        vertical-align: top;\n",
       "    }\n",
       "\n",
       "    .dataframe thead th {\n",
       "        text-align: right;\n",
       "    }\n",
       "</style>\n",
       "<table border=\"1\" class=\"dataframe\">\n",
       "  <thead>\n",
       "    <tr style=\"text-align: right;\">\n",
       "      <th></th>\n",
       "      <th>Id</th>\n",
       "      <th>Income</th>\n",
       "      <th>Height</th>\n",
       "      <th>Weight</th>\n",
       "    </tr>\n",
       "    <tr>\n",
       "      <th>Age</th>\n",
       "      <th></th>\n",
       "      <th></th>\n",
       "      <th></th>\n",
       "      <th></th>\n",
       "    </tr>\n",
       "  </thead>\n",
       "  <tbody>\n",
       "    <tr>\n",
       "      <th>18.0</th>\n",
       "      <td>195.090909</td>\n",
       "      <td>96315.375000</td>\n",
       "      <td>170.103731</td>\n",
       "      <td>73.987753</td>\n",
       "    </tr>\n",
       "    <tr>\n",
       "      <th>19.0</th>\n",
       "      <td>246.250000</td>\n",
       "      <td>87691.666667</td>\n",
       "      <td>171.623130</td>\n",
       "      <td>70.695070</td>\n",
       "    </tr>\n",
       "    <tr>\n",
       "      <th>20.0</th>\n",
       "      <td>228.083333</td>\n",
       "      <td>87823.636364</td>\n",
       "      <td>168.674221</td>\n",
       "      <td>73.915529</td>\n",
       "    </tr>\n",
       "    <tr>\n",
       "      <th>21.0</th>\n",
       "      <td>226.000000</td>\n",
       "      <td>89577.777778</td>\n",
       "      <td>171.518129</td>\n",
       "      <td>76.492599</td>\n",
       "    </tr>\n",
       "    <tr>\n",
       "      <th>22.0</th>\n",
       "      <td>253.875000</td>\n",
       "      <td>114389.571429</td>\n",
       "      <td>175.781805</td>\n",
       "      <td>75.984598</td>\n",
       "    </tr>\n",
       "    <tr>\n",
       "      <th>23.0</th>\n",
       "      <td>183.700000</td>\n",
       "      <td>73661.000000</td>\n",
       "      <td>172.478158</td>\n",
       "      <td>69.541791</td>\n",
       "    </tr>\n",
       "    <tr>\n",
       "      <th>24.0</th>\n",
       "      <td>250.428571</td>\n",
       "      <td>110314.000000</td>\n",
       "      <td>165.903550</td>\n",
       "      <td>67.539430</td>\n",
       "    </tr>\n",
       "    <tr>\n",
       "      <th>25.0</th>\n",
       "      <td>244.500000</td>\n",
       "      <td>82448.400000</td>\n",
       "      <td>171.177153</td>\n",
       "      <td>76.334082</td>\n",
       "    </tr>\n",
       "    <tr>\n",
       "      <th>26.0</th>\n",
       "      <td>159.600000</td>\n",
       "      <td>92140.888889</td>\n",
       "      <td>171.139189</td>\n",
       "      <td>78.765376</td>\n",
       "    </tr>\n",
       "    <tr>\n",
       "      <th>27.0</th>\n",
       "      <td>279.125000</td>\n",
       "      <td>114739.166667</td>\n",
       "      <td>161.964803</td>\n",
       "      <td>74.711894</td>\n",
       "    </tr>\n",
       "    <tr>\n",
       "      <th>28.0</th>\n",
       "      <td>233.666667</td>\n",
       "      <td>91757.000000</td>\n",
       "      <td>172.748631</td>\n",
       "      <td>77.078764</td>\n",
       "    </tr>\n",
       "    <tr>\n",
       "      <th>29.0</th>\n",
       "      <td>247.222222</td>\n",
       "      <td>75717.666667</td>\n",
       "      <td>167.975750</td>\n",
       "      <td>78.876743</td>\n",
       "    </tr>\n",
       "    <tr>\n",
       "      <th>30.0</th>\n",
       "      <td>212.666667</td>\n",
       "      <td>64038.500000</td>\n",
       "      <td>174.433240</td>\n",
       "      <td>72.993368</td>\n",
       "    </tr>\n",
       "    <tr>\n",
       "      <th>31.0</th>\n",
       "      <td>214.285714</td>\n",
       "      <td>76034.142857</td>\n",
       "      <td>166.893072</td>\n",
       "      <td>69.443276</td>\n",
       "    </tr>\n",
       "    <tr>\n",
       "      <th>32.0</th>\n",
       "      <td>218.142857</td>\n",
       "      <td>114238.666667</td>\n",
       "      <td>168.484216</td>\n",
       "      <td>72.798077</td>\n",
       "    </tr>\n",
       "    <tr>\n",
       "      <th>33.0</th>\n",
       "      <td>183.555556</td>\n",
       "      <td>87235.875000</td>\n",
       "      <td>170.804143</td>\n",
       "      <td>75.142616</td>\n",
       "    </tr>\n",
       "    <tr>\n",
       "      <th>34.0</th>\n",
       "      <td>264.857143</td>\n",
       "      <td>58592.166667</td>\n",
       "      <td>170.902562</td>\n",
       "      <td>77.039445</td>\n",
       "    </tr>\n",
       "    <tr>\n",
       "      <th>35.0</th>\n",
       "      <td>253.428571</td>\n",
       "      <td>124633.666667</td>\n",
       "      <td>169.058794</td>\n",
       "      <td>78.596310</td>\n",
       "    </tr>\n",
       "    <tr>\n",
       "      <th>36.0</th>\n",
       "      <td>224.800000</td>\n",
       "      <td>93367.750000</td>\n",
       "      <td>175.313033</td>\n",
       "      <td>81.988142</td>\n",
       "    </tr>\n",
       "    <tr>\n",
       "      <th>37.0</th>\n",
       "      <td>193.500000</td>\n",
       "      <td>94355.000000</td>\n",
       "      <td>171.117528</td>\n",
       "      <td>70.983502</td>\n",
       "    </tr>\n",
       "    <tr>\n",
       "      <th>38.0</th>\n",
       "      <td>316.000000</td>\n",
       "      <td>82117.285714</td>\n",
       "      <td>171.416965</td>\n",
       "      <td>80.063961</td>\n",
       "    </tr>\n",
       "    <tr>\n",
       "      <th>39.0</th>\n",
       "      <td>208.142857</td>\n",
       "      <td>65369.000000</td>\n",
       "      <td>168.580226</td>\n",
       "      <td>75.281645</td>\n",
       "    </tr>\n",
       "    <tr>\n",
       "      <th>40.0</th>\n",
       "      <td>271.636364</td>\n",
       "      <td>79527.111111</td>\n",
       "      <td>166.323100</td>\n",
       "      <td>71.260605</td>\n",
       "    </tr>\n",
       "    <tr>\n",
       "      <th>41.0</th>\n",
       "      <td>284.090909</td>\n",
       "      <td>90931.555556</td>\n",
       "      <td>164.682011</td>\n",
       "      <td>77.363206</td>\n",
       "    </tr>\n",
       "    <tr>\n",
       "      <th>42.0</th>\n",
       "      <td>289.285714</td>\n",
       "      <td>79172.750000</td>\n",
       "      <td>169.601755</td>\n",
       "      <td>73.997472</td>\n",
       "    </tr>\n",
       "    <tr>\n",
       "      <th>43.0</th>\n",
       "      <td>190.750000</td>\n",
       "      <td>84493.666667</td>\n",
       "      <td>171.611034</td>\n",
       "      <td>69.526338</td>\n",
       "    </tr>\n",
       "    <tr>\n",
       "      <th>44.0</th>\n",
       "      <td>312.700000</td>\n",
       "      <td>97241.100000</td>\n",
       "      <td>168.999140</td>\n",
       "      <td>74.804105</td>\n",
       "    </tr>\n",
       "    <tr>\n",
       "      <th>45.0</th>\n",
       "      <td>271.083333</td>\n",
       "      <td>70377.000000</td>\n",
       "      <td>171.699497</td>\n",
       "      <td>68.619812</td>\n",
       "    </tr>\n",
       "    <tr>\n",
       "      <th>46.0</th>\n",
       "      <td>271.846154</td>\n",
       "      <td>72477.750000</td>\n",
       "      <td>171.751348</td>\n",
       "      <td>80.651293</td>\n",
       "    </tr>\n",
       "    <tr>\n",
       "      <th>47.0</th>\n",
       "      <td>217.000000</td>\n",
       "      <td>91716.625000</td>\n",
       "      <td>169.136758</td>\n",
       "      <td>78.461584</td>\n",
       "    </tr>\n",
       "    <tr>\n",
       "      <th>48.0</th>\n",
       "      <td>292.285714</td>\n",
       "      <td>97594.200000</td>\n",
       "      <td>163.436320</td>\n",
       "      <td>78.259437</td>\n",
       "    </tr>\n",
       "    <tr>\n",
       "      <th>49.0</th>\n",
       "      <td>217.125000</td>\n",
       "      <td>61607.857143</td>\n",
       "      <td>167.250771</td>\n",
       "      <td>79.622638</td>\n",
       "    </tr>\n",
       "    <tr>\n",
       "      <th>50.0</th>\n",
       "      <td>280.285714</td>\n",
       "      <td>106276.400000</td>\n",
       "      <td>162.670453</td>\n",
       "      <td>75.837433</td>\n",
       "    </tr>\n",
       "    <tr>\n",
       "      <th>51.0</th>\n",
       "      <td>315.363636</td>\n",
       "      <td>84904.000000</td>\n",
       "      <td>173.396591</td>\n",
       "      <td>77.068431</td>\n",
       "    </tr>\n",
       "    <tr>\n",
       "      <th>52.0</th>\n",
       "      <td>231.777778</td>\n",
       "      <td>123386.571429</td>\n",
       "      <td>164.498243</td>\n",
       "      <td>73.746855</td>\n",
       "    </tr>\n",
       "    <tr>\n",
       "      <th>53.0</th>\n",
       "      <td>249.333333</td>\n",
       "      <td>119575.000000</td>\n",
       "      <td>172.460183</td>\n",
       "      <td>73.446444</td>\n",
       "    </tr>\n",
       "    <tr>\n",
       "      <th>54.0</th>\n",
       "      <td>233.625000</td>\n",
       "      <td>67611.833333</td>\n",
       "      <td>166.779500</td>\n",
       "      <td>74.140656</td>\n",
       "    </tr>\n",
       "    <tr>\n",
       "      <th>55.0</th>\n",
       "      <td>253.181818</td>\n",
       "      <td>90737.888889</td>\n",
       "      <td>172.902809</td>\n",
       "      <td>74.298011</td>\n",
       "    </tr>\n",
       "    <tr>\n",
       "      <th>56.0</th>\n",
       "      <td>218.000000</td>\n",
       "      <td>68869.333333</td>\n",
       "      <td>166.367643</td>\n",
       "      <td>69.160677</td>\n",
       "    </tr>\n",
       "    <tr>\n",
       "      <th>57.0</th>\n",
       "      <td>333.833333</td>\n",
       "      <td>85395.666667</td>\n",
       "      <td>158.311013</td>\n",
       "      <td>71.732289</td>\n",
       "    </tr>\n",
       "    <tr>\n",
       "      <th>58.0</th>\n",
       "      <td>225.428571</td>\n",
       "      <td>88387.333333</td>\n",
       "      <td>175.117216</td>\n",
       "      <td>79.590489</td>\n",
       "    </tr>\n",
       "    <tr>\n",
       "      <th>59.0</th>\n",
       "      <td>276.545455</td>\n",
       "      <td>71347.111111</td>\n",
       "      <td>168.658703</td>\n",
       "      <td>79.696966</td>\n",
       "    </tr>\n",
       "    <tr>\n",
       "      <th>60.0</th>\n",
       "      <td>273.222222</td>\n",
       "      <td>82896.750000</td>\n",
       "      <td>174.545715</td>\n",
       "      <td>74.513982</td>\n",
       "    </tr>\n",
       "    <tr>\n",
       "      <th>61.0</th>\n",
       "      <td>285.083333</td>\n",
       "      <td>87594.444444</td>\n",
       "      <td>166.696749</td>\n",
       "      <td>75.091913</td>\n",
       "    </tr>\n",
       "    <tr>\n",
       "      <th>62.0</th>\n",
       "      <td>228.000000</td>\n",
       "      <td>78744.777778</td>\n",
       "      <td>173.656040</td>\n",
       "      <td>74.111996</td>\n",
       "    </tr>\n",
       "    <tr>\n",
       "      <th>63.0</th>\n",
       "      <td>304.333333</td>\n",
       "      <td>61134.666667</td>\n",
       "      <td>164.174481</td>\n",
       "      <td>70.214332</td>\n",
       "    </tr>\n",
       "    <tr>\n",
       "      <th>64.0</th>\n",
       "      <td>261.727273</td>\n",
       "      <td>82377.181818</td>\n",
       "      <td>172.942959</td>\n",
       "      <td>78.816664</td>\n",
       "    </tr>\n",
       "    <tr>\n",
       "      <th>65.0</th>\n",
       "      <td>276.777778</td>\n",
       "      <td>81301.285714</td>\n",
       "      <td>173.785409</td>\n",
       "      <td>74.606691</td>\n",
       "    </tr>\n",
       "  </tbody>\n",
       "</table>\n",
       "</div>"
      ],
      "text/plain": [
       "              Id         Income      Height     Weight\n",
       "Age                                                   \n",
       "18.0  195.090909   96315.375000  170.103731  73.987753\n",
       "19.0  246.250000   87691.666667  171.623130  70.695070\n",
       "20.0  228.083333   87823.636364  168.674221  73.915529\n",
       "21.0  226.000000   89577.777778  171.518129  76.492599\n",
       "22.0  253.875000  114389.571429  175.781805  75.984598\n",
       "23.0  183.700000   73661.000000  172.478158  69.541791\n",
       "24.0  250.428571  110314.000000  165.903550  67.539430\n",
       "25.0  244.500000   82448.400000  171.177153  76.334082\n",
       "26.0  159.600000   92140.888889  171.139189  78.765376\n",
       "27.0  279.125000  114739.166667  161.964803  74.711894\n",
       "28.0  233.666667   91757.000000  172.748631  77.078764\n",
       "29.0  247.222222   75717.666667  167.975750  78.876743\n",
       "30.0  212.666667   64038.500000  174.433240  72.993368\n",
       "31.0  214.285714   76034.142857  166.893072  69.443276\n",
       "32.0  218.142857  114238.666667  168.484216  72.798077\n",
       "33.0  183.555556   87235.875000  170.804143  75.142616\n",
       "34.0  264.857143   58592.166667  170.902562  77.039445\n",
       "35.0  253.428571  124633.666667  169.058794  78.596310\n",
       "36.0  224.800000   93367.750000  175.313033  81.988142\n",
       "37.0  193.500000   94355.000000  171.117528  70.983502\n",
       "38.0  316.000000   82117.285714  171.416965  80.063961\n",
       "39.0  208.142857   65369.000000  168.580226  75.281645\n",
       "40.0  271.636364   79527.111111  166.323100  71.260605\n",
       "41.0  284.090909   90931.555556  164.682011  77.363206\n",
       "42.0  289.285714   79172.750000  169.601755  73.997472\n",
       "43.0  190.750000   84493.666667  171.611034  69.526338\n",
       "44.0  312.700000   97241.100000  168.999140  74.804105\n",
       "45.0  271.083333   70377.000000  171.699497  68.619812\n",
       "46.0  271.846154   72477.750000  171.751348  80.651293\n",
       "47.0  217.000000   91716.625000  169.136758  78.461584\n",
       "48.0  292.285714   97594.200000  163.436320  78.259437\n",
       "49.0  217.125000   61607.857143  167.250771  79.622638\n",
       "50.0  280.285714  106276.400000  162.670453  75.837433\n",
       "51.0  315.363636   84904.000000  173.396591  77.068431\n",
       "52.0  231.777778  123386.571429  164.498243  73.746855\n",
       "53.0  249.333333  119575.000000  172.460183  73.446444\n",
       "54.0  233.625000   67611.833333  166.779500  74.140656\n",
       "55.0  253.181818   90737.888889  172.902809  74.298011\n",
       "56.0  218.000000   68869.333333  166.367643  69.160677\n",
       "57.0  333.833333   85395.666667  158.311013  71.732289\n",
       "58.0  225.428571   88387.333333  175.117216  79.590489\n",
       "59.0  276.545455   71347.111111  168.658703  79.696966\n",
       "60.0  273.222222   82896.750000  174.545715  74.513982\n",
       "61.0  285.083333   87594.444444  166.696749  75.091913\n",
       "62.0  228.000000   78744.777778  173.656040  74.111996\n",
       "63.0  304.333333   61134.666667  164.174481  70.214332\n",
       "64.0  261.727273   82377.181818  172.942959  78.816664\n",
       "65.0  276.777778   81301.285714  173.785409  74.606691"
      ]
     },
     "execution_count": 43,
     "metadata": {},
     "output_type": "execute_result"
    }
   ],
   "source": [
    "# Group data by age\n",
    "grouped_data = df.groupby('Age')\n",
    "\n",
    "# Provide the mean for each numeric column by sex\n",
    "grouped_data.mean(numeric_only = True)"
   ]
  },
  {
   "cell_type": "markdown",
   "id": "996ac41f-f418-4453-88a2-83f3132dec5b",
   "metadata": {},
   "source": [
    "## Basic Math with Pandas\n",
    "If desired, it’s entirely possible to perform mathematical operations, such as addition or division, on an entire column of our dataframe. \n",
    "\n",
    " \n",
    "Let's multiply the weight column by 2:"
   ]
  },
  {
   "cell_type": "code",
   "execution_count": 44,
   "id": "9c7431cb-9848-4922-9e21-01eb140db4d6",
   "metadata": {
    "tags": []
   },
   "outputs": [
    {
     "data": {
      "text/plain": [
       "0      182.052185\n",
       "1      144.801384\n",
       "2      180.306819\n",
       "3      127.012705\n",
       "4      170.203778\n",
       "          ...    \n",
       "495    133.610396\n",
       "496    160.800372\n",
       "497    127.811550\n",
       "498           NaN\n",
       "499    103.900612\n",
       "Name: Weight, Length: 500, dtype: float64"
      ]
     },
     "execution_count": 44,
     "metadata": {},
     "output_type": "execute_result"
    }
   ],
   "source": [
    "# Multiply all weight values by 2\n",
    "df['Weight']*2"
   ]
  },
  {
   "cell_type": "markdown",
   "id": "890f3a08-5931-4fe7-af01-d1840bee019f",
   "metadata": {},
   "source": [
    "We can also create a new column that contains the previous calculation:"
   ]
  },
  {
   "cell_type": "code",
   "execution_count": 45,
   "id": "efeb38ce-61b4-4bef-a2de-6b88e48dd7ba",
   "metadata": {
    "tags": []
   },
   "outputs": [
    {
     "data": {
      "text/html": [
       "<div>\n",
       "<style scoped>\n",
       "    .dataframe tbody tr th:only-of-type {\n",
       "        vertical-align: middle;\n",
       "    }\n",
       "\n",
       "    .dataframe tbody tr th {\n",
       "        vertical-align: top;\n",
       "    }\n",
       "\n",
       "    .dataframe thead th {\n",
       "        text-align: right;\n",
       "    }\n",
       "</style>\n",
       "<table border=\"1\" class=\"dataframe\">\n",
       "  <thead>\n",
       "    <tr style=\"text-align: right;\">\n",
       "      <th></th>\n",
       "      <th>Id</th>\n",
       "      <th>Gender</th>\n",
       "      <th>Age</th>\n",
       "      <th>Income</th>\n",
       "      <th>Height</th>\n",
       "      <th>Weight</th>\n",
       "      <th>Weight_2</th>\n",
       "    </tr>\n",
       "  </thead>\n",
       "  <tbody>\n",
       "    <tr>\n",
       "      <th>0</th>\n",
       "      <td>1</td>\n",
       "      <td>M</td>\n",
       "      <td>64.0</td>\n",
       "      <td>24141.0</td>\n",
       "      <td>NaN</td>\n",
       "      <td>91.026092</td>\n",
       "      <td>182.052185</td>\n",
       "    </tr>\n",
       "    <tr>\n",
       "      <th>1</th>\n",
       "      <td>2</td>\n",
       "      <td>F</td>\n",
       "      <td>18.0</td>\n",
       "      <td>82523.0</td>\n",
       "      <td>189.533369</td>\n",
       "      <td>72.400692</td>\n",
       "      <td>144.801384</td>\n",
       "    </tr>\n",
       "    <tr>\n",
       "      <th>2</th>\n",
       "      <td>3</td>\n",
       "      <td>NaN</td>\n",
       "      <td>40.0</td>\n",
       "      <td>37928.0</td>\n",
       "      <td>153.884926</td>\n",
       "      <td>90.153410</td>\n",
       "      <td>180.306819</td>\n",
       "    </tr>\n",
       "    <tr>\n",
       "      <th>3</th>\n",
       "      <td>4</td>\n",
       "      <td>F</td>\n",
       "      <td>47.0</td>\n",
       "      <td>83622.0</td>\n",
       "      <td>189.395822</td>\n",
       "      <td>63.506353</td>\n",
       "      <td>127.012705</td>\n",
       "    </tr>\n",
       "    <tr>\n",
       "      <th>4</th>\n",
       "      <td>5</td>\n",
       "      <td>M</td>\n",
       "      <td>43.0</td>\n",
       "      <td>120475.0</td>\n",
       "      <td>155.234732</td>\n",
       "      <td>85.101889</td>\n",
       "      <td>170.203778</td>\n",
       "    </tr>\n",
       "    <tr>\n",
       "      <th>...</th>\n",
       "      <td>...</td>\n",
       "      <td>...</td>\n",
       "      <td>...</td>\n",
       "      <td>...</td>\n",
       "      <td>...</td>\n",
       "      <td>...</td>\n",
       "      <td>...</td>\n",
       "    </tr>\n",
       "    <tr>\n",
       "      <th>495</th>\n",
       "      <td>496</td>\n",
       "      <td>M</td>\n",
       "      <td>52.0</td>\n",
       "      <td>143234.0</td>\n",
       "      <td>156.044812</td>\n",
       "      <td>66.805198</td>\n",
       "      <td>133.610396</td>\n",
       "    </tr>\n",
       "    <tr>\n",
       "      <th>496</th>\n",
       "      <td>497</td>\n",
       "      <td>M</td>\n",
       "      <td>NaN</td>\n",
       "      <td>56023.0</td>\n",
       "      <td>159.155331</td>\n",
       "      <td>80.400186</td>\n",
       "      <td>160.800372</td>\n",
       "    </tr>\n",
       "    <tr>\n",
       "      <th>497</th>\n",
       "      <td>498</td>\n",
       "      <td>NaN</td>\n",
       "      <td>44.0</td>\n",
       "      <td>45923.0</td>\n",
       "      <td>180.344630</td>\n",
       "      <td>63.905775</td>\n",
       "      <td>127.811550</td>\n",
       "    </tr>\n",
       "    <tr>\n",
       "      <th>498</th>\n",
       "      <td>499</td>\n",
       "      <td>F</td>\n",
       "      <td>40.0</td>\n",
       "      <td>72164.0</td>\n",
       "      <td>151.121012</td>\n",
       "      <td>NaN</td>\n",
       "      <td>NaN</td>\n",
       "    </tr>\n",
       "    <tr>\n",
       "      <th>499</th>\n",
       "      <td>500</td>\n",
       "      <td>NaN</td>\n",
       "      <td>42.0</td>\n",
       "      <td>NaN</td>\n",
       "      <td>170.127901</td>\n",
       "      <td>51.950306</td>\n",
       "      <td>103.900612</td>\n",
       "    </tr>\n",
       "  </tbody>\n",
       "</table>\n",
       "<p>500 rows × 7 columns</p>\n",
       "</div>"
      ],
      "text/plain": [
       "      Id Gender   Age    Income      Height     Weight    Weight_2\n",
       "0      1      M  64.0   24141.0         NaN  91.026092  182.052185\n",
       "1      2      F  18.0   82523.0  189.533369  72.400692  144.801384\n",
       "2      3    NaN  40.0   37928.0  153.884926  90.153410  180.306819\n",
       "3      4      F  47.0   83622.0  189.395822  63.506353  127.012705\n",
       "4      5      M  43.0  120475.0  155.234732  85.101889  170.203778\n",
       "..   ...    ...   ...       ...         ...        ...         ...\n",
       "495  496      M  52.0  143234.0  156.044812  66.805198  133.610396\n",
       "496  497      M   NaN   56023.0  159.155331  80.400186  160.800372\n",
       "497  498    NaN  44.0   45923.0  180.344630  63.905775  127.811550\n",
       "498  499      F  40.0   72164.0  151.121012        NaN         NaN\n",
       "499  500    NaN  42.0       NaN  170.127901  51.950306  103.900612\n",
       "\n",
       "[500 rows x 7 columns]"
      ]
     },
     "execution_count": 45,
     "metadata": {},
     "output_type": "execute_result"
    }
   ],
   "source": [
    "#Creating a new column 'Weight_2' that is going to be equal to df['Weight']*2\n",
    "df['Weight_2'] = df['Weight']*2\n",
    "df"
   ]
  },
  {
   "cell_type": "markdown",
   "id": "a1613578-38de-4b55-bfa8-85a6ea2f1bd8",
   "metadata": {},
   "source": [
    "## Concatenating DataFrames\n",
    "Concatenating DataFrames refers to combining two or more DataFrames along a particular axis (either rows or columns) to create a single larger DataFrame. This is useful when we have data split across multiple DataFrames and we want to consolidate them into one for analysis or processing.\n",
    "\n",
    "In Pandas, we can use the **concat()** function to concatenate DataFrames. This function provides various options to control how the concatenation should be performed. \n",
    "\n",
    "Let’s say we have two DataFrames, **df1** and **df2**, and we want to concatenate them vertically (along rows):"
   ]
  },
  {
   "cell_type": "code",
   "execution_count": 46,
   "id": "9d980be9-f23a-4e15-9398-6418aa602516",
   "metadata": {
    "tags": []
   },
   "outputs": [
    {
     "name": "stdout",
     "output_type": "stream",
     "text": [
      "Concatenated Dataframe:\n",
      "    A   B\n",
      "0  1   4\n",
      "1  2   5\n",
      "2  3   6\n",
      "3  7  10\n",
      "4  8  11\n",
      "5  9  12\n"
     ]
    }
   ],
   "source": [
    "#Concatenate df1 and df2 vertically (along rows)\n",
    "\n",
    "# Sample DataFrames\n",
    "data1 = {'A': [1,2,3], 'B':[4,5,6]}\n",
    "data2 = {'A': [7,8,9], 'B': [10,11,12]}\n",
    "df1 = pd.DataFrame(data1)\n",
    "df2 = pd.DataFrame(data2)\n",
    "\n",
    "# Concatenate DataFrames vertically\n",
    "concatenated_df = pd.concat([df1,df2],ignore_index = True)\n",
    "print(\"Concatenated Dataframe:\\n\", concatenated_df)"
   ]
  },
  {
   "cell_type": "code",
   "execution_count": 47,
   "id": "f3b8e314-a605-4795-a7b9-89241dd79e24",
   "metadata": {
    "tags": []
   },
   "outputs": [
    {
     "name": "stdout",
     "output_type": "stream",
     "text": [
      "   A  B\n",
      "0  1  4\n",
      "1  2  5\n",
      "2  3  6\n",
      "   A   B\n",
      "0  7  10\n",
      "1  8  11\n",
      "2  9  12\n"
     ]
    }
   ],
   "source": [
    "print(df1)\n",
    "print(df2)"
   ]
  },
  {
   "cell_type": "markdown",
   "id": "f78a644a-cc7b-4ebb-bd4f-591986352c22",
   "metadata": {},
   "source": [
    "In this example, **pd.concat()** is used to concatenate df1 and df2 vertically into concatenated_df. The **ignore_index=True** argument ensures that the index is reset after concatenation."
   ]
  },
  {
   "cell_type": "markdown",
   "id": "e0374bbc-d19b-4291-a871-b3c235f6397f",
   "metadata": {},
   "source": [
    "We can also concatenate DataFrames **horizontally** by specifying **axis=1** as an argument to **pd.concat()**. This will merge the DataFrames along columns."
   ]
  },
  {
   "cell_type": "code",
   "execution_count": 48,
   "id": "ae880570-55d7-4f22-80d3-b70ff24a2801",
   "metadata": {
    "tags": []
   },
   "outputs": [
    {
     "name": "stdout",
     "output_type": "stream",
     "text": [
      "Horizontal Concatenated DataFrame:\n",
      "     A  B  C   D\n",
      "0  1  4  7  10\n",
      "1  2  5  8  11\n",
      "2  3  6  9  12\n"
     ]
    }
   ],
   "source": [
    "#Concatenate df1 and df2 horizontally\n",
    "\n",
    "# Sample DataFrames\n",
    "data1 = {'A': [1,2,3], 'B':[4,5,6]}\n",
    "data2 = {'C': [7,8,9], 'D': [10,11,12]}\n",
    "\n",
    "df1 = pd.DataFrame(data1)\n",
    "df2 = pd.DataFrame(data2)\n",
    "\n",
    "# Concatenate DataFrames horizontally\n",
    "concatenated_df_horizontal = pd.concat([df1,df2], axis = 1)\n",
    "print(\"Horizontal Concatenated DataFrame:\\n \", concatenated_df_horizontal)"
   ]
  },
  {
   "cell_type": "markdown",
   "id": "5bf41ca4-6f95-4e73-a11a-731dba534c46",
   "metadata": {},
   "source": [
    "## Saving Pandas DataFrame\n",
    "\n",
    "We can save a Pandas DataFrame to various file formats using different methods provided by Pandas. Before we move forward with saving  a pandas dataframe, let’s first create a new directory called “Results” within the directory that contains your code."
   ]
  },
  {
   "cell_type": "markdown",
   "id": "5e136d29-f3fe-4da2-bed0-8a67e4b115c3",
   "metadata": {},
   "source": [
    "Here are some commonly used methods to save a DataFrame:\n",
    "-  CSV Format: To save a DataFrame to a CSV file, we can use the to_csv() method:\n"
   ]
  },
  {
   "cell_type": "code",
   "execution_count": 50,
   "id": "09e024a1-aa66-4056-9567-80949430a5a5",
   "metadata": {
    "tags": []
   },
   "outputs": [],
   "source": [
    "# Save DataFrame to CSV file\n",
    "output_path = 'output.csv'\n",
    "df.to_csv(output_path, index = False)"
   ]
  },
  {
   "cell_type": "markdown",
   "id": "b88d0cca-f2a3-4e6d-89be-f87c42a2abad",
   "metadata": {},
   "source": [
    "-  Excel Format: To save a DataFrame to an Excel file, we can use the to_excel() method:"
   ]
  },
  {
   "cell_type": "code",
   "execution_count": 52,
   "id": "297c5711-f95d-4119-9159-80fda6d25fcb",
   "metadata": {
    "tags": []
   },
   "outputs": [],
   "source": [
    "# Save DataFrame to Excel file\n",
    "output_path = 'output.xlsx'\n",
    "df.to_excel(output_path, index = False)"
   ]
  },
  {
   "cell_type": "markdown",
   "id": "ac40f8eb-8a1b-44d8-94d8-b286ca347753",
   "metadata": {},
   "source": [
    "This will save the DataFrame to an Excel file named ‘output.xlsx’  inside a directory called “Results”, without including the index.\n"
   ]
  },
  {
   "cell_type": "markdown",
   "id": "5a686d5f-531f-46fc-92f1-273d683fa485",
   "metadata": {},
   "source": [
    "-  Other Formats: Pandas supports various other formats, including JSON, Parquet, HDF5, and more. We can use the appropriate method based on the desired format:\n",
    "\n",
    "    -   JSON: df.to_json(\"output.json\", orient=\"records\")\n",
    "    -   Parquet: df.to_parquet(\"output.parquet\")\n",
    "    -   HDF5: df.to_hdf(\"output.h5\", key=\"data\")\n",
    "\n",
    "Make sure to replace ‘output’ with your desired file name and extension.\n"
   ]
  },
  {
   "cell_type": "markdown",
   "id": "f4eaf78d-1b0b-4c1a-9f90-7a63292cd9fa",
   "metadata": {},
   "source": [
    "# Matplotlib\n",
    "Matplotlib is a powerful plotting library used for creating static, interactive, and animated visualizations in Python. It provides a wide array of functions and tools to generate graphs and plots, making it one of the most popular data visualization tools in the data science and analytics community. \n",
    "\n",
    "Let's start by importing our library:"
   ]
  },
  {
   "cell_type": "code",
   "execution_count": 53,
   "id": "b7327a1f-149c-443e-9b91-13fddd890d18",
   "metadata": {},
   "outputs": [],
   "source": [
    "import matplotlib.pyplot as plt"
   ]
  },
  {
   "cell_type": "markdown",
   "id": "85ee30ec-fd02-49ec-bc65-ae7c0cc24106",
   "metadata": {},
   "source": [
    "### Line Plot\n",
    "Line plots are used to visualize trends and changes in data over a continuous range, or time. We use line plots when we have data that can be represented as a series of points connected by lines, such as time series data or data with a natural ordering.\n",
    "\n",
    "Let's create a simple line plot using Matplotlib to visualize a set of data points:"
   ]
  },
  {
   "cell_type": "code",
   "execution_count": 54,
   "id": "c6cc20c1-8ad9-4a0a-b8a5-161b0d742b48",
   "metadata": {
    "tags": []
   },
   "outputs": [
    {
     "data": {
      "image/png": "[encoded data removed]",
      "text/plain": [
       "<Figure size 640x480 with 1 Axes>"
      ]
     },
     "metadata": {},
     "output_type": "display_data"
    }
   ],
   "source": [
    "# Sample data\n",
    "x = [1,2,3,4,5]\n",
    "y = [10,12,3,8,7]\n",
    "\n",
    "# Create a basic line plot\n",
    "plt.plot(x,y)\n",
    "\n",
    "# Add labels and a title\n",
    "plt.xlabel('X-axis')\n",
    "plt.ylabel('Y-axis')\n",
    "plt.title('Line Plot Example')\n",
    "\n",
    "# Show the plot\n",
    "plt.show()\n"
   ]
  },
  {
   "cell_type": "markdown",
   "id": "1f6129f4-2a5a-4f23-a9dd-3cbd6dead281",
   "metadata": {},
   "source": [
    "The line plot suggests a fluctuating trend in the data. There’s an initial increase in y values, followed by a sudden drop, then a slight recovery towards the end."
   ]
  },
  {
   "cell_type": "markdown",
   "id": "e59edb99-f980-4b40-9ad0-9a625f522b84",
   "metadata": {},
   "source": [
    "#### Code Explanation\n",
    "- **x** and **y** represent the sample data points that we want to plot.\n",
    "- **plt.plot(x, y)**: This line creates a basic line plot using the plot function. It takes x and y as arguments to plot the data points.\n",
    "- **plt.xlabel('X-axis')** and **plt.ylabel('Y-axis')**: These lines label the X and Y axes, respectively, providing context for the plot.\n",
    "- **plt.title('Line Plot Example')**: This line adds a title to the plot.\n",
    "- **plt.show()**: This function displays the plot on the screen."
   ]
  },
  {
   "cell_type": "markdown",
   "id": "db8ead4b-cc00-40f1-90d6-c26d3c2e6e58",
   "metadata": {},
   "source": [
    "### Scatter Plot\n",
    "Scatter plots are used to visualize individual data points as dots on a two-dimensional plane. They are valuable for identifying patterns, trends, and relationships between two variables. \n",
    "\n",
    "We will create a scatter plot using Matplotlib to visualize individual data points.\n"
   ]
  },
  {
   "cell_type": "code",
   "execution_count": 55,
   "id": "be7687e0-2a6f-4dc9-924e-7cbba5ae4abd",
   "metadata": {
    "tags": []
   },
   "outputs": [
    {
     "data": {
      "image/png": "[encoded data removed]",
      "text/plain": [
       "<Figure size 640x480 with 1 Axes>"
      ]
     },
     "metadata": {},
     "output_type": "display_data"
    }
   ],
   "source": [
    "# Sample data\n",
    "x =[1,2,3,4,5]\n",
    "y = [10,12,5,8,7]\n",
    "\n",
    "# Create a scatter plot\n",
    "plt.scatter(x,y, color = 'red', marker = ',', label='Data Points')\n",
    "\n",
    "# Add labels and a legend\n",
    "plt.xlabel('X-axis')\n",
    "plt.ylabel('Y-axis')\n",
    "plt.title('Scatter Plot Example')\n",
    "plt.legend()\n",
    "\n",
    "# Show the plot\n",
    "plt.show()"
   ]
  },
  {
   "cell_type": "markdown",
   "id": "326b81e5-c4ac-4a5e-9da1-7bcfd7171c8f",
   "metadata": {},
   "source": [
    "The scatter plot shows no clear trend or pattern, with data points scattered across the plot. An outlier at (3, 5) deviates significantly from the general grouping, indicating unique or unusual data. Scatter plots provide precise information about individual data points, but without a clear trend, conclusions are difficult."
   ]
  },
  {
   "cell_type": "markdown",
   "id": "3a8b2088-f9c1-409a-bce1-1843ca85dc63",
   "metadata": {},
   "source": [
    "#### Code Explanation\n",
    "- **x** and **y** represent the sample data points.\n",
    "- **plt.scatter(x, y, color='red', marker='o', label='Data Points')**: This line creates a scatter plot. We specify the color, marker style (in this case, a red circle), and label for the data points.\n",
    "- **plt.xlabel('X-axis')** and **plt.ylabel ('Y-axis')**: These lines label the X and Y axes, providing context for the plot.\n",
    "- **plt.legend()**: This line adds a legend to the plot, using the label provided in the scatter function.\n",
    "- **plt.show()**: This function displays the plot."
   ]
  },
  {
   "cell_type": "markdown",
   "id": "25304d62-6743-4e0d-ab1b-6df2795c2bf9",
   "metadata": {
    "tags": []
   },
   "source": [
    "### Bar Chart\n",
    "Bar charts represent categorical data with discrete bars, making it easy to compare values across different categories. We use bar charts when we want to compare data across categories, show rankings, or display frequencies or counts for discrete items.\n",
    "\n",
    "We will create a bar chart using Matplotlib to visualize categorical data and compare values."
   ]
  },
  {
   "cell_type": "code",
   "execution_count": 56,
   "id": "f5e83d75-5a9c-4997-b5b0-aed51a6605c5",
   "metadata": {
    "tags": []
   },
   "outputs": [
    {
     "data": {
      "image/png": "[encoded data removed]",
      "text/plain": [
       "<Figure size 640x480 with 1 Axes>"
      ]
     },
     "metadata": {},
     "output_type": "display_data"
    }
   ],
   "source": [
    "# Sample data\n",
    "categories = ['Category A', 'Category B', 'Category C']\n",
    "values =[25,40,30]\n",
    "\n",
    "# Create a bar chart\n",
    "plt.bar(categories,values, color='skyblue')\n",
    "\n",
    "# Add labels and a title\n",
    "plt.xlabel('Categories')\n",
    "plt.ylabel('Values')\n",
    "plt.title('Bar Chart Example')\n",
    "\n",
    "# Show the plot\n",
    "plt.show()"
   ]
  },
  {
   "cell_type": "markdown",
   "id": "dd08ba49-8055-48f9-a485-f9806a7cfacb",
   "metadata": {},
   "source": [
    "The bar chart allows for a straightforward comparison of values between different categories. We can easily see that ‘Category B’ has the highest value (40), followed by ‘Category C’ (30) and ‘Category A’ (25). Each bar represents a distinct category, making it easy to visually assess the relative magnitudes of each category. The vertical height of each bar directly corresponds to the value it represents. This provides a clear and intuitive representation of the data."
   ]
  },
  {
   "cell_type": "markdown",
   "id": "82a65329-5065-4534-aac0-30585e016b16",
   "metadata": {},
   "source": [
    "#### Code Explanation\n",
    "- **categories** and **values** represent the categorical data and their corresponding values.\n",
    "- **plt.bar(categories, values, color='skyblue')**: This line creates a bar chart. We specify the categories, values, and color for the bars.\n",
    "- **plt.xlabel('Categories')** and **plt.ylabel('Values')**: These lines label the X and Y axes, providing context for the plot.\n",
    "- **plt.title('Bar Chart Example')**: This line adds a title to the plot.\n",
    "- **plt.show()**: This function displays the plot"
   ]
  },
  {
   "cell_type": "markdown",
   "id": "54f3a4f0-3ade-415a-b2b5-ea9722b24a3a",
   "metadata": {},
   "source": [
    "### Histogram\n",
    "Histograms are used to visualize the distribution of a single continuous variable. They divide the data into bins or intervals and show the frequency or count of data points in each bin. We use histograms when we want to understand the shape of a dataset’s distribution, identify central tendencies (mean, median, mode), and observe data skewness or the presence of multiple peaks.\n",
    "\n",
    "We will create a histogram using Matplotlib to visualize the distribution of numerical data."
   ]
  },
  {
   "cell_type": "code",
   "execution_count": 57,
   "id": "9b422324-aa88-4385-91d7-1472edf900e8",
   "metadata": {
    "tags": []
   },
   "outputs": [
    {
     "data": {
      "image/png": "[encoded data removed]",
      "text/plain": [
       "<Figure size 640x480 with 1 Axes>"
      ]
     },
     "metadata": {},
     "output_type": "display_data"
    }
   ],
   "source": [
    "# Generate random data\n",
    "data = np.random.randn(1000)\n",
    "\n",
    "# Create a histogram\n",
    "plt.hist(data, bins = 20, color = 'green', alpha = 0.6)\n",
    "\n",
    "# Add labels and a title\n",
    "plt.xlabel('Values')\n",
    "plt.ylabel('Frequency')\n",
    "plt.title('Histogram Example')\n",
    "\n",
    "# Show the plot\n",
    "plt.show()"
   ]
  },
  {
   "cell_type": "markdown",
   "id": "d9d8437f-0631-4fe6-b75d-41dcbbd46cc7",
   "metadata": {},
   "source": [
    "The histogram provides insights into the shape of the data distribution. In this case, it appears to be approximately normally distributed, centered around zero. Each bin on the x-axis represents a range of values, and the height of the bars indicates how many data points fall within that range. For example, the tallest bar around zero indicates a higher frequency of values in that range. The spread of the bars shows the variability of the data. Wider distributions indicate more variability, while narrower distributions suggest less variation.\n",
    "\n",
    "Also remember, usually high bars or isolated bars far from the main cluster may indicate outliers or anomalies in the data. The center of the distribution (often represented by the highest point) gives an indication of the central tendency of the data."
   ]
  },
  {
   "cell_type": "markdown",
   "id": "fb847c03-979e-40e0-8268-a001827286cc",
   "metadata": {},
   "source": [
    "#### Code Explanation\n",
    "- data is generated as random data using NumPy’s **randn** function.\n",
    "- **plt.hist(data, bins=20, color='green', alpha=0.6)**: This line creates a histogram. We specify the data, the number of bins, the color of the bars, and their transparency (alpha).\n",
    "- **plt.xlabel('Values')** and **plt.ylabel('Frequency')**: These lines label the X and Y axes, providing context for the plot.\n",
    "- **plt.title('Histogram Example')**: This line adds a title to the plot.\n",
    "- **plt.show()**: This function displays the plot.\n"
   ]
  },
  {
   "cell_type": "markdown",
   "id": "58fd11aa-9d1b-4bc2-b8c5-649220905924",
   "metadata": {},
   "source": [
    "### Pie Chart\n",
    "Pie charts show the composition of a whole by dividing it into segments, typically representing proportions or percentages. We use pie charts when we want to visualize how individual components contribute to a whole, but be cautious with complex datasets or too many segments, as they can be challenging to interpret.\n",
    "\n",
    "We will create a pie chart using Matplotlib to represent the distribution of categories within a dataset.\n"
   ]
  },
  {
   "cell_type": "code",
   "execution_count": 58,
   "id": "51cd6ddc-f08f-4a6e-a8d5-4740a09efd6d",
   "metadata": {
    "tags": []
   },
   "outputs": [
    {
     "data": {
      "image/png": "[encoded data removed]",
      "text/plain": [
       "<Figure size 640x480 with 1 Axes>"
      ]
     },
     "metadata": {},
     "output_type": "display_data"
    }
   ],
   "source": [
    "# Sample data\n",
    "categories = ['Category A', 'Category B', 'Category C', 'Category D']\n",
    "sizes = [30,20,15,35]\n",
    "\n",
    "# Create a pie chart\n",
    "plt.pie(sizes, labels = categories, autopct = '%1.1f%%', startangle = 90, \n",
    "        colors=['gold','lightcoral','lightskyblue','lightgreen'] )\n",
    "\n",
    "# Add a title\n",
    "plt.title('Pie Chart Example')\n",
    "\n",
    "# Show the plot\n",
    "plt.show()"
   ]
  },
  {
   "cell_type": "markdown",
   "id": "86be3451-bb8e-4b74-8849-d0037c374ad7",
   "metadata": {},
   "source": [
    "The sizes of the wedges accurately represent the relative proportions of the categories. For example, ‘Category D’ (35%) has the largest segment, indicating it is the largest category.\n",
    "\n",
    "The pie chart allows for an easy visual comparison of the different categories. Viewers can quickly see which category is the largest and how the others compare."
   ]
  },
  {
   "cell_type": "markdown",
   "id": "8f0686a8-754a-4c08-bded-abaf6db94ad7",
   "metadata": {},
   "source": [
    "#### Code Explanation\n",
    "- **categories** and **sizes** represent the categories and their respective sizes.\n",
    "- **plt.pie(sizes, labels=categories, autopct='%1.1f%%', startangle=90, colors=['gold', 'lightcoral', 'lightskyblue', 'lightgreen'])**: This line creates a pie chart. We specify the sizes, labels, percentage format, starting angle, and colors for the pie slices.\n",
    "- **plt.title('Pie Chart Example')**: This line adds a title to the plot.\n",
    "- **plt.show()**: This function displays the pie chart."
   ]
  },
  {
   "cell_type": "markdown",
   "id": "a62df193-7ccc-4d30-9a34-abdb85d3b44e",
   "metadata": {},
   "source": [
    "## Plot and Save\n",
    "Saving a figure during visualization is crucial to preserve and share the insights gained from the data. It ensures that the visual representation is accessible for future reference, analysis, and communication with others.\n",
    "\n",
    "Here’s an example of how to create a simple line plot using Matplotlib and save it to an image file:\n"
   ]
  },
  {
   "cell_type": "code",
   "execution_count": 60,
   "id": "d62cf2a5-c320-437a-8467-93f0408aa690",
   "metadata": {
    "tags": []
   },
   "outputs": [
    {
     "data": {
      "image/png": "[encoded data removed]",
      "text/plain": [
       "<Figure size 640x480 with 1 Axes>"
      ]
     },
     "metadata": {},
     "output_type": "display_data"
    }
   ],
   "source": [
    "# Sample data\n",
    "x = [1,2,3,4,5]\n",
    "y = [10,12,5,8,7]\n",
    "\n",
    "# Create a line plot\n",
    "plt.plot(x,y)\n",
    "\n",
    "# Add labels and a title\n",
    "plt.xlabel('X-axis')\n",
    "plt.ylabel('Y-axis')\n",
    "plt.title('Line Plot Example')\n",
    "\n",
    "# Save the plot to an image file (e.g., PNG)\n",
    "plt.savefig('line_plot.png')\n",
    "\n",
    "# Show the plot (optional)\n",
    "plt.show()"
   ]
  },
  {
   "cell_type": "code",
   "execution_count": null,
   "id": "16ba9891-c629-4f65-a4cb-918c5b203b12",
   "metadata": {},
   "outputs": [],
   "source": []
  }
 ],
 "metadata": {
  "kernelspec": {
   "display_name": "Python 3 (ipykernel)",
   "language": "python",
   "name": "python3"
  },
  "language_info": {
   "codemirror_mode": {
    "name": "ipython",
    "version": 3
   },
   "file_extension": ".py",
   "mimetype": "text/x-python",
   "name": "python",
   "nbconvert_exporter": "python",
   "pygments_lexer": "ipython3",
   "version": "3.12.7"
  }
 },
 "nbformat": 4,
 "nbformat_minor": 5
}
